{
 "cells": [
  {
   "cell_type": "code",
   "execution_count": 36,
   "metadata": {},
   "outputs": [],
   "source": [
    "import pandas as pd \n",
    "import numpy as np\n",
    "activity = pd.read_csv(r'C:\\Users\\Usuario\\Desktop\\DataScience\\Material didáctico\\TFM\\datasets_TFM + diccionario\\customer_commercial_activity.csv', index_col = 0)"
   ]
  },
  {
   "cell_type": "code",
   "execution_count": 37,
   "metadata": {},
   "outputs": [
    {
     "data": {
      "text/html": [
       "<div>\n",
       "<style scoped>\n",
       "    .dataframe tbody tr th:only-of-type {\n",
       "        vertical-align: middle;\n",
       "    }\n",
       "\n",
       "    .dataframe tbody tr th {\n",
       "        vertical-align: top;\n",
       "    }\n",
       "\n",
       "    .dataframe thead th {\n",
       "        text-align: right;\n",
       "    }\n",
       "</style>\n",
       "<table border=\"1\" class=\"dataframe\">\n",
       "  <thead>\n",
       "    <tr style=\"text-align: right;\">\n",
       "      <th></th>\n",
       "      <th>pk_cid</th>\n",
       "      <th>pk_partition</th>\n",
       "      <th>entry_date</th>\n",
       "      <th>entry_channel</th>\n",
       "      <th>active_customer</th>\n",
       "      <th>segment</th>\n",
       "    </tr>\n",
       "  </thead>\n",
       "  <tbody>\n",
       "    <tr>\n",
       "      <th>0</th>\n",
       "      <td>1375586</td>\n",
       "      <td>2018-01</td>\n",
       "      <td>2018-01</td>\n",
       "      <td>KHL</td>\n",
       "      <td>1.0</td>\n",
       "      <td>02 - PARTICULARES</td>\n",
       "    </tr>\n",
       "    <tr>\n",
       "      <th>1</th>\n",
       "      <td>1050611</td>\n",
       "      <td>2018-01</td>\n",
       "      <td>2015-08</td>\n",
       "      <td>KHE</td>\n",
       "      <td>0.0</td>\n",
       "      <td>03 - UNIVERSITARIO</td>\n",
       "    </tr>\n",
       "    <tr>\n",
       "      <th>2</th>\n",
       "      <td>1050612</td>\n",
       "      <td>2018-01</td>\n",
       "      <td>2015-08</td>\n",
       "      <td>KHE</td>\n",
       "      <td>0.0</td>\n",
       "      <td>03 - UNIVERSITARIO</td>\n",
       "    </tr>\n",
       "    <tr>\n",
       "      <th>3</th>\n",
       "      <td>1050613</td>\n",
       "      <td>2018-01</td>\n",
       "      <td>2015-08</td>\n",
       "      <td>KHD</td>\n",
       "      <td>0.0</td>\n",
       "      <td>03 - UNIVERSITARIO</td>\n",
       "    </tr>\n",
       "    <tr>\n",
       "      <th>4</th>\n",
       "      <td>1050614</td>\n",
       "      <td>2018-01</td>\n",
       "      <td>2015-08</td>\n",
       "      <td>KHE</td>\n",
       "      <td>1.0</td>\n",
       "      <td>03 - UNIVERSITARIO</td>\n",
       "    </tr>\n",
       "    <tr>\n",
       "      <th>...</th>\n",
       "      <td>...</td>\n",
       "      <td>...</td>\n",
       "      <td>...</td>\n",
       "      <td>...</td>\n",
       "      <td>...</td>\n",
       "      <td>...</td>\n",
       "    </tr>\n",
       "    <tr>\n",
       "      <th>13647304</th>\n",
       "      <td>1166765</td>\n",
       "      <td>2019-05</td>\n",
       "      <td>2016-08</td>\n",
       "      <td>KHE</td>\n",
       "      <td>0.0</td>\n",
       "      <td>03 - UNIVERSITARIO</td>\n",
       "    </tr>\n",
       "    <tr>\n",
       "      <th>13647305</th>\n",
       "      <td>1166764</td>\n",
       "      <td>2019-05</td>\n",
       "      <td>2016-08</td>\n",
       "      <td>KHE</td>\n",
       "      <td>0.0</td>\n",
       "      <td>03 - UNIVERSITARIO</td>\n",
       "    </tr>\n",
       "    <tr>\n",
       "      <th>13647306</th>\n",
       "      <td>1166763</td>\n",
       "      <td>2019-05</td>\n",
       "      <td>2016-08</td>\n",
       "      <td>KHE</td>\n",
       "      <td>1.0</td>\n",
       "      <td>02 - PARTICULARES</td>\n",
       "    </tr>\n",
       "    <tr>\n",
       "      <th>13647307</th>\n",
       "      <td>1166789</td>\n",
       "      <td>2019-05</td>\n",
       "      <td>2016-08</td>\n",
       "      <td>KHE</td>\n",
       "      <td>0.0</td>\n",
       "      <td>03 - UNIVERSITARIO</td>\n",
       "    </tr>\n",
       "    <tr>\n",
       "      <th>13647308</th>\n",
       "      <td>1550586</td>\n",
       "      <td>2019-05</td>\n",
       "      <td>2019-05</td>\n",
       "      <td>NaN</td>\n",
       "      <td>1.0</td>\n",
       "      <td>NaN</td>\n",
       "    </tr>\n",
       "  </tbody>\n",
       "</table>\n",
       "<p>5962924 rows × 6 columns</p>\n",
       "</div>"
      ],
      "text/plain": [
       "           pk_cid pk_partition entry_date entry_channel  active_customer  \\\n",
       "0         1375586      2018-01    2018-01           KHL              1.0   \n",
       "1         1050611      2018-01    2015-08           KHE              0.0   \n",
       "2         1050612      2018-01    2015-08           KHE              0.0   \n",
       "3         1050613      2018-01    2015-08           KHD              0.0   \n",
       "4         1050614      2018-01    2015-08           KHE              1.0   \n",
       "...           ...          ...        ...           ...              ...   \n",
       "13647304  1166765      2019-05    2016-08           KHE              0.0   \n",
       "13647305  1166764      2019-05    2016-08           KHE              0.0   \n",
       "13647306  1166763      2019-05    2016-08           KHE              1.0   \n",
       "13647307  1166789      2019-05    2016-08           KHE              0.0   \n",
       "13647308  1550586      2019-05    2019-05           NaN              1.0   \n",
       "\n",
       "                     segment  \n",
       "0          02 - PARTICULARES  \n",
       "1         03 - UNIVERSITARIO  \n",
       "2         03 - UNIVERSITARIO  \n",
       "3         03 - UNIVERSITARIO  \n",
       "4         03 - UNIVERSITARIO  \n",
       "...                      ...  \n",
       "13647304  03 - UNIVERSITARIO  \n",
       "13647305  03 - UNIVERSITARIO  \n",
       "13647306   02 - PARTICULARES  \n",
       "13647307  03 - UNIVERSITARIO  \n",
       "13647308                 NaN  \n",
       "\n",
       "[5962924 rows x 6 columns]"
      ]
     },
     "execution_count": 37,
     "metadata": {},
     "output_type": "execute_result"
    }
   ],
   "source": [
    "activity\n"
   ]
  },
  {
   "cell_type": "markdown",
   "metadata": {},
   "source": [
    "### ESTADÍSTICA DESCRIPTIVA"
   ]
  },
  {
   "cell_type": "code",
   "execution_count": 38,
   "metadata": {},
   "outputs": [
    {
     "name": "stdout",
     "output_type": "stream",
     "text": [
      "<class 'pandas.core.frame.DataFrame'>\n",
      "Index: 5962924 entries, 0 to 13647308\n",
      "Data columns (total 6 columns):\n",
      " #   Column           Dtype  \n",
      "---  ------           -----  \n",
      " 0   pk_cid           int64  \n",
      " 1   pk_partition     object \n",
      " 2   entry_date       object \n",
      " 3   entry_channel    object \n",
      " 4   active_customer  float64\n",
      " 5   segment          object \n",
      "dtypes: float64(1), int64(1), object(4)\n",
      "memory usage: 318.5+ MB\n"
     ]
    }
   ],
   "source": [
    "activity.info()"
   ]
  },
  {
   "cell_type": "code",
   "execution_count": 39,
   "metadata": {},
   "outputs": [
    {
     "data": {
      "text/html": [
       "<div>\n",
       "<style scoped>\n",
       "    .dataframe tbody tr th:only-of-type {\n",
       "        vertical-align: middle;\n",
       "    }\n",
       "\n",
       "    .dataframe tbody tr th {\n",
       "        vertical-align: top;\n",
       "    }\n",
       "\n",
       "    .dataframe thead th {\n",
       "        text-align: right;\n",
       "    }\n",
       "</style>\n",
       "<table border=\"1\" class=\"dataframe\">\n",
       "  <thead>\n",
       "    <tr style=\"text-align: right;\">\n",
       "      <th></th>\n",
       "      <th>pk_cid</th>\n",
       "      <th>active_customer</th>\n",
       "    </tr>\n",
       "  </thead>\n",
       "  <tbody>\n",
       "    <tr>\n",
       "      <th>count</th>\n",
       "      <td>5.962924e+06</td>\n",
       "      <td>5.962924e+06</td>\n",
       "    </tr>\n",
       "    <tr>\n",
       "      <th>mean</th>\n",
       "      <td>1.234930e+06</td>\n",
       "      <td>4.033845e-01</td>\n",
       "    </tr>\n",
       "    <tr>\n",
       "      <th>std</th>\n",
       "      <td>1.623020e+05</td>\n",
       "      <td>4.905767e-01</td>\n",
       "    </tr>\n",
       "    <tr>\n",
       "      <th>min</th>\n",
       "      <td>1.589100e+04</td>\n",
       "      <td>0.000000e+00</td>\n",
       "    </tr>\n",
       "    <tr>\n",
       "      <th>25%</th>\n",
       "      <td>1.112532e+06</td>\n",
       "      <td>0.000000e+00</td>\n",
       "    </tr>\n",
       "    <tr>\n",
       "      <th>50%</th>\n",
       "      <td>1.231097e+06</td>\n",
       "      <td>0.000000e+00</td>\n",
       "    </tr>\n",
       "    <tr>\n",
       "      <th>75%</th>\n",
       "      <td>1.352339e+06</td>\n",
       "      <td>1.000000e+00</td>\n",
       "    </tr>\n",
       "    <tr>\n",
       "      <th>max</th>\n",
       "      <td>1.553689e+06</td>\n",
       "      <td>1.000000e+00</td>\n",
       "    </tr>\n",
       "  </tbody>\n",
       "</table>\n",
       "</div>"
      ],
      "text/plain": [
       "             pk_cid  active_customer\n",
       "count  5.962924e+06     5.962924e+06\n",
       "mean   1.234930e+06     4.033845e-01\n",
       "std    1.623020e+05     4.905767e-01\n",
       "min    1.589100e+04     0.000000e+00\n",
       "25%    1.112532e+06     0.000000e+00\n",
       "50%    1.231097e+06     0.000000e+00\n",
       "75%    1.352339e+06     1.000000e+00\n",
       "max    1.553689e+06     1.000000e+00"
      ]
     },
     "execution_count": 39,
     "metadata": {},
     "output_type": "execute_result"
    }
   ],
   "source": [
    "activity.describe()"
   ]
  },
  {
   "cell_type": "markdown",
   "metadata": {},
   "source": [
    "### MIRAMOS QUE VALORES HAY NULOS Y DUPLICADOS EN EL DATASET"
   ]
  },
  {
   "cell_type": "code",
   "execution_count": 40,
   "metadata": {},
   "outputs": [
    {
     "data": {
      "text/plain": [
       "0"
      ]
     },
     "execution_count": 40,
     "metadata": {},
     "output_type": "execute_result"
    }
   ],
   "source": [
    "activity['pk_cid'].isnull().sum()"
   ]
  },
  {
   "cell_type": "code",
   "execution_count": 41,
   "metadata": {},
   "outputs": [
    {
     "data": {
      "text/plain": [
       "5962924"
      ]
     },
     "execution_count": 41,
     "metadata": {},
     "output_type": "execute_result"
    }
   ],
   "source": [
    "activity['pk_cid'].value_counts().sum()"
   ]
  },
  {
   "cell_type": "code",
   "execution_count": 42,
   "metadata": {},
   "outputs": [
    {
     "data": {
      "text/plain": [
       "pk_cid\n",
       "1375586    17\n",
       "1328781    17\n",
       "1328783    17\n",
       "1328784    17\n",
       "1328786    17\n",
       "           ..\n",
       "1521045     1\n",
       "1545224     1\n",
       "1470941     1\n",
       "1521049     1\n",
       "1550586     1\n",
       "Name: count, Length: 456373, dtype: int64"
      ]
     },
     "execution_count": 42,
     "metadata": {},
     "output_type": "execute_result"
    }
   ],
   "source": [
    "activity['pk_cid'].value_counts()"
   ]
  },
  {
   "cell_type": "code",
   "execution_count": 43,
   "metadata": {},
   "outputs": [
    {
     "data": {
      "text/html": [
       "<div>\n",
       "<style scoped>\n",
       "    .dataframe tbody tr th:only-of-type {\n",
       "        vertical-align: middle;\n",
       "    }\n",
       "\n",
       "    .dataframe tbody tr th {\n",
       "        vertical-align: top;\n",
       "    }\n",
       "\n",
       "    .dataframe thead th {\n",
       "        text-align: right;\n",
       "    }\n",
       "</style>\n",
       "<table border=\"1\" class=\"dataframe\">\n",
       "  <thead>\n",
       "    <tr style=\"text-align: right;\">\n",
       "      <th></th>\n",
       "      <th>pk_cid</th>\n",
       "      <th>pk_partition</th>\n",
       "      <th>entry_date</th>\n",
       "      <th>entry_channel</th>\n",
       "      <th>active_customer</th>\n",
       "      <th>segment</th>\n",
       "    </tr>\n",
       "  </thead>\n",
       "  <tbody>\n",
       "    <tr>\n",
       "      <th>625526</th>\n",
       "      <td>545019</td>\n",
       "      <td>2018-02</td>\n",
       "      <td>2015-02</td>\n",
       "      <td>KAT</td>\n",
       "      <td>1.0</td>\n",
       "      <td>02 - PARTICULARES</td>\n",
       "    </tr>\n",
       "    <tr>\n",
       "      <th>625546</th>\n",
       "      <td>545354</td>\n",
       "      <td>2018-02</td>\n",
       "      <td>2018-01</td>\n",
       "      <td>KFA</td>\n",
       "      <td>1.0</td>\n",
       "      <td>02 - PARTICULARES</td>\n",
       "    </tr>\n",
       "    <tr>\n",
       "      <th>625665</th>\n",
       "      <td>544616</td>\n",
       "      <td>2018-02</td>\n",
       "      <td>2015-02</td>\n",
       "      <td>KFA</td>\n",
       "      <td>1.0</td>\n",
       "      <td>02 - PARTICULARES</td>\n",
       "    </tr>\n",
       "    <tr>\n",
       "      <th>625904</th>\n",
       "      <td>546332</td>\n",
       "      <td>2018-02</td>\n",
       "      <td>2017-05</td>\n",
       "      <td>KAT</td>\n",
       "      <td>0.0</td>\n",
       "      <td>02 - PARTICULARES</td>\n",
       "    </tr>\n",
       "    <tr>\n",
       "      <th>626397</th>\n",
       "      <td>544296</td>\n",
       "      <td>2018-02</td>\n",
       "      <td>2017-08</td>\n",
       "      <td>KAT</td>\n",
       "      <td>1.0</td>\n",
       "      <td>02 - PARTICULARES</td>\n",
       "    </tr>\n",
       "    <tr>\n",
       "      <th>...</th>\n",
       "      <td>...</td>\n",
       "      <td>...</td>\n",
       "      <td>...</td>\n",
       "      <td>...</td>\n",
       "      <td>...</td>\n",
       "      <td>...</td>\n",
       "    </tr>\n",
       "    <tr>\n",
       "      <th>13647303</th>\n",
       "      <td>1166766</td>\n",
       "      <td>2019-05</td>\n",
       "      <td>2016-08</td>\n",
       "      <td>KHE</td>\n",
       "      <td>0.0</td>\n",
       "      <td>03 - UNIVERSITARIO</td>\n",
       "    </tr>\n",
       "    <tr>\n",
       "      <th>13647304</th>\n",
       "      <td>1166765</td>\n",
       "      <td>2019-05</td>\n",
       "      <td>2016-08</td>\n",
       "      <td>KHE</td>\n",
       "      <td>0.0</td>\n",
       "      <td>03 - UNIVERSITARIO</td>\n",
       "    </tr>\n",
       "    <tr>\n",
       "      <th>13647305</th>\n",
       "      <td>1166764</td>\n",
       "      <td>2019-05</td>\n",
       "      <td>2016-08</td>\n",
       "      <td>KHE</td>\n",
       "      <td>0.0</td>\n",
       "      <td>03 - UNIVERSITARIO</td>\n",
       "    </tr>\n",
       "    <tr>\n",
       "      <th>13647306</th>\n",
       "      <td>1166763</td>\n",
       "      <td>2019-05</td>\n",
       "      <td>2016-08</td>\n",
       "      <td>KHE</td>\n",
       "      <td>1.0</td>\n",
       "      <td>02 - PARTICULARES</td>\n",
       "    </tr>\n",
       "    <tr>\n",
       "      <th>13647307</th>\n",
       "      <td>1166789</td>\n",
       "      <td>2019-05</td>\n",
       "      <td>2016-08</td>\n",
       "      <td>KHE</td>\n",
       "      <td>0.0</td>\n",
       "      <td>03 - UNIVERSITARIO</td>\n",
       "    </tr>\n",
       "  </tbody>\n",
       "</table>\n",
       "<p>5506551 rows × 6 columns</p>\n",
       "</div>"
      ],
      "text/plain": [
       "           pk_cid pk_partition entry_date entry_channel  active_customer  \\\n",
       "625526     545019      2018-02    2015-02           KAT              1.0   \n",
       "625546     545354      2018-02    2018-01           KFA              1.0   \n",
       "625665     544616      2018-02    2015-02           KFA              1.0   \n",
       "625904     546332      2018-02    2017-05           KAT              0.0   \n",
       "626397     544296      2018-02    2017-08           KAT              1.0   \n",
       "...           ...          ...        ...           ...              ...   \n",
       "13647303  1166766      2019-05    2016-08           KHE              0.0   \n",
       "13647304  1166765      2019-05    2016-08           KHE              0.0   \n",
       "13647305  1166764      2019-05    2016-08           KHE              0.0   \n",
       "13647306  1166763      2019-05    2016-08           KHE              1.0   \n",
       "13647307  1166789      2019-05    2016-08           KHE              0.0   \n",
       "\n",
       "                     segment  \n",
       "625526     02 - PARTICULARES  \n",
       "625546     02 - PARTICULARES  \n",
       "625665     02 - PARTICULARES  \n",
       "625904     02 - PARTICULARES  \n",
       "626397     02 - PARTICULARES  \n",
       "...                      ...  \n",
       "13647303  03 - UNIVERSITARIO  \n",
       "13647304  03 - UNIVERSITARIO  \n",
       "13647305  03 - UNIVERSITARIO  \n",
       "13647306   02 - PARTICULARES  \n",
       "13647307  03 - UNIVERSITARIO  \n",
       "\n",
       "[5506551 rows x 6 columns]"
      ]
     },
     "execution_count": 43,
     "metadata": {},
     "output_type": "execute_result"
    }
   ],
   "source": [
    "activity[activity['pk_cid'].duplicated()]"
   ]
  },
  {
   "cell_type": "code",
   "execution_count": 44,
   "metadata": {},
   "outputs": [
    {
     "data": {
      "text/plain": [
       "array(['2018-01', '2018-02', '2018-03', '2018-04', '2018-05', '2018-06',\n",
       "       '2018-07', '2018-08', '2018-09', '2018-10', '2018-11', '2018-12',\n",
       "       '2019-01', '2019-02', '2019-03', '2019-04', '2019-05'],\n",
       "      dtype=object)"
      ]
     },
     "execution_count": 44,
     "metadata": {},
     "output_type": "execute_result"
    }
   ],
   "source": [
    "activity['pk_partition'].unique()"
   ]
  },
  {
   "cell_type": "code",
   "execution_count": 45,
   "metadata": {},
   "outputs": [
    {
     "data": {
      "text/plain": [
       "array(['2018-01', '2015-08', '2015-10', '2017-07', '2017-10', '2015-12',\n",
       "       '2015-09', '2017-09', '2016-01', '2017-08', '2016-03', '2016-07',\n",
       "       '2016-04', '2017-12', '2016-02', '2017-01', '2016-12', '2015-11',\n",
       "       '2016-05', '2017-03', '2016-11', '2016-10', '2017-11', '2017-06',\n",
       "       '2017-04', '2017-02', '2016-06', '2015-07', '2016-09', '2017-05',\n",
       "       '2015-05', '2015-06', '2015-04', '2016-08', '2015-01', '2015-03',\n",
       "       '2015-02', '2018-02', '2018-03', '2018-04', '2018-05', '2018-06',\n",
       "       '2018-07', '2018-08', '2018-09', '2018-10', '2018-11', '2018-12',\n",
       "       '2019-01', '2019-02', '2019-03', '2019-04', '2019-05'],\n",
       "      dtype=object)"
      ]
     },
     "execution_count": 45,
     "metadata": {},
     "output_type": "execute_result"
    }
   ],
   "source": [
    "activity['entry_date'].unique()"
   ]
  },
  {
   "cell_type": "code",
   "execution_count": 46,
   "metadata": {},
   "outputs": [
    {
     "data": {
      "text/plain": [
       "entry_date\n",
       "2016-10    382473\n",
       "2017-10    340613\n",
       "2015-10    310295\n",
       "2017-09    294752\n",
       "2017-07    267173\n",
       "2016-08    252704\n",
       "2015-08    221984\n",
       "2015-07    220941\n",
       "2017-11    217751\n",
       "2015-09    217174\n",
       "2018-10    216947\n",
       "2015-11    210687\n",
       "2016-09    206107\n",
       "2018-09    202262\n",
       "2016-07    189225\n",
       "2016-11    188601\n",
       "2018-07    178215\n",
       "2017-08    162534\n",
       "2018-08    138420\n",
       "2017-12    123456\n",
       "2018-11    103073\n",
       "2016-12     89423\n",
       "2015-12     82347\n",
       "2017-01     65539\n",
       "2018-02     61283\n",
       "2018-01     59721\n",
       "2017-06     54925\n",
       "2018-03     51022\n",
       "2016-01     50830\n",
       "2017-02     50561\n",
       "2017-03     50268\n",
       "2017-05     50165\n",
       "2017-04     47729\n",
       "2018-04     43480\n",
       "2018-12     41244\n",
       "2018-05     40563\n",
       "2015-05     40001\n",
       "2016-04     35682\n",
       "2018-06     35590\n",
       "2015-03     35322\n",
       "2015-04     34706\n",
       "2016-05     33234\n",
       "2015-06     33062\n",
       "2019-01     32640\n",
       "2015-02     30626\n",
       "2016-06     30095\n",
       "2015-01     29646\n",
       "2016-02     29552\n",
       "2016-03     27329\n",
       "2019-02     23533\n",
       "2019-03     14434\n",
       "2019-04      8602\n",
       "2019-05      4383\n",
       "Name: count, dtype: int64"
      ]
     },
     "execution_count": 46,
     "metadata": {},
     "output_type": "execute_result"
    }
   ],
   "source": [
    "activity['entry_date'].value_counts()"
   ]
  },
  {
   "cell_type": "code",
   "execution_count": 47,
   "metadata": {},
   "outputs": [
    {
     "data": {
      "text/plain": [
       "entry_channel\n",
       "KHE    3113947\n",
       "KFC     890620\n",
       "KHQ     590280\n",
       "KAT     416084\n",
       "KHK     230197\n",
       "        ...   \n",
       "KEJ          8\n",
       "KHS          5\n",
       "KDA          2\n",
       "KFP          2\n",
       "KDS          1\n",
       "Name: count, Length: 68, dtype: int64"
      ]
     },
     "execution_count": 47,
     "metadata": {},
     "output_type": "execute_result"
    }
   ],
   "source": [
    "activity['entry_channel'].value_counts()"
   ]
  },
  {
   "cell_type": "code",
   "execution_count": 48,
   "metadata": {},
   "outputs": [
    {
     "data": {
      "text/plain": [
       "array(['KHL', 'KHE', 'KHD', 'KFA', 'KFC', 'KAT', 'KAZ', 'RED', 'KHC',\n",
       "       'KHK', 'KGN', 'KHM', 'KHO', 'KDH', 'KEH', 'KAD', 'KBG', nan, 'KGC',\n",
       "       'KHF', 'KFK', 'KHN', 'KAB', 'KAG', 'KAA', 'KGX', 'KAR', 'KAK',\n",
       "       'KBZ', '007', 'KBO', 'KCB', '013', 'KAY', 'KBE', 'KAS', 'KCL',\n",
       "       '004', 'KAF', 'KCC', 'KEY', 'KDT', 'KAQ', 'KAH', 'KAM', 'KAJ',\n",
       "       'KFD', 'KCH', 'KFS', 'KAW', 'KAE', 'KBH', 'KDR', 'KHQ', 'KBW',\n",
       "       'KBY', 'KCI', 'KEJ', 'KFF', 'KBU', 'KAI', 'KCK', 'KDA', 'KES',\n",
       "       'KHP', 'KFL', 'KDS', 'KFP', 'KHS'], dtype=object)"
      ]
     },
     "execution_count": 48,
     "metadata": {},
     "output_type": "execute_result"
    }
   ],
   "source": [
    "activity['entry_channel'].unique()"
   ]
  },
  {
   "cell_type": "code",
   "execution_count": 49,
   "metadata": {},
   "outputs": [
    {
     "data": {
      "text/plain": [
       "array(['02 - PARTICULARES', '03 - UNIVERSITARIO', '01 - TOP', nan],\n",
       "      dtype=object)"
      ]
     },
     "execution_count": 49,
     "metadata": {},
     "output_type": "execute_result"
    }
   ],
   "source": [
    "activity['segment'].unique()"
   ]
  },
  {
   "cell_type": "code",
   "execution_count": 50,
   "metadata": {},
   "outputs": [
    {
     "data": {
      "text/plain": [
       "segment\n",
       "03 - UNIVERSITARIO    3900166\n",
       "02 - PARTICULARES     1830875\n",
       "01 - TOP                97939\n",
       "Name: count, dtype: int64"
      ]
     },
     "execution_count": 50,
     "metadata": {},
     "output_type": "execute_result"
    }
   ],
   "source": [
    "activity['segment'].value_counts()"
   ]
  },
  {
   "cell_type": "code",
   "execution_count": 51,
   "metadata": {},
   "outputs": [
    {
     "data": {
      "text/plain": [
       "0"
      ]
     },
     "execution_count": 51,
     "metadata": {},
     "output_type": "execute_result"
    }
   ],
   "source": [
    "activity['entry_date'].isnull().sum()"
   ]
  },
  {
   "cell_type": "code",
   "execution_count": 52,
   "metadata": {},
   "outputs": [
    {
     "data": {
      "text/plain": [
       "133033"
      ]
     },
     "execution_count": 52,
     "metadata": {},
     "output_type": "execute_result"
    }
   ],
   "source": [
    "activity['entry_channel'].isnull().sum()"
   ]
  },
  {
   "cell_type": "code",
   "execution_count": 53,
   "metadata": {},
   "outputs": [
    {
     "data": {
      "text/plain": [
       "0"
      ]
     },
     "execution_count": 53,
     "metadata": {},
     "output_type": "execute_result"
    }
   ],
   "source": [
    "activity['active_customer'].isnull().sum()"
   ]
  },
  {
   "cell_type": "code",
   "execution_count": 54,
   "metadata": {},
   "outputs": [
    {
     "data": {
      "text/plain": [
       "133944"
      ]
     },
     "execution_count": 54,
     "metadata": {},
     "output_type": "execute_result"
    }
   ],
   "source": [
    "activity['segment'].isnull().sum()"
   ]
  },
  {
   "cell_type": "code",
   "execution_count": 55,
   "metadata": {},
   "outputs": [
    {
     "data": {
      "text/html": [
       "<div>\n",
       "<style scoped>\n",
       "    .dataframe tbody tr th:only-of-type {\n",
       "        vertical-align: middle;\n",
       "    }\n",
       "\n",
       "    .dataframe tbody tr th {\n",
       "        vertical-align: top;\n",
       "    }\n",
       "\n",
       "    .dataframe thead th {\n",
       "        text-align: right;\n",
       "    }\n",
       "</style>\n",
       "<table border=\"1\" class=\"dataframe\">\n",
       "  <thead>\n",
       "    <tr style=\"text-align: right;\">\n",
       "      <th></th>\n",
       "      <th>pk_cid</th>\n",
       "      <th>pk_partition</th>\n",
       "      <th>entry_date</th>\n",
       "      <th>entry_channel</th>\n",
       "      <th>active_customer</th>\n",
       "      <th>segment</th>\n",
       "    </tr>\n",
       "  </thead>\n",
       "  <tbody>\n",
       "    <tr>\n",
       "      <th>18765</th>\n",
       "      <td>1060507</td>\n",
       "      <td>2018-01</td>\n",
       "      <td>2015-10</td>\n",
       "      <td>KFC</td>\n",
       "      <td>0.0</td>\n",
       "      <td>NaN</td>\n",
       "    </tr>\n",
       "    <tr>\n",
       "      <th>30944</th>\n",
       "      <td>1035728</td>\n",
       "      <td>2018-01</td>\n",
       "      <td>2015-07</td>\n",
       "      <td>NaN</td>\n",
       "      <td>0.0</td>\n",
       "      <td>NaN</td>\n",
       "    </tr>\n",
       "    <tr>\n",
       "      <th>34117</th>\n",
       "      <td>1040205</td>\n",
       "      <td>2018-01</td>\n",
       "      <td>2015-08</td>\n",
       "      <td>NaN</td>\n",
       "      <td>1.0</td>\n",
       "      <td>NaN</td>\n",
       "    </tr>\n",
       "    <tr>\n",
       "      <th>52966</th>\n",
       "      <td>1125388</td>\n",
       "      <td>2018-01</td>\n",
       "      <td>2016-03</td>\n",
       "      <td>RED</td>\n",
       "      <td>0.0</td>\n",
       "      <td>NaN</td>\n",
       "    </tr>\n",
       "    <tr>\n",
       "      <th>57893</th>\n",
       "      <td>1115187</td>\n",
       "      <td>2018-01</td>\n",
       "      <td>2015-12</td>\n",
       "      <td>NaN</td>\n",
       "      <td>1.0</td>\n",
       "      <td>NaN</td>\n",
       "    </tr>\n",
       "    <tr>\n",
       "      <th>...</th>\n",
       "      <td>...</td>\n",
       "      <td>...</td>\n",
       "      <td>...</td>\n",
       "      <td>...</td>\n",
       "      <td>...</td>\n",
       "      <td>...</td>\n",
       "    </tr>\n",
       "    <tr>\n",
       "      <th>13632377</th>\n",
       "      <td>1185013</td>\n",
       "      <td>2019-05</td>\n",
       "      <td>2019-05</td>\n",
       "      <td>NaN</td>\n",
       "      <td>1.0</td>\n",
       "      <td>NaN</td>\n",
       "    </tr>\n",
       "    <tr>\n",
       "      <th>13641337</th>\n",
       "      <td>1168909</td>\n",
       "      <td>2019-05</td>\n",
       "      <td>2016-08</td>\n",
       "      <td>NaN</td>\n",
       "      <td>1.0</td>\n",
       "      <td>NaN</td>\n",
       "    </tr>\n",
       "    <tr>\n",
       "      <th>13642462</th>\n",
       "      <td>1173729</td>\n",
       "      <td>2019-05</td>\n",
       "      <td>2016-09</td>\n",
       "      <td>NaN</td>\n",
       "      <td>1.0</td>\n",
       "      <td>NaN</td>\n",
       "    </tr>\n",
       "    <tr>\n",
       "      <th>13645025</th>\n",
       "      <td>1164094</td>\n",
       "      <td>2019-05</td>\n",
       "      <td>2019-05</td>\n",
       "      <td>KFC</td>\n",
       "      <td>1.0</td>\n",
       "      <td>NaN</td>\n",
       "    </tr>\n",
       "    <tr>\n",
       "      <th>13647308</th>\n",
       "      <td>1550586</td>\n",
       "      <td>2019-05</td>\n",
       "      <td>2019-05</td>\n",
       "      <td>NaN</td>\n",
       "      <td>1.0</td>\n",
       "      <td>NaN</td>\n",
       "    </tr>\n",
       "  </tbody>\n",
       "</table>\n",
       "<p>133944 rows × 6 columns</p>\n",
       "</div>"
      ],
      "text/plain": [
       "           pk_cid pk_partition entry_date entry_channel  active_customer  \\\n",
       "18765     1060507      2018-01    2015-10           KFC              0.0   \n",
       "30944     1035728      2018-01    2015-07           NaN              0.0   \n",
       "34117     1040205      2018-01    2015-08           NaN              1.0   \n",
       "52966     1125388      2018-01    2016-03           RED              0.0   \n",
       "57893     1115187      2018-01    2015-12           NaN              1.0   \n",
       "...           ...          ...        ...           ...              ...   \n",
       "13632377  1185013      2019-05    2019-05           NaN              1.0   \n",
       "13641337  1168909      2019-05    2016-08           NaN              1.0   \n",
       "13642462  1173729      2019-05    2016-09           NaN              1.0   \n",
       "13645025  1164094      2019-05    2019-05           KFC              1.0   \n",
       "13647308  1550586      2019-05    2019-05           NaN              1.0   \n",
       "\n",
       "         segment  \n",
       "18765        NaN  \n",
       "30944        NaN  \n",
       "34117        NaN  \n",
       "52966        NaN  \n",
       "57893        NaN  \n",
       "...          ...  \n",
       "13632377     NaN  \n",
       "13641337     NaN  \n",
       "13642462     NaN  \n",
       "13645025     NaN  \n",
       "13647308     NaN  \n",
       "\n",
       "[133944 rows x 6 columns]"
      ]
     },
     "execution_count": 55,
     "metadata": {},
     "output_type": "execute_result"
    }
   ],
   "source": [
    "activity[activity['segment'].isnull()]\n"
   ]
  },
  {
   "cell_type": "code",
   "execution_count": 56,
   "metadata": {},
   "outputs": [
    {
     "data": {
      "text/html": [
       "<div>\n",
       "<style scoped>\n",
       "    .dataframe tbody tr th:only-of-type {\n",
       "        vertical-align: middle;\n",
       "    }\n",
       "\n",
       "    .dataframe tbody tr th {\n",
       "        vertical-align: top;\n",
       "    }\n",
       "\n",
       "    .dataframe thead th {\n",
       "        text-align: right;\n",
       "    }\n",
       "</style>\n",
       "<table border=\"1\" class=\"dataframe\">\n",
       "  <thead>\n",
       "    <tr style=\"text-align: right;\">\n",
       "      <th></th>\n",
       "      <th>pk_cid</th>\n",
       "      <th>pk_partition</th>\n",
       "      <th>entry_date</th>\n",
       "      <th>entry_channel</th>\n",
       "      <th>active_customer</th>\n",
       "      <th>segment</th>\n",
       "    </tr>\n",
       "  </thead>\n",
       "  <tbody>\n",
       "    <tr>\n",
       "      <th>30944</th>\n",
       "      <td>1035728</td>\n",
       "      <td>2018-01</td>\n",
       "      <td>2015-07</td>\n",
       "      <td>NaN</td>\n",
       "      <td>0.0</td>\n",
       "      <td>NaN</td>\n",
       "    </tr>\n",
       "    <tr>\n",
       "      <th>34117</th>\n",
       "      <td>1040205</td>\n",
       "      <td>2018-01</td>\n",
       "      <td>2015-08</td>\n",
       "      <td>NaN</td>\n",
       "      <td>1.0</td>\n",
       "      <td>NaN</td>\n",
       "    </tr>\n",
       "    <tr>\n",
       "      <th>57893</th>\n",
       "      <td>1115187</td>\n",
       "      <td>2018-01</td>\n",
       "      <td>2015-12</td>\n",
       "      <td>NaN</td>\n",
       "      <td>1.0</td>\n",
       "      <td>NaN</td>\n",
       "    </tr>\n",
       "    <tr>\n",
       "      <th>75194</th>\n",
       "      <td>1083617</td>\n",
       "      <td>2018-01</td>\n",
       "      <td>2015-10</td>\n",
       "      <td>NaN</td>\n",
       "      <td>1.0</td>\n",
       "      <td>NaN</td>\n",
       "    </tr>\n",
       "    <tr>\n",
       "      <th>180592</th>\n",
       "      <td>1269364</td>\n",
       "      <td>2018-01</td>\n",
       "      <td>2017-07</td>\n",
       "      <td>NaN</td>\n",
       "      <td>0.0</td>\n",
       "      <td>NaN</td>\n",
       "    </tr>\n",
       "    <tr>\n",
       "      <th>...</th>\n",
       "      <td>...</td>\n",
       "      <td>...</td>\n",
       "      <td>...</td>\n",
       "      <td>...</td>\n",
       "      <td>...</td>\n",
       "      <td>...</td>\n",
       "    </tr>\n",
       "    <tr>\n",
       "      <th>13632312</th>\n",
       "      <td>1185110</td>\n",
       "      <td>2019-05</td>\n",
       "      <td>2016-09</td>\n",
       "      <td>NaN</td>\n",
       "      <td>0.0</td>\n",
       "      <td>NaN</td>\n",
       "    </tr>\n",
       "    <tr>\n",
       "      <th>13632377</th>\n",
       "      <td>1185013</td>\n",
       "      <td>2019-05</td>\n",
       "      <td>2019-05</td>\n",
       "      <td>NaN</td>\n",
       "      <td>1.0</td>\n",
       "      <td>NaN</td>\n",
       "    </tr>\n",
       "    <tr>\n",
       "      <th>13641337</th>\n",
       "      <td>1168909</td>\n",
       "      <td>2019-05</td>\n",
       "      <td>2016-08</td>\n",
       "      <td>NaN</td>\n",
       "      <td>1.0</td>\n",
       "      <td>NaN</td>\n",
       "    </tr>\n",
       "    <tr>\n",
       "      <th>13642462</th>\n",
       "      <td>1173729</td>\n",
       "      <td>2019-05</td>\n",
       "      <td>2016-09</td>\n",
       "      <td>NaN</td>\n",
       "      <td>1.0</td>\n",
       "      <td>NaN</td>\n",
       "    </tr>\n",
       "    <tr>\n",
       "      <th>13647308</th>\n",
       "      <td>1550586</td>\n",
       "      <td>2019-05</td>\n",
       "      <td>2019-05</td>\n",
       "      <td>NaN</td>\n",
       "      <td>1.0</td>\n",
       "      <td>NaN</td>\n",
       "    </tr>\n",
       "  </tbody>\n",
       "</table>\n",
       "<p>132423 rows × 6 columns</p>\n",
       "</div>"
      ],
      "text/plain": [
       "           pk_cid pk_partition entry_date entry_channel  active_customer  \\\n",
       "30944     1035728      2018-01    2015-07           NaN              0.0   \n",
       "34117     1040205      2018-01    2015-08           NaN              1.0   \n",
       "57893     1115187      2018-01    2015-12           NaN              1.0   \n",
       "75194     1083617      2018-01    2015-10           NaN              1.0   \n",
       "180592    1269364      2018-01    2017-07           NaN              0.0   \n",
       "...           ...          ...        ...           ...              ...   \n",
       "13632312  1185110      2019-05    2016-09           NaN              0.0   \n",
       "13632377  1185013      2019-05    2019-05           NaN              1.0   \n",
       "13641337  1168909      2019-05    2016-08           NaN              1.0   \n",
       "13642462  1173729      2019-05    2016-09           NaN              1.0   \n",
       "13647308  1550586      2019-05    2019-05           NaN              1.0   \n",
       "\n",
       "         segment  \n",
       "30944        NaN  \n",
       "34117        NaN  \n",
       "57893        NaN  \n",
       "75194        NaN  \n",
       "180592       NaN  \n",
       "...          ...  \n",
       "13632312     NaN  \n",
       "13632377     NaN  \n",
       "13641337     NaN  \n",
       "13642462     NaN  \n",
       "13647308     NaN  \n",
       "\n",
       "[132423 rows x 6 columns]"
      ]
     },
     "execution_count": 56,
     "metadata": {},
     "output_type": "execute_result"
    }
   ],
   "source": [
    "activity[(activity['segment'].isnull()) & (activity['entry_channel'].isnull())]"
   ]
  },
  {
   "cell_type": "markdown",
   "metadata": {},
   "source": [
    "## Transformamos datos y rellenamos NaN"
   ]
  },
  {
   "cell_type": "markdown",
   "metadata": {},
   "source": [
    "### Transformación de pk_partition a datetime"
   ]
  },
  {
   "cell_type": "code",
   "execution_count": 57,
   "metadata": {},
   "outputs": [],
   "source": [
    "activity[\"pk_partition\"] = pd.to_datetime(activity[\"pk_partition\"])\n",
    "activity[\"entry_date\"] = pd.to_datetime(activity[\"entry_date\"])"
   ]
  },
  {
   "cell_type": "code",
   "execution_count": 58,
   "metadata": {},
   "outputs": [
    {
     "name": "stdout",
     "output_type": "stream",
     "text": [
      "<class 'pandas.core.frame.DataFrame'>\n",
      "Index: 5962924 entries, 0 to 13647308\n",
      "Data columns (total 6 columns):\n",
      " #   Column           Dtype         \n",
      "---  ------           -----         \n",
      " 0   pk_cid           int64         \n",
      " 1   pk_partition     datetime64[ns]\n",
      " 2   entry_date       datetime64[ns]\n",
      " 3   entry_channel    object        \n",
      " 4   active_customer  float64       \n",
      " 5   segment          object        \n",
      "dtypes: datetime64[ns](2), float64(1), int64(1), object(2)\n",
      "memory usage: 318.5+ MB\n"
     ]
    }
   ],
   "source": [
    "activity.info()"
   ]
  },
  {
   "cell_type": "markdown",
   "metadata": {},
   "source": [
    " ### Trasformación de active_customer float a int"
   ]
  },
  {
   "cell_type": "code",
   "execution_count": 59,
   "metadata": {},
   "outputs": [],
   "source": [
    "activity[\"active_customer\"] = activity[\"active_customer\"].astype(int)"
   ]
  },
  {
   "cell_type": "markdown",
   "metadata": {},
   "source": [
    "### Rellenamos NaN de channel con la moda para cada entry_date"
   ]
  },
  {
   "cell_type": "code",
   "execution_count": 60,
   "metadata": {},
   "outputs": [
    {
     "name": "stdout",
     "output_type": "stream",
     "text": [
      "entry_date\n",
      "2015-01-01    KFC\n",
      "2015-02-01    KFC\n",
      "2015-03-01    KFC\n",
      "2015-04-01    KFC\n",
      "2015-05-01    KFC\n",
      "2015-06-01    KFC\n",
      "2015-07-01    KHE\n",
      "2015-08-01    KHE\n",
      "2015-09-01    KHE\n",
      "2015-10-01    KHE\n",
      "2015-11-01    KHE\n",
      "2015-12-01    KHE\n",
      "2016-01-01    KFC\n",
      "2016-02-01    KFC\n",
      "2016-03-01    KFC\n",
      "2016-04-01    KFC\n",
      "2016-05-01    KFC\n",
      "2016-06-01    KFC\n",
      "2016-07-01    KHE\n",
      "2016-08-01    KHE\n",
      "2016-09-01    KHE\n",
      "2016-10-01    KHE\n",
      "2016-11-01    KHE\n",
      "2016-12-01    KHE\n",
      "2017-01-01    KFC\n",
      "2017-02-01    KFC\n",
      "2017-03-01    KFC\n",
      "2017-04-01    KFC\n",
      "2017-05-01    KFC\n",
      "2017-06-01    KFC\n",
      "2017-07-01    KHE\n",
      "2017-08-01    KHE\n",
      "2017-09-01    KHE\n",
      "2017-10-01    KHE\n",
      "2017-11-01    KHE\n",
      "2017-12-01    KHE\n",
      "2018-01-01    KHK\n",
      "2018-02-01    KHK\n",
      "2018-03-01    KHK\n",
      "2018-04-01    KHK\n",
      "2018-05-01    KHK\n",
      "2018-06-01    KHM\n",
      "2018-07-01    KHQ\n",
      "2018-08-01    KHQ\n",
      "2018-09-01    KHQ\n",
      "2018-10-01    KHQ\n",
      "2018-11-01    KHQ\n",
      "2018-12-01    KHM\n",
      "2019-01-01    KHM\n",
      "2019-02-01    KHM\n",
      "2019-03-01    KHM\n",
      "2019-04-01    KHM\n",
      "2019-05-01    KAT\n",
      "Name: entry_channel, dtype: object\n"
     ]
    }
   ],
   "source": [
    "## Miramos la moda de entry_channel para cada entry_date:\n",
    "\n",
    "# Definir una función para calcular la moda del entry_channel\n",
    "def calculate_mode(x):\n",
    "    return x.mode().iloc[0] if not x.empty else None\n",
    "\n",
    "# Calcular la moda del entry_channel para cada grupo de entry_date\n",
    "moda_entry_channel = activity.groupby('entry_date')['entry_channel'].apply(calculate_mode)\n",
    "\n",
    "print(moda_entry_channel)"
   ]
  },
  {
   "cell_type": "code",
   "execution_count": 61,
   "metadata": {},
   "outputs": [
    {
     "name": "stdout",
     "output_type": "stream",
     "text": [
      "           pk_cid pk_partition entry_date entry_channel  active_customer  \\\n",
      "0         1375586   2018-01-01 2018-01-01           KHL                1   \n",
      "1         1050611   2018-01-01 2015-08-01           KHE                0   \n",
      "2         1050612   2018-01-01 2015-08-01           KHE                0   \n",
      "3         1050613   2018-01-01 2015-08-01           KHD                0   \n",
      "4         1050614   2018-01-01 2015-08-01           KHE                1   \n",
      "...           ...          ...        ...           ...              ...   \n",
      "13647304  1166765   2019-05-01 2016-08-01           KHE                0   \n",
      "13647305  1166764   2019-05-01 2016-08-01           KHE                0   \n",
      "13647306  1166763   2019-05-01 2016-08-01           KHE                1   \n",
      "13647307  1166789   2019-05-01 2016-08-01           KHE                0   \n",
      "13647308  1550586   2019-05-01 2019-05-01           KAT                1   \n",
      "\n",
      "                     segment  \n",
      "0          02 - PARTICULARES  \n",
      "1         03 - UNIVERSITARIO  \n",
      "2         03 - UNIVERSITARIO  \n",
      "3         03 - UNIVERSITARIO  \n",
      "4         03 - UNIVERSITARIO  \n",
      "...                      ...  \n",
      "13647304  03 - UNIVERSITARIO  \n",
      "13647305  03 - UNIVERSITARIO  \n",
      "13647306   02 - PARTICULARES  \n",
      "13647307  03 - UNIVERSITARIO  \n",
      "13647308                 NaN  \n",
      "\n",
      "[5962924 rows x 6 columns]\n"
     ]
    }
   ],
   "source": [
    "\n",
    "# Reemplazar los valores nulos en entry_channel con las modas calculadas según entry_date\n",
    "activity['entry_channel'] = activity.apply(lambda row: moda_entry_channel[row['entry_date']] if pd.isnull(row['entry_channel']) else row['entry_channel'], axis=1)\n",
    "\n",
    "print(activity)"
   ]
  },
  {
   "cell_type": "code",
   "execution_count": 62,
   "metadata": {},
   "outputs": [
    {
     "data": {
      "text/html": [
       "<div>\n",
       "<style scoped>\n",
       "    .dataframe tbody tr th:only-of-type {\n",
       "        vertical-align: middle;\n",
       "    }\n",
       "\n",
       "    .dataframe tbody tr th {\n",
       "        vertical-align: top;\n",
       "    }\n",
       "\n",
       "    .dataframe thead th {\n",
       "        text-align: right;\n",
       "    }\n",
       "</style>\n",
       "<table border=\"1\" class=\"dataframe\">\n",
       "  <thead>\n",
       "    <tr style=\"text-align: right;\">\n",
       "      <th></th>\n",
       "      <th>pk_cid</th>\n",
       "      <th>pk_partition</th>\n",
       "      <th>entry_date</th>\n",
       "      <th>entry_channel</th>\n",
       "      <th>active_customer</th>\n",
       "      <th>segment</th>\n",
       "    </tr>\n",
       "  </thead>\n",
       "  <tbody>\n",
       "    <tr>\n",
       "      <th>0</th>\n",
       "      <td>1375586</td>\n",
       "      <td>2018-01-01</td>\n",
       "      <td>2018-01-01</td>\n",
       "      <td>KHL</td>\n",
       "      <td>1</td>\n",
       "      <td>02 - PARTICULARES</td>\n",
       "    </tr>\n",
       "    <tr>\n",
       "      <th>1</th>\n",
       "      <td>1050611</td>\n",
       "      <td>2018-01-01</td>\n",
       "      <td>2015-08-01</td>\n",
       "      <td>KHE</td>\n",
       "      <td>0</td>\n",
       "      <td>03 - UNIVERSITARIO</td>\n",
       "    </tr>\n",
       "    <tr>\n",
       "      <th>2</th>\n",
       "      <td>1050612</td>\n",
       "      <td>2018-01-01</td>\n",
       "      <td>2015-08-01</td>\n",
       "      <td>KHE</td>\n",
       "      <td>0</td>\n",
       "      <td>03 - UNIVERSITARIO</td>\n",
       "    </tr>\n",
       "    <tr>\n",
       "      <th>3</th>\n",
       "      <td>1050613</td>\n",
       "      <td>2018-01-01</td>\n",
       "      <td>2015-08-01</td>\n",
       "      <td>KHD</td>\n",
       "      <td>0</td>\n",
       "      <td>03 - UNIVERSITARIO</td>\n",
       "    </tr>\n",
       "    <tr>\n",
       "      <th>4</th>\n",
       "      <td>1050614</td>\n",
       "      <td>2018-01-01</td>\n",
       "      <td>2015-08-01</td>\n",
       "      <td>KHE</td>\n",
       "      <td>1</td>\n",
       "      <td>03 - UNIVERSITARIO</td>\n",
       "    </tr>\n",
       "    <tr>\n",
       "      <th>...</th>\n",
       "      <td>...</td>\n",
       "      <td>...</td>\n",
       "      <td>...</td>\n",
       "      <td>...</td>\n",
       "      <td>...</td>\n",
       "      <td>...</td>\n",
       "    </tr>\n",
       "    <tr>\n",
       "      <th>13647304</th>\n",
       "      <td>1166765</td>\n",
       "      <td>2019-05-01</td>\n",
       "      <td>2016-08-01</td>\n",
       "      <td>KHE</td>\n",
       "      <td>0</td>\n",
       "      <td>03 - UNIVERSITARIO</td>\n",
       "    </tr>\n",
       "    <tr>\n",
       "      <th>13647305</th>\n",
       "      <td>1166764</td>\n",
       "      <td>2019-05-01</td>\n",
       "      <td>2016-08-01</td>\n",
       "      <td>KHE</td>\n",
       "      <td>0</td>\n",
       "      <td>03 - UNIVERSITARIO</td>\n",
       "    </tr>\n",
       "    <tr>\n",
       "      <th>13647306</th>\n",
       "      <td>1166763</td>\n",
       "      <td>2019-05-01</td>\n",
       "      <td>2016-08-01</td>\n",
       "      <td>KHE</td>\n",
       "      <td>1</td>\n",
       "      <td>02 - PARTICULARES</td>\n",
       "    </tr>\n",
       "    <tr>\n",
       "      <th>13647307</th>\n",
       "      <td>1166789</td>\n",
       "      <td>2019-05-01</td>\n",
       "      <td>2016-08-01</td>\n",
       "      <td>KHE</td>\n",
       "      <td>0</td>\n",
       "      <td>03 - UNIVERSITARIO</td>\n",
       "    </tr>\n",
       "    <tr>\n",
       "      <th>13647308</th>\n",
       "      <td>1550586</td>\n",
       "      <td>2019-05-01</td>\n",
       "      <td>2019-05-01</td>\n",
       "      <td>KAT</td>\n",
       "      <td>1</td>\n",
       "      <td>NaN</td>\n",
       "    </tr>\n",
       "  </tbody>\n",
       "</table>\n",
       "<p>5962924 rows × 6 columns</p>\n",
       "</div>"
      ],
      "text/plain": [
       "           pk_cid pk_partition entry_date entry_channel  active_customer  \\\n",
       "0         1375586   2018-01-01 2018-01-01           KHL                1   \n",
       "1         1050611   2018-01-01 2015-08-01           KHE                0   \n",
       "2         1050612   2018-01-01 2015-08-01           KHE                0   \n",
       "3         1050613   2018-01-01 2015-08-01           KHD                0   \n",
       "4         1050614   2018-01-01 2015-08-01           KHE                1   \n",
       "...           ...          ...        ...           ...              ...   \n",
       "13647304  1166765   2019-05-01 2016-08-01           KHE                0   \n",
       "13647305  1166764   2019-05-01 2016-08-01           KHE                0   \n",
       "13647306  1166763   2019-05-01 2016-08-01           KHE                1   \n",
       "13647307  1166789   2019-05-01 2016-08-01           KHE                0   \n",
       "13647308  1550586   2019-05-01 2019-05-01           KAT                1   \n",
       "\n",
       "                     segment  \n",
       "0          02 - PARTICULARES  \n",
       "1         03 - UNIVERSITARIO  \n",
       "2         03 - UNIVERSITARIO  \n",
       "3         03 - UNIVERSITARIO  \n",
       "4         03 - UNIVERSITARIO  \n",
       "...                      ...  \n",
       "13647304  03 - UNIVERSITARIO  \n",
       "13647305  03 - UNIVERSITARIO  \n",
       "13647306   02 - PARTICULARES  \n",
       "13647307  03 - UNIVERSITARIO  \n",
       "13647308                 NaN  \n",
       "\n",
       "[5962924 rows x 6 columns]"
      ]
     },
     "execution_count": 62,
     "metadata": {},
     "output_type": "execute_result"
    }
   ],
   "source": [
    "activity"
   ]
  },
  {
   "cell_type": "code",
   "execution_count": 63,
   "metadata": {},
   "outputs": [
    {
     "data": {
      "text/plain": [
       "0"
      ]
     },
     "execution_count": 63,
     "metadata": {},
     "output_type": "execute_result"
    }
   ],
   "source": [
    "activity['entry_channel'].isnull().sum()"
   ]
  },
  {
   "cell_type": "markdown",
   "metadata": {},
   "source": [
    "### Rellenamos NaN de segment con la moda para cada pk_cid?"
   ]
  },
  {
   "cell_type": "code",
   "execution_count": 65,
   "metadata": {},
   "outputs": [
    {
     "name": "stdout",
     "output_type": "stream",
     "text": [
      "           pk_cid pk_partition entry_date entry_channel  active_customer  \\\n",
      "0         1375586   2018-01-01 2018-01-01           KHL                1   \n",
      "1         1050611   2018-01-01 2015-08-01           KHE                0   \n",
      "2         1050612   2018-01-01 2015-08-01           KHE                0   \n",
      "3         1050613   2018-01-01 2015-08-01           KHD                0   \n",
      "4         1050614   2018-01-01 2015-08-01           KHE                1   \n",
      "...           ...          ...        ...           ...              ...   \n",
      "13647304  1166765   2019-05-01 2016-08-01           KHE                0   \n",
      "13647305  1166764   2019-05-01 2016-08-01           KHE                0   \n",
      "13647306  1166763   2019-05-01 2016-08-01           KHE                1   \n",
      "13647307  1166789   2019-05-01 2016-08-01           KHE                0   \n",
      "13647308  1550586   2019-05-01 2019-05-01           KAT                1   \n",
      "\n",
      "                     segment  \n",
      "0          02 - PARTICULARES  \n",
      "1         03 - UNIVERSITARIO  \n",
      "2         03 - UNIVERSITARIO  \n",
      "3         03 - UNIVERSITARIO  \n",
      "4         03 - UNIVERSITARIO  \n",
      "...                      ...  \n",
      "13647304  03 - UNIVERSITARIO  \n",
      "13647305  03 - UNIVERSITARIO  \n",
      "13647306   02 - PARTICULARES  \n",
      "13647307  03 - UNIVERSITARIO  \n",
      "13647308                None  \n",
      "\n",
      "[5962924 rows x 6 columns]\n"
     ]
    }
   ],
   "source": [
    "\n",
    "# Calcular la moda de 'segment' para cada valor único de 'pk_cid'\n",
    "pk_cid_segment_mode = activity.groupby('pk_cid')['segment'].apply(lambda x: x.mode().iloc[0] if not x.mode().empty else None)\n",
    "\n",
    "# Crear un diccionario que mapee cada 'pk_cid' con su respectiva moda de 'segment'\n",
    "pk_cid_segment_mapping = pk_cid_segment_mode.to_dict()\n",
    "\n",
    "# Rellenar los valores nulos en 'segment' con las modas correspondientes según 'pk_cid'\n",
    "activity['segment'] = activity.apply(lambda row: pk_cid_segment_mapping.get(row['pk_cid'], row['segment']), axis=1)\n",
    "\n",
    "print(activity)"
   ]
  },
  {
   "cell_type": "code",
   "execution_count": 66,
   "metadata": {},
   "outputs": [
    {
     "data": {
      "text/plain": [
       "9068"
      ]
     },
     "execution_count": 66,
     "metadata": {},
     "output_type": "execute_result"
    }
   ],
   "source": [
    "activity['segment'].isnull().sum()"
   ]
  },
  {
   "cell_type": "code",
   "execution_count": 71,
   "metadata": {},
   "outputs": [
    {
     "data": {
      "text/html": [
       "<div>\n",
       "<style scoped>\n",
       "    .dataframe tbody tr th:only-of-type {\n",
       "        vertical-align: middle;\n",
       "    }\n",
       "\n",
       "    .dataframe tbody tr th {\n",
       "        vertical-align: top;\n",
       "    }\n",
       "\n",
       "    .dataframe thead th {\n",
       "        text-align: right;\n",
       "    }\n",
       "</style>\n",
       "<table border=\"1\" class=\"dataframe\">\n",
       "  <thead>\n",
       "    <tr style=\"text-align: right;\">\n",
       "      <th></th>\n",
       "      <th>pk_cid</th>\n",
       "      <th>pk_partition</th>\n",
       "      <th>entry_date</th>\n",
       "      <th>entry_channel</th>\n",
       "      <th>active_customer</th>\n",
       "      <th>segment</th>\n",
       "    </tr>\n",
       "  </thead>\n",
       "  <tbody>\n",
       "    <tr>\n",
       "      <th>18765</th>\n",
       "      <td>1060507</td>\n",
       "      <td>2018-01-01</td>\n",
       "      <td>2015-10-01</td>\n",
       "      <td>KFC</td>\n",
       "      <td>0</td>\n",
       "      <td>None</td>\n",
       "    </tr>\n",
       "    <tr>\n",
       "      <th>30944</th>\n",
       "      <td>1035728</td>\n",
       "      <td>2018-01-01</td>\n",
       "      <td>2015-07-01</td>\n",
       "      <td>KHE</td>\n",
       "      <td>0</td>\n",
       "      <td>None</td>\n",
       "    </tr>\n",
       "    <tr>\n",
       "      <th>52966</th>\n",
       "      <td>1125388</td>\n",
       "      <td>2018-01-01</td>\n",
       "      <td>2016-03-01</td>\n",
       "      <td>RED</td>\n",
       "      <td>0</td>\n",
       "      <td>None</td>\n",
       "    </tr>\n",
       "    <tr>\n",
       "      <th>105440</th>\n",
       "      <td>884848</td>\n",
       "      <td>2018-01-01</td>\n",
       "      <td>2017-02-01</td>\n",
       "      <td>KFC</td>\n",
       "      <td>0</td>\n",
       "      <td>None</td>\n",
       "    </tr>\n",
       "    <tr>\n",
       "      <th>198020</th>\n",
       "      <td>1355118</td>\n",
       "      <td>2018-01-01</td>\n",
       "      <td>2017-11-01</td>\n",
       "      <td>RED</td>\n",
       "      <td>0</td>\n",
       "      <td>None</td>\n",
       "    </tr>\n",
       "    <tr>\n",
       "      <th>...</th>\n",
       "      <td>...</td>\n",
       "      <td>...</td>\n",
       "      <td>...</td>\n",
       "      <td>...</td>\n",
       "      <td>...</td>\n",
       "      <td>...</td>\n",
       "    </tr>\n",
       "    <tr>\n",
       "      <th>13632377</th>\n",
       "      <td>1185013</td>\n",
       "      <td>2019-05-01</td>\n",
       "      <td>2019-05-01</td>\n",
       "      <td>KAT</td>\n",
       "      <td>1</td>\n",
       "      <td>None</td>\n",
       "    </tr>\n",
       "    <tr>\n",
       "      <th>13641337</th>\n",
       "      <td>1168909</td>\n",
       "      <td>2019-05-01</td>\n",
       "      <td>2016-08-01</td>\n",
       "      <td>KHE</td>\n",
       "      <td>1</td>\n",
       "      <td>None</td>\n",
       "    </tr>\n",
       "    <tr>\n",
       "      <th>13642462</th>\n",
       "      <td>1173729</td>\n",
       "      <td>2019-05-01</td>\n",
       "      <td>2016-09-01</td>\n",
       "      <td>KHE</td>\n",
       "      <td>1</td>\n",
       "      <td>None</td>\n",
       "    </tr>\n",
       "    <tr>\n",
       "      <th>13645025</th>\n",
       "      <td>1164094</td>\n",
       "      <td>2019-05-01</td>\n",
       "      <td>2019-05-01</td>\n",
       "      <td>KFC</td>\n",
       "      <td>1</td>\n",
       "      <td>None</td>\n",
       "    </tr>\n",
       "    <tr>\n",
       "      <th>13647308</th>\n",
       "      <td>1550586</td>\n",
       "      <td>2019-05-01</td>\n",
       "      <td>2019-05-01</td>\n",
       "      <td>KAT</td>\n",
       "      <td>1</td>\n",
       "      <td>None</td>\n",
       "    </tr>\n",
       "  </tbody>\n",
       "</table>\n",
       "<p>9068 rows × 6 columns</p>\n",
       "</div>"
      ],
      "text/plain": [
       "           pk_cid pk_partition entry_date entry_channel  active_customer  \\\n",
       "18765     1060507   2018-01-01 2015-10-01           KFC                0   \n",
       "30944     1035728   2018-01-01 2015-07-01           KHE                0   \n",
       "52966     1125388   2018-01-01 2016-03-01           RED                0   \n",
       "105440     884848   2018-01-01 2017-02-01           KFC                0   \n",
       "198020    1355118   2018-01-01 2017-11-01           RED                0   \n",
       "...           ...          ...        ...           ...              ...   \n",
       "13632377  1185013   2019-05-01 2019-05-01           KAT                1   \n",
       "13641337  1168909   2019-05-01 2016-08-01           KHE                1   \n",
       "13642462  1173729   2019-05-01 2016-09-01           KHE                1   \n",
       "13645025  1164094   2019-05-01 2019-05-01           KFC                1   \n",
       "13647308  1550586   2019-05-01 2019-05-01           KAT                1   \n",
       "\n",
       "         segment  \n",
       "18765       None  \n",
       "30944       None  \n",
       "52966       None  \n",
       "105440      None  \n",
       "198020      None  \n",
       "...          ...  \n",
       "13632377    None  \n",
       "13641337    None  \n",
       "13642462    None  \n",
       "13645025    None  \n",
       "13647308    None  \n",
       "\n",
       "[9068 rows x 6 columns]"
      ]
     },
     "execution_count": 71,
     "metadata": {},
     "output_type": "execute_result"
    }
   ],
   "source": [
    "activity[activity['segment'].isnull()]"
   ]
  },
  {
   "cell_type": "code",
   "execution_count": null,
   "metadata": {},
   "outputs": [],
   "source": []
  }
 ],
 "metadata": {
  "kernelspec": {
   "display_name": "base",
   "language": "python",
   "name": "python3"
  },
  "language_info": {
   "codemirror_mode": {
    "name": "ipython",
    "version": 3
   },
   "file_extension": ".py",
   "mimetype": "text/x-python",
   "name": "python",
   "nbconvert_exporter": "python",
   "pygments_lexer": "ipython3",
   "version": "3.12.2"
  }
 },
 "nbformat": 4,
 "nbformat_minor": 2
}
