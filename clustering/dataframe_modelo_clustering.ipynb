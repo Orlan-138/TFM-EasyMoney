{
 "cells": [
  {
   "cell_type": "markdown",
   "metadata": {},
   "source": [
    "# Easy Money - Modelo de propensión a compra"
   ]
  },
  {
   "cell_type": "markdown",
   "metadata": {},
   "source": [
    "Mensaje de Carol: Una vez que hayamos hecho el análisis de nuestra BBDD nos gustaría poder vender más y mejor nuestros productos, sé que los data scientist tienen una “bola de cristal” y saben qué clientes son más propensos a comprar nuestros productos así que te pido por favor hagas un modelo de propensión a compra, se que tenemos muchos productos, así que te dejo a tu criterio científico qué productos elegir, o pueden ser varios, ya me sorprenderás"
   ]
  },
  {
   "cell_type": "markdown",
   "metadata": {},
   "source": [
    "Vamos a desarrollar un modelo capaz de **predecir si un cliente es propenso a contratar un producto de Easy Money, teniendo en cuenta sus características**."
   ]
  },
  {
   "cell_type": "markdown",
   "metadata": {},
   "source": [
    "## Importación de librerías"
   ]
  },
  {
   "cell_type": "code",
   "execution_count": 1,
   "metadata": {},
   "outputs": [],
   "source": [
    "# Importamos las librerias necesarias.\n",
    "import os\n",
    "import pandas as pd\n",
    "import numpy as np\n",
    "\n",
    "\n",
    "from sklearn import preprocessing\n",
    "from sklearn.preprocessing import LabelEncoder,MinMaxScaler, OrdinalEncoder\n",
    "from sklearn import model_selection \n",
    "from sklearn import metrics\n",
    "from sklearn.model_selection import train_test_split"
   ]
  },
  {
   "cell_type": "code",
   "execution_count": 2,
   "metadata": {},
   "outputs": [],
   "source": [
    "import matplotlib.pyplot as plt\n",
    "import seaborn as sns"
   ]
  },
  {
   "cell_type": "markdown",
   "metadata": {},
   "source": [
    "## Importación de datos"
   ]
  },
  {
   "cell_type": "markdown",
   "metadata": {},
   "source": [
    "De las tablas que tenemos disponibles en BBDD, las que serán de utilidad para este modelo son customer_sociodemographics, customer_commercial_activity y sales. \n",
    "<p>Guardamos los datos de las tablas en dataframes distintos que limpiaremos, y posteriormente uniremos en un único dataframe \n"
   ]
  },
  {
   "cell_type": "code",
   "execution_count": 3,
   "metadata": {},
   "outputs": [
    {
     "name": "stdout",
     "output_type": "stream",
     "text": [
      "current path: /Users/orlando/Documents/GitHub/TFM-EasyMoney/clustering\n",
      "parent path: /Users/orlando/Documents/GitHub/TFM-EasyMoney\n",
      "data path: /Users/orlando/Documents/GitHub/TFM-EasyMoney/data/\n",
      "file 1: /Users/orlando/Documents/GitHub/TFM-EasyMoney/data/customer_sociodemographics.csv\n",
      "file 2: /Users/orlando/Documents/GitHub/TFM-EasyMoney/data/customer_commercial_activity.csv\n",
      "file 3: /Users/orlando/Documents/GitHub/TFM-EasyMoney/data/sales.csv\n",
      "file 4: /Users/orlando/Documents/GitHub/TFM-EasyMoney/data/customer_products.csv\n",
      "data path: /Users/orlando/Documents/GitHub/TFM-EasyMoney/data/\n"
     ]
    }
   ],
   "source": [
    "# Obtener el directorio de trabajo actual\n",
    "current_dir = os.getcwd()\n",
    "\n",
    "# Ir a la carpeta anterior del directorio actual porque ahí se encuentra la carpeta 'data' donde están todos los ficheros .csv\n",
    "parent_dir = os.path.dirname(current_dir)\n",
    "\n",
    "DATA_PATH = os.path.join(parent_dir, 'data/') # Ruta donde están los ficheros .csv\n",
    "\n",
    "FILE_NAME1 = 'customer_sociodemographics.csv'\n",
    "FILE1 = os.path.join(DATA_PATH, FILE_NAME1)\n",
    "\n",
    "FILE_NAME2 = 'customer_commercial_activity.csv'\n",
    "FILE2 = os.path.join(DATA_PATH, FILE_NAME2)\n",
    "\n",
    "FILE_NAME3 = 'sales.csv'\n",
    "FILE3 = os.path.join(DATA_PATH, FILE_NAME3)\n",
    "\n",
    "FILE_NAME4 = 'customer_products.csv'\n",
    "FILE4 = os.path.join(DATA_PATH, FILE_NAME4)\n",
    "\n",
    "print('current path:', current_dir)\n",
    "print('parent path:', parent_dir)\n",
    "print('data path:', DATA_PATH)\n",
    "print('file 1:', FILE1)\n",
    "print('file 2:', FILE2)\n",
    "print('file 3:', FILE3)\n",
    "print('file 4:', FILE4)\n",
    "print('data path:', DATA_PATH)"
   ]
  },
  {
   "cell_type": "code",
   "execution_count": 4,
   "metadata": {},
   "outputs": [],
   "source": [
    "df_cs = pd.read_csv(FILE1, index_col=0)\n",
    "df_cca = pd.read_csv(FILE2, index_col=0)\n",
    "df_sales = pd.read_csv(FILE3, index_col=0)\n",
    "df_customer_products = pd.read_csv(FILE4, index_col=0)"
   ]
  },
  {
   "cell_type": "markdown",
   "metadata": {},
   "source": [
    "## 1: Data Understanding"
   ]
  },
  {
   "cell_type": "markdown",
   "metadata": {},
   "source": [
    "### 1.1: Análisis Univariante de datos de las distintos datasets que vamos a usar"
   ]
  },
  {
   "cell_type": "markdown",
   "metadata": {},
   "source": [
    "#### 1.1.1 Analizamos la tabla customer_sociodemographics"
   ]
  },
  {
   "cell_type": "code",
   "execution_count": 5,
   "metadata": {},
   "outputs": [
    {
     "name": "stdout",
     "output_type": "stream",
     "text": [
      "<class 'pandas.core.frame.DataFrame'>\n",
      "Index: 5962924 entries, 0 to 13647308\n",
      "Data columns (total 8 columns):\n",
      " #   Column        Dtype  \n",
      "---  ------        -----  \n",
      " 0   pk_cid        int64  \n",
      " 1   pk_partition  object \n",
      " 2   country_id    object \n",
      " 3   region_code   float64\n",
      " 4   gender        object \n",
      " 5   age           int64  \n",
      " 6   deceased      object \n",
      " 7   salary        float64\n",
      "dtypes: float64(2), int64(2), object(4)\n",
      "memory usage: 409.4+ MB\n"
     ]
    }
   ],
   "source": [
    "# Datos generales \n",
    "\n",
    "df_cs.info()"
   ]
  },
  {
   "cell_type": "code",
   "execution_count": 6,
   "metadata": {},
   "outputs": [
    {
     "data": {
      "text/html": [
       "<div>\n",
       "<style scoped>\n",
       "    .dataframe tbody tr th:only-of-type {\n",
       "        vertical-align: middle;\n",
       "    }\n",
       "\n",
       "    .dataframe tbody tr th {\n",
       "        vertical-align: top;\n",
       "    }\n",
       "\n",
       "    .dataframe thead th {\n",
       "        text-align: right;\n",
       "    }\n",
       "</style>\n",
       "<table border=\"1\" class=\"dataframe\">\n",
       "  <thead>\n",
       "    <tr style=\"text-align: right;\">\n",
       "      <th></th>\n",
       "      <th>pk_cid</th>\n",
       "      <th>pk_partition</th>\n",
       "      <th>country_id</th>\n",
       "      <th>region_code</th>\n",
       "      <th>gender</th>\n",
       "      <th>age</th>\n",
       "      <th>deceased</th>\n",
       "      <th>salary</th>\n",
       "    </tr>\n",
       "  </thead>\n",
       "  <tbody>\n",
       "    <tr>\n",
       "      <th>0</th>\n",
       "      <td>1375586</td>\n",
       "      <td>2018-01</td>\n",
       "      <td>ES</td>\n",
       "      <td>29.0</td>\n",
       "      <td>H</td>\n",
       "      <td>35</td>\n",
       "      <td>N</td>\n",
       "      <td>87218.10</td>\n",
       "    </tr>\n",
       "    <tr>\n",
       "      <th>1</th>\n",
       "      <td>1050611</td>\n",
       "      <td>2018-01</td>\n",
       "      <td>ES</td>\n",
       "      <td>13.0</td>\n",
       "      <td>V</td>\n",
       "      <td>23</td>\n",
       "      <td>N</td>\n",
       "      <td>35548.74</td>\n",
       "    </tr>\n",
       "    <tr>\n",
       "      <th>2</th>\n",
       "      <td>1050612</td>\n",
       "      <td>2018-01</td>\n",
       "      <td>ES</td>\n",
       "      <td>13.0</td>\n",
       "      <td>V</td>\n",
       "      <td>23</td>\n",
       "      <td>N</td>\n",
       "      <td>122179.11</td>\n",
       "    </tr>\n",
       "    <tr>\n",
       "      <th>3</th>\n",
       "      <td>1050613</td>\n",
       "      <td>2018-01</td>\n",
       "      <td>ES</td>\n",
       "      <td>50.0</td>\n",
       "      <td>H</td>\n",
       "      <td>22</td>\n",
       "      <td>N</td>\n",
       "      <td>119775.54</td>\n",
       "    </tr>\n",
       "    <tr>\n",
       "      <th>4</th>\n",
       "      <td>1050614</td>\n",
       "      <td>2018-01</td>\n",
       "      <td>ES</td>\n",
       "      <td>50.0</td>\n",
       "      <td>V</td>\n",
       "      <td>23</td>\n",
       "      <td>N</td>\n",
       "      <td>NaN</td>\n",
       "    </tr>\n",
       "  </tbody>\n",
       "</table>\n",
       "</div>"
      ],
      "text/plain": [
       "    pk_cid pk_partition country_id  region_code gender  age deceased  \\\n",
       "0  1375586      2018-01         ES         29.0      H   35        N   \n",
       "1  1050611      2018-01         ES         13.0      V   23        N   \n",
       "2  1050612      2018-01         ES         13.0      V   23        N   \n",
       "3  1050613      2018-01         ES         50.0      H   22        N   \n",
       "4  1050614      2018-01         ES         50.0      V   23        N   \n",
       "\n",
       "      salary  \n",
       "0   87218.10  \n",
       "1   35548.74  \n",
       "2  122179.11  \n",
       "3  119775.54  \n",
       "4        NaN  "
      ]
     },
     "execution_count": 6,
     "metadata": {},
     "output_type": "execute_result"
    }
   ],
   "source": [
    "# Visualización de los datos\n",
    "df_cs.head()"
   ]
  },
  {
   "cell_type": "code",
   "execution_count": 7,
   "metadata": {},
   "outputs": [
    {
     "data": {
      "text/plain": [
       "pk_cid                0\n",
       "pk_partition          0\n",
       "country_id            0\n",
       "region_code        2264\n",
       "gender               25\n",
       "age                   0\n",
       "deceased              0\n",
       "salary          1541104\n",
       "dtype: int64"
      ]
     },
     "execution_count": 7,
     "metadata": {},
     "output_type": "execute_result"
    }
   ],
   "source": [
    "# Recuento de nulos \n",
    "\n",
    "df_cs.isna().sum()"
   ]
  },
  {
   "cell_type": "markdown",
   "metadata": {},
   "source": [
    "De entrada, analizamos la columna \"deceased\" para eliminar los clientes fallecidos y quedarnos con aquellos que actualmente son reales"
   ]
  },
  {
   "cell_type": "code",
   "execution_count": 8,
   "metadata": {},
   "outputs": [
    {
     "data": {
      "text/plain": [
       "deceased\n",
       "N    5961849\n",
       "S       1075\n",
       "Name: count, dtype: int64"
      ]
     },
     "execution_count": 8,
     "metadata": {},
     "output_type": "execute_result"
    }
   ],
   "source": [
    "df_cs['deceased'].value_counts()"
   ]
  },
  {
   "cell_type": "code",
   "execution_count": 9,
   "metadata": {},
   "outputs": [
    {
     "data": {
      "text/plain": [
       "deceased\n",
       "N    5961849\n",
       "Name: count, dtype: int64"
      ]
     },
     "execution_count": 9,
     "metadata": {},
     "output_type": "execute_result"
    }
   ],
   "source": [
    "df_cs = df_cs[(df_cs['deceased']  == 'N')]\n",
    "df_cs['deceased'].value_counts()"
   ]
  },
  {
   "cell_type": "markdown",
   "metadata": {},
   "source": [
    "Ahora que nos hemos quedado solamente con los clientes no fallecidos, esta columna no es de mucha utilidad ya que siempre tiene el mismo valor. La podemos eliminar."
   ]
  },
  {
   "cell_type": "code",
   "execution_count": 10,
   "metadata": {},
   "outputs": [],
   "source": [
    "del(df_cs['deceased'])"
   ]
  },
  {
   "cell_type": "markdown",
   "metadata": {},
   "source": [
    "Analizamos también la columna country_id para ver si vale la pena quedarnos con todos los países de la BBDD "
   ]
  },
  {
   "cell_type": "code",
   "execution_count": 11,
   "metadata": {},
   "outputs": [
    {
     "data": {
      "text/plain": [
       "country_id\n",
       "ES    5959602\n",
       "GB        441\n",
       "FR        225\n",
       "DE        199\n",
       "US        195\n",
       "CH        189\n",
       "BR         87\n",
       "BE         81\n",
       "VE         79\n",
       "IE         68\n",
       "MX         58\n",
       "AT         51\n",
       "AR         51\n",
       "PL         49\n",
       "IT         45\n",
       "MA         34\n",
       "CL         30\n",
       "CN         28\n",
       "CA         22\n",
       "LU         17\n",
       "ET         17\n",
       "QA         17\n",
       "CI         17\n",
       "SA         17\n",
       "CM         17\n",
       "SN         17\n",
       "MR         17\n",
       "NO         17\n",
       "RU         17\n",
       "CO         17\n",
       "GA         17\n",
       "GT         17\n",
       "DO         17\n",
       "SE         16\n",
       "DJ         11\n",
       "PT         11\n",
       "JM         11\n",
       "RO          9\n",
       "HU          8\n",
       "DZ          7\n",
       "PE          4\n",
       "Name: count, dtype: int64"
      ]
     },
     "execution_count": 11,
     "metadata": {},
     "output_type": "execute_result"
    }
   ],
   "source": [
    "df_cs['country_id'].value_counts()"
   ]
  },
  {
   "cell_type": "markdown",
   "metadata": {},
   "source": [
    "Vemos que los valores de los países distintos a ES son muy pequeños y no aportarán demasiado valor a nuestro modelo. Nos quedamos solamente con los registros que son country_id = ES"
   ]
  },
  {
   "cell_type": "code",
   "execution_count": 12,
   "metadata": {},
   "outputs": [
    {
     "data": {
      "text/plain": [
       "country_id\n",
       "ES    5959602\n",
       "Name: count, dtype: int64"
      ]
     },
     "execution_count": 12,
     "metadata": {},
     "output_type": "execute_result"
    }
   ],
   "source": [
    "df_cs = df_cs[(df_cs['country_id']  == 'ES')]\n",
    "df_cs['country_id'].value_counts()"
   ]
  },
  {
   "cell_type": "markdown",
   "metadata": {},
   "source": [
    "Ahora que nos hemos quedado solamente con los clientes de ES, esta columna no es de mucha utilidad ya que siempre tiene el mismo valor. La podemos eliminar."
   ]
  },
  {
   "cell_type": "code",
   "execution_count": 13,
   "metadata": {},
   "outputs": [],
   "source": [
    "del(df_cs['country_id'])"
   ]
  },
  {
   "cell_type": "markdown",
   "metadata": {},
   "source": [
    "Según el diccionario de las tablas, region_code es el código de provincia. Este dato sí puede ser relevante, pero vemos que tiene nulos. Como estamos ante un modelo de clasificación binaria, podemos rellenar los nulos con un valor como -1, para que se sean agrupados en un bloque propio."
   ]
  },
  {
   "cell_type": "code",
   "execution_count": 14,
   "metadata": {},
   "outputs": [
    {
     "name": "stderr",
     "output_type": "stream",
     "text": [
      "/var/folders/30/p6f8f3315kj4ds7bjm30ntwc0000gn/T/ipykernel_19960/1372854579.py:1: FutureWarning: A value is trying to be set on a copy of a DataFrame or Series through chained assignment using an inplace method.\n",
      "The behavior will change in pandas 3.0. This inplace method will never work because the intermediate object on which we are setting values always behaves as a copy.\n",
      "\n",
      "For example, when doing 'df[col].method(value, inplace=True)', try using 'df.method({col: value}, inplace=True)' or df[col] = df[col].method(value) instead, to perform the operation inplace on the original object.\n",
      "\n",
      "\n",
      "  df_cs['region_code'].fillna(-1, inplace=True)\n"
     ]
    }
   ],
   "source": [
    "df_cs['region_code'].fillna(-1, inplace=True)"
   ]
  },
  {
   "cell_type": "markdown",
   "metadata": {},
   "source": [
    "La columna gender también tenía nulos, pero son muy pocos en relación al total del dataset. Analizamos cuántos nulos quedan después de los cambios ya realizados y elimnamos estas filas por ser muy pocas"
   ]
  },
  {
   "cell_type": "code",
   "execution_count": 15,
   "metadata": {},
   "outputs": [
    {
     "data": {
      "text/plain": [
       "25"
      ]
     },
     "execution_count": 15,
     "metadata": {},
     "output_type": "execute_result"
    }
   ],
   "source": [
    "df_cs['gender'].isna().sum()"
   ]
  },
  {
   "cell_type": "code",
   "execution_count": 16,
   "metadata": {},
   "outputs": [],
   "source": [
    "df_cs = df_cs.dropna(subset =['gender'])"
   ]
  },
  {
   "cell_type": "markdown",
   "metadata": {},
   "source": [
    "Analizamos la columna salary "
   ]
  },
  {
   "cell_type": "code",
   "execution_count": 17,
   "metadata": {},
   "outputs": [
    {
     "data": {
      "text/plain": [
       "salary\n",
       "451931.22    709\n",
       "288997.44    546\n",
       "135522.15    466\n",
       "128318.52    458\n",
       "104563.80    436\n",
       "            ... \n",
       "127111.23      1\n",
       "100303.05      1\n",
       "125135.46      1\n",
       "188185.68      1\n",
       "167276.64      1\n",
       "Name: count, Length: 257626, dtype: int64"
      ]
     },
     "execution_count": 17,
     "metadata": {},
     "output_type": "execute_result"
    }
   ],
   "source": [
    "df_cs['salary'].value_counts()"
   ]
  },
  {
   "cell_type": "code",
   "execution_count": 18,
   "metadata": {},
   "outputs": [
    {
     "data": {
      "text/plain": [
       "count    4.420911e+06\n",
       "mean     1.155810e+05\n",
       "std      2.000189e+05\n",
       "min      1.202730e+03\n",
       "25%      6.141354e+04\n",
       "50%      8.843742e+04\n",
       "75%      1.313081e+05\n",
       "max      2.889440e+07\n",
       "Name: salary, dtype: float64"
      ]
     },
     "execution_count": 18,
     "metadata": {},
     "output_type": "execute_result"
    }
   ],
   "source": [
    "df_cs['salary'].describe()"
   ]
  },
  {
   "cell_type": "markdown",
   "metadata": {},
   "source": [
    "Vemos que todos los valores son positivos, que la diferencia entre el salario mayor y el salario menor es muy grande, y que la media por tanto es muy elevada también. Igualmente, según el diccionario de la BBDD, se trata del salario de la unidad familiar y consideramos que este valor es importante a la hora de determinar la contratación. Al haber muchos nulos, y al ser el modelo de clasificación binaria, vamos a asignar a los nulos el valor -1"
   ]
  },
  {
   "cell_type": "code",
   "execution_count": 19,
   "metadata": {},
   "outputs": [
    {
     "name": "stderr",
     "output_type": "stream",
     "text": [
      "/var/folders/30/p6f8f3315kj4ds7bjm30ntwc0000gn/T/ipykernel_19960/3059662271.py:1: FutureWarning: A value is trying to be set on a copy of a DataFrame or Series through chained assignment using an inplace method.\n",
      "The behavior will change in pandas 3.0. This inplace method will never work because the intermediate object on which we are setting values always behaves as a copy.\n",
      "\n",
      "For example, when doing 'df[col].method(value, inplace=True)', try using 'df.method({col: value}, inplace=True)' or df[col] = df[col].method(value) instead, to perform the operation inplace on the original object.\n",
      "\n",
      "\n",
      "  df_cs['salary'].fillna(-1, inplace=True)\n"
     ]
    }
   ],
   "source": [
    "df_cs['salary'].fillna(-1, inplace=True)"
   ]
  },
  {
   "cell_type": "markdown",
   "metadata": {},
   "source": [
    "Transformamos la columna region_code de float a int"
   ]
  },
  {
   "cell_type": "code",
   "execution_count": 20,
   "metadata": {},
   "outputs": [],
   "source": [
    "df_cs[\"region_code\"] = df_cs[\"region_code\"].astype(int)"
   ]
  },
  {
   "cell_type": "markdown",
   "metadata": {},
   "source": [
    "Transformamos la columna pk_partition a fecha"
   ]
  },
  {
   "cell_type": "code",
   "execution_count": 21,
   "metadata": {},
   "outputs": [],
   "source": [
    "df_cs[\"pk_partition\"] = pd.to_datetime(df_cs[\"pk_partition\"])\n"
   ]
  },
  {
   "cell_type": "markdown",
   "metadata": {},
   "source": [
    "Finalmente, la tabla de customer_sociodemographics quedará así:"
   ]
  },
  {
   "cell_type": "code",
   "execution_count": 22,
   "metadata": {},
   "outputs": [
    {
     "name": "stdout",
     "output_type": "stream",
     "text": [
      "<class 'pandas.core.frame.DataFrame'>\n",
      "Index: 5959577 entries, 0 to 13647308\n",
      "Data columns (total 6 columns):\n",
      " #   Column        Dtype         \n",
      "---  ------        -----         \n",
      " 0   pk_cid        int64         \n",
      " 1   pk_partition  datetime64[ns]\n",
      " 2   region_code   int64         \n",
      " 3   gender        object        \n",
      " 4   age           int64         \n",
      " 5   salary        float64       \n",
      "dtypes: datetime64[ns](1), float64(1), int64(3), object(1)\n",
      "memory usage: 318.3+ MB\n"
     ]
    }
   ],
   "source": [
    "df_cs.info()"
   ]
  },
  {
   "cell_type": "markdown",
   "metadata": {},
   "source": [
    "#### 1.1.2 Analizamos la tabla customer_commercial_activity"
   ]
  },
  {
   "cell_type": "code",
   "execution_count": 23,
   "metadata": {},
   "outputs": [
    {
     "name": "stdout",
     "output_type": "stream",
     "text": [
      "<class 'pandas.core.frame.DataFrame'>\n",
      "Index: 5962924 entries, 0 to 13647308\n",
      "Data columns (total 6 columns):\n",
      " #   Column           Dtype  \n",
      "---  ------           -----  \n",
      " 0   pk_cid           int64  \n",
      " 1   pk_partition     object \n",
      " 2   entry_date       object \n",
      " 3   entry_channel    object \n",
      " 4   active_customer  float64\n",
      " 5   segment          object \n",
      "dtypes: float64(1), int64(1), object(4)\n",
      "memory usage: 318.5+ MB\n"
     ]
    }
   ],
   "source": [
    "# Datos generales \n",
    "\n",
    "df_cca.info()"
   ]
  },
  {
   "cell_type": "code",
   "execution_count": 24,
   "metadata": {},
   "outputs": [
    {
     "data": {
      "text/html": [
       "<div>\n",
       "<style scoped>\n",
       "    .dataframe tbody tr th:only-of-type {\n",
       "        vertical-align: middle;\n",
       "    }\n",
       "\n",
       "    .dataframe tbody tr th {\n",
       "        vertical-align: top;\n",
       "    }\n",
       "\n",
       "    .dataframe thead th {\n",
       "        text-align: right;\n",
       "    }\n",
       "</style>\n",
       "<table border=\"1\" class=\"dataframe\">\n",
       "  <thead>\n",
       "    <tr style=\"text-align: right;\">\n",
       "      <th></th>\n",
       "      <th>pk_cid</th>\n",
       "      <th>pk_partition</th>\n",
       "      <th>entry_date</th>\n",
       "      <th>entry_channel</th>\n",
       "      <th>active_customer</th>\n",
       "      <th>segment</th>\n",
       "    </tr>\n",
       "  </thead>\n",
       "  <tbody>\n",
       "    <tr>\n",
       "      <th>0</th>\n",
       "      <td>1375586</td>\n",
       "      <td>2018-01</td>\n",
       "      <td>2018-01</td>\n",
       "      <td>KHL</td>\n",
       "      <td>1.0</td>\n",
       "      <td>02 - PARTICULARES</td>\n",
       "    </tr>\n",
       "    <tr>\n",
       "      <th>1</th>\n",
       "      <td>1050611</td>\n",
       "      <td>2018-01</td>\n",
       "      <td>2015-08</td>\n",
       "      <td>KHE</td>\n",
       "      <td>0.0</td>\n",
       "      <td>03 - UNIVERSITARIO</td>\n",
       "    </tr>\n",
       "    <tr>\n",
       "      <th>2</th>\n",
       "      <td>1050612</td>\n",
       "      <td>2018-01</td>\n",
       "      <td>2015-08</td>\n",
       "      <td>KHE</td>\n",
       "      <td>0.0</td>\n",
       "      <td>03 - UNIVERSITARIO</td>\n",
       "    </tr>\n",
       "    <tr>\n",
       "      <th>3</th>\n",
       "      <td>1050613</td>\n",
       "      <td>2018-01</td>\n",
       "      <td>2015-08</td>\n",
       "      <td>KHD</td>\n",
       "      <td>0.0</td>\n",
       "      <td>03 - UNIVERSITARIO</td>\n",
       "    </tr>\n",
       "    <tr>\n",
       "      <th>4</th>\n",
       "      <td>1050614</td>\n",
       "      <td>2018-01</td>\n",
       "      <td>2015-08</td>\n",
       "      <td>KHE</td>\n",
       "      <td>1.0</td>\n",
       "      <td>03 - UNIVERSITARIO</td>\n",
       "    </tr>\n",
       "  </tbody>\n",
       "</table>\n",
       "</div>"
      ],
      "text/plain": [
       "    pk_cid pk_partition entry_date entry_channel  active_customer  \\\n",
       "0  1375586      2018-01    2018-01           KHL              1.0   \n",
       "1  1050611      2018-01    2015-08           KHE              0.0   \n",
       "2  1050612      2018-01    2015-08           KHE              0.0   \n",
       "3  1050613      2018-01    2015-08           KHD              0.0   \n",
       "4  1050614      2018-01    2015-08           KHE              1.0   \n",
       "\n",
       "              segment  \n",
       "0   02 - PARTICULARES  \n",
       "1  03 - UNIVERSITARIO  \n",
       "2  03 - UNIVERSITARIO  \n",
       "3  03 - UNIVERSITARIO  \n",
       "4  03 - UNIVERSITARIO  "
      ]
     },
     "execution_count": 24,
     "metadata": {},
     "output_type": "execute_result"
    }
   ],
   "source": [
    "# Visualización de los datos\n",
    "df_cca.head()"
   ]
  },
  {
   "cell_type": "code",
   "execution_count": 25,
   "metadata": {},
   "outputs": [
    {
     "data": {
      "text/plain": [
       "pk_cid                  0\n",
       "pk_partition            0\n",
       "entry_date              0\n",
       "entry_channel      133033\n",
       "active_customer         0\n",
       "segment            133944\n",
       "dtype: int64"
      ]
     },
     "execution_count": 25,
     "metadata": {},
     "output_type": "execute_result"
    }
   ],
   "source": [
    "# Recuento de nulos \n",
    "\n",
    "df_cca.isna().sum()"
   ]
  },
  {
   "cell_type": "code",
   "execution_count": 26,
   "metadata": {},
   "outputs": [],
   "source": [
    "pd.set_option('display.max_rows', 100)"
   ]
  },
  {
   "cell_type": "code",
   "execution_count": 27,
   "metadata": {},
   "outputs": [
    {
     "data": {
      "text/plain": [
       "entry_channel\n",
       "KHE    53.413469\n",
       "KFC    15.276786\n",
       "KHQ    10.125061\n",
       "KAT     7.137080\n",
       "KHK     3.948564\n",
       "KHM     3.029062\n",
       "KHN     1.859966\n",
       "KFA     1.355428\n",
       "KHD     1.301894\n",
       "RED     1.039488\n",
       "KHL     0.715897\n",
       "KHF     0.354329\n",
       "KHO     0.141461\n",
       "KAZ     0.096657\n",
       "KHC     0.089899\n",
       "KBG     0.028508\n",
       "KEH     0.012487\n",
       "KHP     0.011853\n",
       "007     0.010515\n",
       "013     0.006810\n",
       "KAG     0.005746\n",
       "KAS     0.005232\n",
       "KBZ     0.003396\n",
       "KAA     0.003311\n",
       "KAR     0.002693\n",
       "KAY     0.002556\n",
       "KAF     0.002110\n",
       "KAB     0.001630\n",
       "KFD     0.001561\n",
       "KCC     0.001527\n",
       "KAW     0.001115\n",
       "KAQ     0.000892\n",
       "KDH     0.000875\n",
       "KAE     0.000823\n",
       "KCH     0.000823\n",
       "KCB     0.000806\n",
       "KAD     0.000772\n",
       "KAM     0.000738\n",
       "KAH     0.000686\n",
       "KAK     0.000583\n",
       "KAJ     0.000566\n",
       "KDT     0.000395\n",
       "KFF     0.000377\n",
       "KBO     0.000360\n",
       "KEY     0.000343\n",
       "KGC     0.000292\n",
       "004     0.000292\n",
       "KFS     0.000292\n",
       "KCL     0.000292\n",
       "KBE     0.000292\n",
       "KBH     0.000292\n",
       "KFK     0.000292\n",
       "KGN     0.000292\n",
       "KCI     0.000292\n",
       "KGX     0.000292\n",
       "KDR     0.000274\n",
       "KFL     0.000223\n",
       "KBW     0.000206\n",
       "KBU     0.000189\n",
       "KAI     0.000189\n",
       "KCK     0.000189\n",
       "KBY     0.000189\n",
       "KES     0.000189\n",
       "KEJ     0.000137\n",
       "KHS     0.000086\n",
       "KDA     0.000034\n",
       "KFP     0.000034\n",
       "KDS     0.000017\n",
       "Name: proportion, dtype: float64"
      ]
     },
     "execution_count": 27,
     "metadata": {},
     "output_type": "execute_result"
    }
   ],
   "source": [
    "df_cca['entry_channel'].value_counts(normalize = True)*100"
   ]
  },
  {
   "cell_type": "markdown",
   "metadata": {},
   "source": [
    "Vemos muchos valores de Entry Channel que son muy pocos en comparación con los valores mayoritarios. Elegimos los canales de entrada que tengan una proporción mayor al 1% y agrupamos el resto en Others"
   ]
  },
  {
   "cell_type": "code",
   "execution_count": 28,
   "metadata": {},
   "outputs": [],
   "source": [
    "value_counts = (df_cca['entry_channel'].value_counts(normalize = True, dropna=True)*100)\n",
    "df_cca['entry_channel'] = df_cca['entry_channel'].apply(lambda x: x if pd.isna(x) or value_counts.get(x, 0) >= 1 else 'Others')"
   ]
  },
  {
   "cell_type": "code",
   "execution_count": 29,
   "metadata": {},
   "outputs": [
    {
     "data": {
      "text/plain": [
       "entry_channel\n",
       "KHE       53.413469\n",
       "KFC       15.276786\n",
       "KHQ       10.125061\n",
       "KAT        7.137080\n",
       "KHK        3.948564\n",
       "KHM        3.029062\n",
       "KHN        1.859966\n",
       "Others     1.513202\n",
       "KFA        1.355428\n",
       "KHD        1.301894\n",
       "RED        1.039488\n",
       "Name: proportion, dtype: float64"
      ]
     },
     "execution_count": 29,
     "metadata": {},
     "output_type": "execute_result"
    }
   ],
   "source": [
    "df_cca['entry_channel'].value_counts(normalize = True)*100"
   ]
  },
  {
   "cell_type": "markdown",
   "metadata": {},
   "source": [
    "Analizamos la columna segment para ver los valores únicos, sabiendo que también tiene nulos"
   ]
  },
  {
   "cell_type": "code",
   "execution_count": 30,
   "metadata": {},
   "outputs": [
    {
     "data": {
      "text/plain": [
       "segment\n",
       "03 - UNIVERSITARIO    3900166\n",
       "02 - PARTICULARES     1830875\n",
       "01 - TOP                97939\n",
       "Name: count, dtype: int64"
      ]
     },
     "execution_count": 30,
     "metadata": {},
     "output_type": "execute_result"
    }
   ],
   "source": [
    "df_cca['segment'].value_counts()"
   ]
  },
  {
   "cell_type": "markdown",
   "metadata": {},
   "source": [
    "Rellenamos NaN de channel y segment con un valor identificativo como 'Not defined'"
   ]
  },
  {
   "cell_type": "code",
   "execution_count": 31,
   "metadata": {},
   "outputs": [
    {
     "name": "stderr",
     "output_type": "stream",
     "text": [
      "/var/folders/30/p6f8f3315kj4ds7bjm30ntwc0000gn/T/ipykernel_19960/2969524961.py:1: FutureWarning: A value is trying to be set on a copy of a DataFrame or Series through chained assignment using an inplace method.\n",
      "The behavior will change in pandas 3.0. This inplace method will never work because the intermediate object on which we are setting values always behaves as a copy.\n",
      "\n",
      "For example, when doing 'df[col].method(value, inplace=True)', try using 'df.method({col: value}, inplace=True)' or df[col] = df[col].method(value) instead, to perform the operation inplace on the original object.\n",
      "\n",
      "\n",
      "  df_cca[\"entry_channel\"].fillna('Not defined', inplace=True)\n",
      "/var/folders/30/p6f8f3315kj4ds7bjm30ntwc0000gn/T/ipykernel_19960/2969524961.py:2: FutureWarning: A value is trying to be set on a copy of a DataFrame or Series through chained assignment using an inplace method.\n",
      "The behavior will change in pandas 3.0. This inplace method will never work because the intermediate object on which we are setting values always behaves as a copy.\n",
      "\n",
      "For example, when doing 'df[col].method(value, inplace=True)', try using 'df.method({col: value}, inplace=True)' or df[col] = df[col].method(value) instead, to perform the operation inplace on the original object.\n",
      "\n",
      "\n",
      "  df_cca[\"segment\"].fillna('Not defined', inplace=True)\n"
     ]
    }
   ],
   "source": [
    "df_cca[\"entry_channel\"].fillna('Not defined', inplace=True)\n",
    "df_cca[\"segment\"].fillna('Not defined', inplace=True)"
   ]
  },
  {
   "cell_type": "code",
   "execution_count": 32,
   "metadata": {},
   "outputs": [
    {
     "data": {
      "text/plain": [
       "pk_cid             0\n",
       "pk_partition       0\n",
       "entry_date         0\n",
       "entry_channel      0\n",
       "active_customer    0\n",
       "segment            0\n",
       "dtype: int64"
      ]
     },
     "execution_count": 32,
     "metadata": {},
     "output_type": "execute_result"
    }
   ],
   "source": [
    "df_cca.isna().sum()"
   ]
  },
  {
   "cell_type": "code",
   "execution_count": 33,
   "metadata": {},
   "outputs": [
    {
     "data": {
      "text/plain": [
       "active_customer\n",
       "0.0    3557573\n",
       "1.0    2405351\n",
       "Name: count, dtype: int64"
      ]
     },
     "execution_count": 33,
     "metadata": {},
     "output_type": "execute_result"
    }
   ],
   "source": [
    "df_cca['active_customer'].value_counts()"
   ]
  },
  {
   "cell_type": "markdown",
   "metadata": {},
   "source": [
    "Transformarmos active_customer de float a int"
   ]
  },
  {
   "cell_type": "code",
   "execution_count": 34,
   "metadata": {},
   "outputs": [],
   "source": [
    "df_cca[\"active_customer\"] = df_cca[\"active_customer\"].astype(int)"
   ]
  },
  {
   "cell_type": "markdown",
   "metadata": {},
   "source": [
    "Transformamos las columna pk_partition y entry_date a fecha"
   ]
  },
  {
   "cell_type": "code",
   "execution_count": 35,
   "metadata": {},
   "outputs": [],
   "source": [
    "df_cca[\"pk_partition\"] = pd.to_datetime(df_cca[\"pk_partition\"])\n",
    "df_cca[\"entry_date\"] = pd.to_datetime(df_cca[\"entry_date\"])"
   ]
  },
  {
   "cell_type": "markdown",
   "metadata": {},
   "source": [
    "Finalmente, la tabla de customer_commercial_activity quedará así:"
   ]
  },
  {
   "cell_type": "code",
   "execution_count": 36,
   "metadata": {},
   "outputs": [
    {
     "name": "stdout",
     "output_type": "stream",
     "text": [
      "<class 'pandas.core.frame.DataFrame'>\n",
      "Index: 5962924 entries, 0 to 13647308\n",
      "Data columns (total 6 columns):\n",
      " #   Column           Dtype         \n",
      "---  ------           -----         \n",
      " 0   pk_cid           int64         \n",
      " 1   pk_partition     datetime64[ns]\n",
      " 2   entry_date       datetime64[ns]\n",
      " 3   entry_channel    object        \n",
      " 4   active_customer  int64         \n",
      " 5   segment          object        \n",
      "dtypes: datetime64[ns](2), int64(2), object(2)\n",
      "memory usage: 318.5+ MB\n"
     ]
    }
   ],
   "source": [
    "df_cca.info()"
   ]
  },
  {
   "cell_type": "markdown",
   "metadata": {},
   "source": [
    "#### 1.1.3 Analizamos la tabla sales"
   ]
  },
  {
   "cell_type": "code",
   "execution_count": 37,
   "metadata": {},
   "outputs": [
    {
     "name": "stdout",
     "output_type": "stream",
     "text": [
      "<class 'pandas.core.frame.DataFrame'>\n",
      "Index: 240773 entries, 0 to 240772\n",
      "Data columns (total 5 columns):\n",
      " #   Column      Non-Null Count   Dtype  \n",
      "---  ------      --------------   -----  \n",
      " 0   pk_sale     240773 non-null  int64  \n",
      " 1   cid         240773 non-null  int64  \n",
      " 2   month_sale  240773 non-null  object \n",
      " 3   product_ID  240773 non-null  int64  \n",
      " 4   net_margin  240773 non-null  float64\n",
      "dtypes: float64(1), int64(3), object(1)\n",
      "memory usage: 11.0+ MB\n"
     ]
    }
   ],
   "source": [
    "# Datos generales \n",
    "\n",
    "df_sales.info()"
   ]
  },
  {
   "cell_type": "code",
   "execution_count": 38,
   "metadata": {},
   "outputs": [
    {
     "data": {
      "text/html": [
       "<div>\n",
       "<style scoped>\n",
       "    .dataframe tbody tr th:only-of-type {\n",
       "        vertical-align: middle;\n",
       "    }\n",
       "\n",
       "    .dataframe tbody tr th {\n",
       "        vertical-align: top;\n",
       "    }\n",
       "\n",
       "    .dataframe thead th {\n",
       "        text-align: right;\n",
       "    }\n",
       "</style>\n",
       "<table border=\"1\" class=\"dataframe\">\n",
       "  <thead>\n",
       "    <tr style=\"text-align: right;\">\n",
       "      <th></th>\n",
       "      <th>pk_sale</th>\n",
       "      <th>cid</th>\n",
       "      <th>month_sale</th>\n",
       "      <th>product_ID</th>\n",
       "      <th>net_margin</th>\n",
       "    </tr>\n",
       "  </thead>\n",
       "  <tbody>\n",
       "    <tr>\n",
       "      <th>0</th>\n",
       "      <td>6666</td>\n",
       "      <td>33620</td>\n",
       "      <td>2018-05-01</td>\n",
       "      <td>2335</td>\n",
       "      <td>952.9</td>\n",
       "    </tr>\n",
       "    <tr>\n",
       "      <th>1</th>\n",
       "      <td>6667</td>\n",
       "      <td>35063</td>\n",
       "      <td>2018-06-01</td>\n",
       "      <td>2335</td>\n",
       "      <td>1625.2</td>\n",
       "    </tr>\n",
       "    <tr>\n",
       "      <th>2</th>\n",
       "      <td>6668</td>\n",
       "      <td>37299</td>\n",
       "      <td>2018-02-01</td>\n",
       "      <td>2335</td>\n",
       "      <td>1279.7</td>\n",
       "    </tr>\n",
       "    <tr>\n",
       "      <th>3</th>\n",
       "      <td>6669</td>\n",
       "      <td>39997</td>\n",
       "      <td>2018-02-01</td>\n",
       "      <td>2335</td>\n",
       "      <td>1511.9</td>\n",
       "    </tr>\n",
       "    <tr>\n",
       "      <th>4</th>\n",
       "      <td>6670</td>\n",
       "      <td>44012</td>\n",
       "      <td>2018-02-01</td>\n",
       "      <td>2335</td>\n",
       "      <td>1680.3</td>\n",
       "    </tr>\n",
       "  </tbody>\n",
       "</table>\n",
       "</div>"
      ],
      "text/plain": [
       "   pk_sale    cid  month_sale  product_ID  net_margin\n",
       "0     6666  33620  2018-05-01        2335       952.9\n",
       "1     6667  35063  2018-06-01        2335      1625.2\n",
       "2     6668  37299  2018-02-01        2335      1279.7\n",
       "3     6669  39997  2018-02-01        2335      1511.9\n",
       "4     6670  44012  2018-02-01        2335      1680.3"
      ]
     },
     "execution_count": 38,
     "metadata": {},
     "output_type": "execute_result"
    }
   ],
   "source": [
    "# Visualización de los datos\n",
    "df_sales.head()"
   ]
  },
  {
   "cell_type": "code",
   "execution_count": 39,
   "metadata": {},
   "outputs": [
    {
     "data": {
      "text/plain": [
       "pk_sale       0\n",
       "cid           0\n",
       "month_sale    0\n",
       "product_ID    0\n",
       "net_margin    0\n",
       "dtype: int64"
      ]
     },
     "execution_count": 39,
     "metadata": {},
     "output_type": "execute_result"
    }
   ],
   "source": [
    "# Recuento de nulos \n",
    "\n",
    "df_sales.isna().sum()"
   ]
  },
  {
   "cell_type": "markdown",
   "metadata": {},
   "source": [
    "La columna pk_sale es el identificador de la venta. Esta columna no va a ser necesaria para el modelo, por lo que la eliminamos."
   ]
  },
  {
   "cell_type": "code",
   "execution_count": 40,
   "metadata": {},
   "outputs": [],
   "source": [
    "del(df_sales['pk_sale'])"
   ]
  },
  {
   "cell_type": "markdown",
   "metadata": {},
   "source": [
    "La clolumna net_margin nos puede ser útil para decidir qué producto elegir para la predicción de nuestro modelo, por lo que de momento la dejamos."
   ]
  },
  {
   "cell_type": "markdown",
   "metadata": {},
   "source": [
    "Transformamos la columna month_sale a fecha"
   ]
  },
  {
   "cell_type": "code",
   "execution_count": 41,
   "metadata": {},
   "outputs": [],
   "source": [
    "df_sales[\"month_sale\"] = pd.to_datetime(df_sales[\"month_sale\"])"
   ]
  },
  {
   "cell_type": "markdown",
   "metadata": {},
   "source": [
    "Finalmente, la tabla de sales quedará así:"
   ]
  },
  {
   "cell_type": "code",
   "execution_count": 42,
   "metadata": {},
   "outputs": [
    {
     "name": "stdout",
     "output_type": "stream",
     "text": [
      "<class 'pandas.core.frame.DataFrame'>\n",
      "Index: 240773 entries, 0 to 240772\n",
      "Data columns (total 4 columns):\n",
      " #   Column      Non-Null Count   Dtype         \n",
      "---  ------      --------------   -----         \n",
      " 0   cid         240773 non-null  int64         \n",
      " 1   month_sale  240773 non-null  datetime64[ns]\n",
      " 2   product_ID  240773 non-null  int64         \n",
      " 3   net_margin  240773 non-null  float64       \n",
      "dtypes: datetime64[ns](1), float64(1), int64(2)\n",
      "memory usage: 9.2 MB\n"
     ]
    }
   ],
   "source": [
    "df_sales.info()"
   ]
  },
  {
   "cell_type": "markdown",
   "metadata": {},
   "source": [
    "## 1.4 Analizamos el dataset de customer product"
   ]
  },
  {
   "cell_type": "code",
   "execution_count": 43,
   "metadata": {},
   "outputs": [
    {
     "name": "stdout",
     "output_type": "stream",
     "text": [
      "<class 'pandas.core.frame.DataFrame'>\n",
      "Index: 5962924 entries, 0 to 13647308\n",
      "Data columns (total 17 columns):\n",
      " #   Column              Dtype  \n",
      "---  ------              -----  \n",
      " 0   pk_cid              int64  \n",
      " 1   pk_partition        object \n",
      " 2   short_term_deposit  int64  \n",
      " 3   loans               int64  \n",
      " 4   mortgage            int64  \n",
      " 5   funds               int64  \n",
      " 6   securities          int64  \n",
      " 7   long_term_deposit   int64  \n",
      " 8   em_account_pp       int64  \n",
      " 9   credit_card         int64  \n",
      " 10  payroll             float64\n",
      " 11  pension_plan        float64\n",
      " 12  payroll_account     int64  \n",
      " 13  emc_account         int64  \n",
      " 14  debit_card          int64  \n",
      " 15  em_account_p        int64  \n",
      " 16  em_acount           int64  \n",
      "dtypes: float64(2), int64(14), object(1)\n",
      "memory usage: 818.9+ MB\n"
     ]
    }
   ],
   "source": [
    "df_customer_products.info()"
   ]
  },
  {
   "cell_type": "code",
   "execution_count": 44,
   "metadata": {},
   "outputs": [],
   "source": [
    "df_customer_products[\"pk_partition\"] = pd.to_datetime(df_customer_products[\"pk_partition\"] )"
   ]
  },
  {
   "cell_type": "code",
   "execution_count": 45,
   "metadata": {},
   "outputs": [
    {
     "data": {
      "text/plain": [
       "pk_cid                 0\n",
       "pk_partition           0\n",
       "short_term_deposit     0\n",
       "loans                  0\n",
       "mortgage               0\n",
       "funds                  0\n",
       "securities             0\n",
       "long_term_deposit      0\n",
       "em_account_pp          0\n",
       "credit_card            0\n",
       "payroll               61\n",
       "pension_plan          61\n",
       "payroll_account        0\n",
       "emc_account            0\n",
       "debit_card             0\n",
       "em_account_p           0\n",
       "em_acount              0\n",
       "dtype: int64"
      ]
     },
     "execution_count": 45,
     "metadata": {},
     "output_type": "execute_result"
    }
   ],
   "source": [
    "df_customer_products.isnull().sum()"
   ]
  },
  {
   "cell_type": "code",
   "execution_count": 46,
   "metadata": {},
   "outputs": [],
   "source": [
    "df_customer_products[\"payroll\"]=df_customer_products[\"payroll\"].fillna(0)\n",
    "df_customer_products[ 'pension_plan']=df_customer_products[ 'pension_plan'].fillna(0)"
   ]
  },
  {
   "cell_type": "code",
   "execution_count": 47,
   "metadata": {},
   "outputs": [
    {
     "data": {
      "text/plain": [
       "pk_cid                0\n",
       "pk_partition          0\n",
       "short_term_deposit    0\n",
       "loans                 0\n",
       "mortgage              0\n",
       "funds                 0\n",
       "securities            0\n",
       "long_term_deposit     0\n",
       "em_account_pp         0\n",
       "credit_card           0\n",
       "payroll               0\n",
       "pension_plan          0\n",
       "payroll_account       0\n",
       "emc_account           0\n",
       "debit_card            0\n",
       "em_account_p          0\n",
       "em_acount             0\n",
       "dtype: int64"
      ]
     },
     "execution_count": 47,
     "metadata": {},
     "output_type": "execute_result"
    }
   ],
   "source": [
    "df_customer_products.isnull().sum()"
   ]
  },
  {
   "cell_type": "markdown",
   "metadata": {},
   "source": [
    "## 2: Construcción del dataset para el modelo"
   ]
  },
  {
   "cell_type": "markdown",
   "metadata": {},
   "source": [
    "Vamos a hacer un inner merge de todos los datasets, ya que nos interesa agrupar toda la información analizada en un único dataframe, que contenga toda la información por el id de cliente."
   ]
  },
  {
   "cell_type": "code",
   "execution_count": 48,
   "metadata": {},
   "outputs": [],
   "source": [
    "df_merged = pd.merge(\n",
    "    left = df_cca, \n",
    "    right = df_cs,\n",
    "    on = ('pk_cid', 'pk_partition'),\n",
    "    how = 'inner')"
   ]
  },
  {
   "cell_type": "code",
   "execution_count": 49,
   "metadata": {},
   "outputs": [
    {
     "data": {
      "text/html": [
       "<div>\n",
       "<style scoped>\n",
       "    .dataframe tbody tr th:only-of-type {\n",
       "        vertical-align: middle;\n",
       "    }\n",
       "\n",
       "    .dataframe tbody tr th {\n",
       "        vertical-align: top;\n",
       "    }\n",
       "\n",
       "    .dataframe thead th {\n",
       "        text-align: right;\n",
       "    }\n",
       "</style>\n",
       "<table border=\"1\" class=\"dataframe\">\n",
       "  <thead>\n",
       "    <tr style=\"text-align: right;\">\n",
       "      <th></th>\n",
       "      <th>pk_cid</th>\n",
       "      <th>pk_partition</th>\n",
       "      <th>entry_date</th>\n",
       "      <th>entry_channel</th>\n",
       "      <th>active_customer</th>\n",
       "      <th>segment</th>\n",
       "      <th>region_code</th>\n",
       "      <th>gender</th>\n",
       "      <th>age</th>\n",
       "      <th>salary</th>\n",
       "    </tr>\n",
       "  </thead>\n",
       "  <tbody>\n",
       "    <tr>\n",
       "      <th>0</th>\n",
       "      <td>1375586</td>\n",
       "      <td>2018-01-01</td>\n",
       "      <td>2018-01-01</td>\n",
       "      <td>Others</td>\n",
       "      <td>1</td>\n",
       "      <td>02 - PARTICULARES</td>\n",
       "      <td>29</td>\n",
       "      <td>H</td>\n",
       "      <td>35</td>\n",
       "      <td>87218.10</td>\n",
       "    </tr>\n",
       "    <tr>\n",
       "      <th>1</th>\n",
       "      <td>1050611</td>\n",
       "      <td>2018-01-01</td>\n",
       "      <td>2015-08-01</td>\n",
       "      <td>KHE</td>\n",
       "      <td>0</td>\n",
       "      <td>03 - UNIVERSITARIO</td>\n",
       "      <td>13</td>\n",
       "      <td>V</td>\n",
       "      <td>23</td>\n",
       "      <td>35548.74</td>\n",
       "    </tr>\n",
       "    <tr>\n",
       "      <th>2</th>\n",
       "      <td>1050612</td>\n",
       "      <td>2018-01-01</td>\n",
       "      <td>2015-08-01</td>\n",
       "      <td>KHE</td>\n",
       "      <td>0</td>\n",
       "      <td>03 - UNIVERSITARIO</td>\n",
       "      <td>13</td>\n",
       "      <td>V</td>\n",
       "      <td>23</td>\n",
       "      <td>122179.11</td>\n",
       "    </tr>\n",
       "    <tr>\n",
       "      <th>3</th>\n",
       "      <td>1050613</td>\n",
       "      <td>2018-01-01</td>\n",
       "      <td>2015-08-01</td>\n",
       "      <td>KHD</td>\n",
       "      <td>0</td>\n",
       "      <td>03 - UNIVERSITARIO</td>\n",
       "      <td>50</td>\n",
       "      <td>H</td>\n",
       "      <td>22</td>\n",
       "      <td>119775.54</td>\n",
       "    </tr>\n",
       "    <tr>\n",
       "      <th>4</th>\n",
       "      <td>1050614</td>\n",
       "      <td>2018-01-01</td>\n",
       "      <td>2015-08-01</td>\n",
       "      <td>KHE</td>\n",
       "      <td>1</td>\n",
       "      <td>03 - UNIVERSITARIO</td>\n",
       "      <td>50</td>\n",
       "      <td>V</td>\n",
       "      <td>23</td>\n",
       "      <td>-1.00</td>\n",
       "    </tr>\n",
       "  </tbody>\n",
       "</table>\n",
       "</div>"
      ],
      "text/plain": [
       "    pk_cid pk_partition entry_date entry_channel  active_customer  \\\n",
       "0  1375586   2018-01-01 2018-01-01        Others                1   \n",
       "1  1050611   2018-01-01 2015-08-01           KHE                0   \n",
       "2  1050612   2018-01-01 2015-08-01           KHE                0   \n",
       "3  1050613   2018-01-01 2015-08-01           KHD                0   \n",
       "4  1050614   2018-01-01 2015-08-01           KHE                1   \n",
       "\n",
       "              segment  region_code gender  age     salary  \n",
       "0   02 - PARTICULARES           29      H   35   87218.10  \n",
       "1  03 - UNIVERSITARIO           13      V   23   35548.74  \n",
       "2  03 - UNIVERSITARIO           13      V   23  122179.11  \n",
       "3  03 - UNIVERSITARIO           50      H   22  119775.54  \n",
       "4  03 - UNIVERSITARIO           50      V   23      -1.00  "
      ]
     },
     "execution_count": 49,
     "metadata": {},
     "output_type": "execute_result"
    }
   ],
   "source": [
    "df_merged.head()"
   ]
  },
  {
   "cell_type": "code",
   "execution_count": 50,
   "metadata": {},
   "outputs": [],
   "source": [
    "df_merged2 = pd.merge(\n",
    "    left = df_merged, \n",
    "    right = df_customer_products,\n",
    "    on = ('pk_cid', 'pk_partition'),\n",
    "    how = 'inner')"
   ]
  },
  {
   "cell_type": "code",
   "execution_count": 51,
   "metadata": {},
   "outputs": [],
   "source": [
    "pd.set_option('display.max_rows', 1000)"
   ]
  },
  {
   "cell_type": "markdown",
   "metadata": {},
   "source": [
    "### Limpiamos todas las particiones menos la última 5-2019"
   ]
  },
  {
   "cell_type": "code",
   "execution_count": 52,
   "metadata": {},
   "outputs": [],
   "source": [
    "df_merged2=df_merged2.loc[df_merged2['pk_partition'] =='2019-05']"
   ]
  },
  {
   "cell_type": "code",
   "execution_count": 53,
   "metadata": {},
   "outputs": [
    {
     "data": {
      "text/html": [
       "<div>\n",
       "<style scoped>\n",
       "    .dataframe tbody tr th:only-of-type {\n",
       "        vertical-align: middle;\n",
       "    }\n",
       "\n",
       "    .dataframe tbody tr th {\n",
       "        vertical-align: top;\n",
       "    }\n",
       "\n",
       "    .dataframe thead th {\n",
       "        text-align: right;\n",
       "    }\n",
       "</style>\n",
       "<table border=\"1\" class=\"dataframe\">\n",
       "  <thead>\n",
       "    <tr style=\"text-align: right;\">\n",
       "      <th></th>\n",
       "      <th>pk_cid</th>\n",
       "      <th>pk_partition</th>\n",
       "      <th>entry_date</th>\n",
       "      <th>entry_channel</th>\n",
       "      <th>active_customer</th>\n",
       "      <th>segment</th>\n",
       "      <th>region_code</th>\n",
       "      <th>gender</th>\n",
       "      <th>age</th>\n",
       "      <th>salary</th>\n",
       "      <th>...</th>\n",
       "      <th>long_term_deposit</th>\n",
       "      <th>em_account_pp</th>\n",
       "      <th>credit_card</th>\n",
       "      <th>payroll</th>\n",
       "      <th>pension_plan</th>\n",
       "      <th>payroll_account</th>\n",
       "      <th>emc_account</th>\n",
       "      <th>debit_card</th>\n",
       "      <th>em_account_p</th>\n",
       "      <th>em_acount</th>\n",
       "    </tr>\n",
       "  </thead>\n",
       "  <tbody>\n",
       "    <tr>\n",
       "      <th>5516831</th>\n",
       "      <td>657826</td>\n",
       "      <td>2019-05-01</td>\n",
       "      <td>2015-05-01</td>\n",
       "      <td>Others</td>\n",
       "      <td>1</td>\n",
       "      <td>02 - PARTICULARES</td>\n",
       "      <td>25</td>\n",
       "      <td>H</td>\n",
       "      <td>44</td>\n",
       "      <td>54493.38</td>\n",
       "      <td>...</td>\n",
       "      <td>0</td>\n",
       "      <td>0</td>\n",
       "      <td>0</td>\n",
       "      <td>0.0</td>\n",
       "      <td>0.0</td>\n",
       "      <td>0</td>\n",
       "      <td>0</td>\n",
       "      <td>0</td>\n",
       "      <td>0</td>\n",
       "      <td>1</td>\n",
       "    </tr>\n",
       "    <tr>\n",
       "      <th>5516832</th>\n",
       "      <td>657817</td>\n",
       "      <td>2019-05-01</td>\n",
       "      <td>2019-05-01</td>\n",
       "      <td>Not defined</td>\n",
       "      <td>0</td>\n",
       "      <td>Not defined</td>\n",
       "      <td>8</td>\n",
       "      <td>V</td>\n",
       "      <td>32</td>\n",
       "      <td>-1.00</td>\n",
       "      <td>...</td>\n",
       "      <td>0</td>\n",
       "      <td>0</td>\n",
       "      <td>0</td>\n",
       "      <td>0.0</td>\n",
       "      <td>0.0</td>\n",
       "      <td>0</td>\n",
       "      <td>0</td>\n",
       "      <td>0</td>\n",
       "      <td>0</td>\n",
       "      <td>0</td>\n",
       "    </tr>\n",
       "    <tr>\n",
       "      <th>5516833</th>\n",
       "      <td>657986</td>\n",
       "      <td>2019-05-01</td>\n",
       "      <td>2016-02-01</td>\n",
       "      <td>Others</td>\n",
       "      <td>1</td>\n",
       "      <td>02 - PARTICULARES</td>\n",
       "      <td>41</td>\n",
       "      <td>H</td>\n",
       "      <td>39</td>\n",
       "      <td>100993.17</td>\n",
       "      <td>...</td>\n",
       "      <td>0</td>\n",
       "      <td>0</td>\n",
       "      <td>1</td>\n",
       "      <td>1.0</td>\n",
       "      <td>1.0</td>\n",
       "      <td>1</td>\n",
       "      <td>1</td>\n",
       "      <td>1</td>\n",
       "      <td>0</td>\n",
       "      <td>0</td>\n",
       "    </tr>\n",
       "    <tr>\n",
       "      <th>5516834</th>\n",
       "      <td>657905</td>\n",
       "      <td>2019-05-01</td>\n",
       "      <td>2017-02-01</td>\n",
       "      <td>KAT</td>\n",
       "      <td>1</td>\n",
       "      <td>01 - TOP</td>\n",
       "      <td>28</td>\n",
       "      <td>H</td>\n",
       "      <td>85</td>\n",
       "      <td>154059.09</td>\n",
       "      <td>...</td>\n",
       "      <td>1</td>\n",
       "      <td>0</td>\n",
       "      <td>0</td>\n",
       "      <td>0.0</td>\n",
       "      <td>0.0</td>\n",
       "      <td>0</td>\n",
       "      <td>0</td>\n",
       "      <td>0</td>\n",
       "      <td>0</td>\n",
       "      <td>1</td>\n",
       "    </tr>\n",
       "    <tr>\n",
       "      <th>5516835</th>\n",
       "      <td>657336</td>\n",
       "      <td>2019-05-01</td>\n",
       "      <td>2019-03-01</td>\n",
       "      <td>KAT</td>\n",
       "      <td>1</td>\n",
       "      <td>02 - PARTICULARES</td>\n",
       "      <td>28</td>\n",
       "      <td>V</td>\n",
       "      <td>38</td>\n",
       "      <td>-1.00</td>\n",
       "      <td>...</td>\n",
       "      <td>0</td>\n",
       "      <td>0</td>\n",
       "      <td>0</td>\n",
       "      <td>0.0</td>\n",
       "      <td>0.0</td>\n",
       "      <td>0</td>\n",
       "      <td>0</td>\n",
       "      <td>0</td>\n",
       "      <td>0</td>\n",
       "      <td>1</td>\n",
       "    </tr>\n",
       "    <tr>\n",
       "      <th>...</th>\n",
       "      <td>...</td>\n",
       "      <td>...</td>\n",
       "      <td>...</td>\n",
       "      <td>...</td>\n",
       "      <td>...</td>\n",
       "      <td>...</td>\n",
       "      <td>...</td>\n",
       "      <td>...</td>\n",
       "      <td>...</td>\n",
       "      <td>...</td>\n",
       "      <td>...</td>\n",
       "      <td>...</td>\n",
       "      <td>...</td>\n",
       "      <td>...</td>\n",
       "      <td>...</td>\n",
       "      <td>...</td>\n",
       "      <td>...</td>\n",
       "      <td>...</td>\n",
       "      <td>...</td>\n",
       "      <td>...</td>\n",
       "      <td>...</td>\n",
       "    </tr>\n",
       "    <tr>\n",
       "      <th>5959572</th>\n",
       "      <td>1166765</td>\n",
       "      <td>2019-05-01</td>\n",
       "      <td>2016-08-01</td>\n",
       "      <td>KHE</td>\n",
       "      <td>0</td>\n",
       "      <td>03 - UNIVERSITARIO</td>\n",
       "      <td>50</td>\n",
       "      <td>V</td>\n",
       "      <td>22</td>\n",
       "      <td>43912.17</td>\n",
       "      <td>...</td>\n",
       "      <td>0</td>\n",
       "      <td>0</td>\n",
       "      <td>0</td>\n",
       "      <td>0.0</td>\n",
       "      <td>0.0</td>\n",
       "      <td>0</td>\n",
       "      <td>0</td>\n",
       "      <td>0</td>\n",
       "      <td>0</td>\n",
       "      <td>1</td>\n",
       "    </tr>\n",
       "    <tr>\n",
       "      <th>5959573</th>\n",
       "      <td>1166764</td>\n",
       "      <td>2019-05-01</td>\n",
       "      <td>2016-08-01</td>\n",
       "      <td>KHE</td>\n",
       "      <td>0</td>\n",
       "      <td>03 - UNIVERSITARIO</td>\n",
       "      <td>26</td>\n",
       "      <td>V</td>\n",
       "      <td>23</td>\n",
       "      <td>23334.99</td>\n",
       "      <td>...</td>\n",
       "      <td>0</td>\n",
       "      <td>0</td>\n",
       "      <td>0</td>\n",
       "      <td>0.0</td>\n",
       "      <td>0.0</td>\n",
       "      <td>0</td>\n",
       "      <td>0</td>\n",
       "      <td>0</td>\n",
       "      <td>0</td>\n",
       "      <td>1</td>\n",
       "    </tr>\n",
       "    <tr>\n",
       "      <th>5959574</th>\n",
       "      <td>1166763</td>\n",
       "      <td>2019-05-01</td>\n",
       "      <td>2016-08-01</td>\n",
       "      <td>KHE</td>\n",
       "      <td>1</td>\n",
       "      <td>02 - PARTICULARES</td>\n",
       "      <td>50</td>\n",
       "      <td>H</td>\n",
       "      <td>47</td>\n",
       "      <td>-1.00</td>\n",
       "      <td>...</td>\n",
       "      <td>0</td>\n",
       "      <td>0</td>\n",
       "      <td>0</td>\n",
       "      <td>0.0</td>\n",
       "      <td>0.0</td>\n",
       "      <td>0</td>\n",
       "      <td>0</td>\n",
       "      <td>0</td>\n",
       "      <td>0</td>\n",
       "      <td>1</td>\n",
       "    </tr>\n",
       "    <tr>\n",
       "      <th>5959575</th>\n",
       "      <td>1166789</td>\n",
       "      <td>2019-05-01</td>\n",
       "      <td>2016-08-01</td>\n",
       "      <td>KHE</td>\n",
       "      <td>0</td>\n",
       "      <td>03 - UNIVERSITARIO</td>\n",
       "      <td>50</td>\n",
       "      <td>H</td>\n",
       "      <td>22</td>\n",
       "      <td>199592.82</td>\n",
       "      <td>...</td>\n",
       "      <td>0</td>\n",
       "      <td>0</td>\n",
       "      <td>0</td>\n",
       "      <td>0.0</td>\n",
       "      <td>0.0</td>\n",
       "      <td>0</td>\n",
       "      <td>0</td>\n",
       "      <td>0</td>\n",
       "      <td>0</td>\n",
       "      <td>1</td>\n",
       "    </tr>\n",
       "    <tr>\n",
       "      <th>5959576</th>\n",
       "      <td>1550586</td>\n",
       "      <td>2019-05-01</td>\n",
       "      <td>2019-05-01</td>\n",
       "      <td>Not defined</td>\n",
       "      <td>1</td>\n",
       "      <td>Not defined</td>\n",
       "      <td>28</td>\n",
       "      <td>H</td>\n",
       "      <td>37</td>\n",
       "      <td>-1.00</td>\n",
       "      <td>...</td>\n",
       "      <td>0</td>\n",
       "      <td>0</td>\n",
       "      <td>0</td>\n",
       "      <td>0.0</td>\n",
       "      <td>0.0</td>\n",
       "      <td>0</td>\n",
       "      <td>0</td>\n",
       "      <td>0</td>\n",
       "      <td>0</td>\n",
       "      <td>1</td>\n",
       "    </tr>\n",
       "  </tbody>\n",
       "</table>\n",
       "<p>442746 rows × 25 columns</p>\n",
       "</div>"
      ],
      "text/plain": [
       "          pk_cid pk_partition entry_date entry_channel  active_customer  \\\n",
       "5516831   657826   2019-05-01 2015-05-01        Others                1   \n",
       "5516832   657817   2019-05-01 2019-05-01   Not defined                0   \n",
       "5516833   657986   2019-05-01 2016-02-01        Others                1   \n",
       "5516834   657905   2019-05-01 2017-02-01           KAT                1   \n",
       "5516835   657336   2019-05-01 2019-03-01           KAT                1   \n",
       "...          ...          ...        ...           ...              ...   \n",
       "5959572  1166765   2019-05-01 2016-08-01           KHE                0   \n",
       "5959573  1166764   2019-05-01 2016-08-01           KHE                0   \n",
       "5959574  1166763   2019-05-01 2016-08-01           KHE                1   \n",
       "5959575  1166789   2019-05-01 2016-08-01           KHE                0   \n",
       "5959576  1550586   2019-05-01 2019-05-01   Not defined                1   \n",
       "\n",
       "                    segment  region_code gender  age     salary  ...  \\\n",
       "5516831   02 - PARTICULARES           25      H   44   54493.38  ...   \n",
       "5516832         Not defined            8      V   32      -1.00  ...   \n",
       "5516833   02 - PARTICULARES           41      H   39  100993.17  ...   \n",
       "5516834            01 - TOP           28      H   85  154059.09  ...   \n",
       "5516835   02 - PARTICULARES           28      V   38      -1.00  ...   \n",
       "...                     ...          ...    ...  ...        ...  ...   \n",
       "5959572  03 - UNIVERSITARIO           50      V   22   43912.17  ...   \n",
       "5959573  03 - UNIVERSITARIO           26      V   23   23334.99  ...   \n",
       "5959574   02 - PARTICULARES           50      H   47      -1.00  ...   \n",
       "5959575  03 - UNIVERSITARIO           50      H   22  199592.82  ...   \n",
       "5959576         Not defined           28      H   37      -1.00  ...   \n",
       "\n",
       "         long_term_deposit  em_account_pp  credit_card  payroll  pension_plan  \\\n",
       "5516831                  0              0            0      0.0           0.0   \n",
       "5516832                  0              0            0      0.0           0.0   \n",
       "5516833                  0              0            1      1.0           1.0   \n",
       "5516834                  1              0            0      0.0           0.0   \n",
       "5516835                  0              0            0      0.0           0.0   \n",
       "...                    ...            ...          ...      ...           ...   \n",
       "5959572                  0              0            0      0.0           0.0   \n",
       "5959573                  0              0            0      0.0           0.0   \n",
       "5959574                  0              0            0      0.0           0.0   \n",
       "5959575                  0              0            0      0.0           0.0   \n",
       "5959576                  0              0            0      0.0           0.0   \n",
       "\n",
       "         payroll_account  emc_account  debit_card  em_account_p  em_acount  \n",
       "5516831                0            0           0             0          1  \n",
       "5516832                0            0           0             0          0  \n",
       "5516833                1            1           1             0          0  \n",
       "5516834                0            0           0             0          1  \n",
       "5516835                0            0           0             0          1  \n",
       "...                  ...          ...         ...           ...        ...  \n",
       "5959572                0            0           0             0          1  \n",
       "5959573                0            0           0             0          1  \n",
       "5959574                0            0           0             0          1  \n",
       "5959575                0            0           0             0          1  \n",
       "5959576                0            0           0             0          1  \n",
       "\n",
       "[442746 rows x 25 columns]"
      ]
     },
     "execution_count": 53,
     "metadata": {},
     "output_type": "execute_result"
    }
   ],
   "source": [
    "df_merged2"
   ]
  },
  {
   "cell_type": "markdown",
   "metadata": {},
   "source": [
    "Juntamos con la última partición de sales"
   ]
  },
  {
   "cell_type": "code",
   "execution_count": 54,
   "metadata": {},
   "outputs": [],
   "source": [
    "df_merged3 = pd.merge(\n",
    "    left = df_merged2, \n",
    "    right = df_sales,\n",
    "    left_on = 'pk_cid',\n",
    "    right_on  = 'cid',\n",
    "    how = 'inner')"
   ]
  },
  {
   "cell_type": "code",
   "execution_count": 55,
   "metadata": {},
   "outputs": [
    {
     "name": "stdout",
     "output_type": "stream",
     "text": [
      "<class 'pandas.core.frame.DataFrame'>\n",
      "RangeIndex: 236279 entries, 0 to 236278\n",
      "Data columns (total 29 columns):\n",
      " #   Column              Non-Null Count   Dtype         \n",
      "---  ------              --------------   -----         \n",
      " 0   pk_cid              236279 non-null  int64         \n",
      " 1   pk_partition        236279 non-null  datetime64[ns]\n",
      " 2   entry_date          236279 non-null  datetime64[ns]\n",
      " 3   entry_channel       236279 non-null  object        \n",
      " 4   active_customer     236279 non-null  int64         \n",
      " 5   segment             236279 non-null  object        \n",
      " 6   region_code         236279 non-null  int64         \n",
      " 7   gender              236279 non-null  object        \n",
      " 8   age                 236279 non-null  int64         \n",
      " 9   salary              236279 non-null  float64       \n",
      " 10  short_term_deposit  236279 non-null  int64         \n",
      " 11  loans               236279 non-null  int64         \n",
      " 12  mortgage            236279 non-null  int64         \n",
      " 13  funds               236279 non-null  int64         \n",
      " 14  securities          236279 non-null  int64         \n",
      " 15  long_term_deposit   236279 non-null  int64         \n",
      " 16  em_account_pp       236279 non-null  int64         \n",
      " 17  credit_card         236279 non-null  int64         \n",
      " 18  payroll             236279 non-null  float64       \n",
      " 19  pension_plan        236279 non-null  float64       \n",
      " 20  payroll_account     236279 non-null  int64         \n",
      " 21  emc_account         236279 non-null  int64         \n",
      " 22  debit_card          236279 non-null  int64         \n",
      " 23  em_account_p        236279 non-null  int64         \n",
      " 24  em_acount           236279 non-null  int64         \n",
      " 25  cid                 236279 non-null  int64         \n",
      " 26  month_sale          236279 non-null  datetime64[ns]\n",
      " 27  product_ID          236279 non-null  int64         \n",
      " 28  net_margin          236279 non-null  float64       \n",
      "dtypes: datetime64[ns](3), float64(4), int64(19), object(3)\n",
      "memory usage: 52.3+ MB\n"
     ]
    }
   ],
   "source": [
    "df_merged3.info()"
   ]
  },
  {
   "cell_type": "markdown",
   "metadata": {},
   "source": [
    "## Creamos datasets con los datos de clientes y productos"
   ]
  },
  {
   "cell_type": "code",
   "execution_count": 56,
   "metadata": {},
   "outputs": [],
   "source": [
    "df_final = df_merged3.copy()"
   ]
  },
  {
   "cell_type": "code",
   "execution_count": 57,
   "metadata": {},
   "outputs": [
    {
     "name": "stdout",
     "output_type": "stream",
     "text": [
      "<class 'pandas.core.frame.DataFrame'>\n",
      "RangeIndex: 236279 entries, 0 to 236278\n",
      "Data columns (total 29 columns):\n",
      " #   Column              Non-Null Count   Dtype         \n",
      "---  ------              --------------   -----         \n",
      " 0   pk_cid              236279 non-null  int64         \n",
      " 1   pk_partition        236279 non-null  datetime64[ns]\n",
      " 2   entry_date          236279 non-null  datetime64[ns]\n",
      " 3   entry_channel       236279 non-null  object        \n",
      " 4   active_customer     236279 non-null  int64         \n",
      " 5   segment             236279 non-null  object        \n",
      " 6   region_code         236279 non-null  int64         \n",
      " 7   gender              236279 non-null  object        \n",
      " 8   age                 236279 non-null  int64         \n",
      " 9   salary              236279 non-null  float64       \n",
      " 10  short_term_deposit  236279 non-null  int64         \n",
      " 11  loans               236279 non-null  int64         \n",
      " 12  mortgage            236279 non-null  int64         \n",
      " 13  funds               236279 non-null  int64         \n",
      " 14  securities          236279 non-null  int64         \n",
      " 15  long_term_deposit   236279 non-null  int64         \n",
      " 16  em_account_pp       236279 non-null  int64         \n",
      " 17  credit_card         236279 non-null  int64         \n",
      " 18  payroll             236279 non-null  float64       \n",
      " 19  pension_plan        236279 non-null  float64       \n",
      " 20  payroll_account     236279 non-null  int64         \n",
      " 21  emc_account         236279 non-null  int64         \n",
      " 22  debit_card          236279 non-null  int64         \n",
      " 23  em_account_p        236279 non-null  int64         \n",
      " 24  em_acount           236279 non-null  int64         \n",
      " 25  cid                 236279 non-null  int64         \n",
      " 26  month_sale          236279 non-null  datetime64[ns]\n",
      " 27  product_ID          236279 non-null  int64         \n",
      " 28  net_margin          236279 non-null  float64       \n",
      "dtypes: datetime64[ns](3), float64(4), int64(19), object(3)\n",
      "memory usage: 52.3+ MB\n"
     ]
    }
   ],
   "source": [
    "df_final.info()"
   ]
  },
  {
   "cell_type": "code",
   "execution_count": 58,
   "metadata": {},
   "outputs": [],
   "source": [
    "value_counts = (df_final['entry_channel'].value_counts(normalize = True, dropna=True)*100)\n",
    "df_final['entry_channel'] = df_final['entry_channel'].apply(lambda x: x if pd.isna(x) or value_counts.get(x, 0) >= 1 else 'Others')"
   ]
  },
  {
   "cell_type": "code",
   "execution_count": 59,
   "metadata": {},
   "outputs": [
    {
     "data": {
      "text/plain": [
       "entry_channel\n",
       "KHQ       59998\n",
       "KHM       42076\n",
       "KFC       27559\n",
       "KHN       26737\n",
       "KHE       21955\n",
       "KHK       20873\n",
       "KAT       14198\n",
       "Others    10211\n",
       "RED        8720\n",
       "KFA        3952\n",
       "Name: count, dtype: int64"
      ]
     },
     "execution_count": 59,
     "metadata": {},
     "output_type": "execute_result"
    }
   ],
   "source": [
    "df_final['entry_channel'].value_counts()"
   ]
  },
  {
   "cell_type": "markdown",
   "metadata": {},
   "source": [
    "## Importamos librerías para empezar el modelo"
   ]
  },
  {
   "cell_type": "code",
   "execution_count": 60,
   "metadata": {},
   "outputs": [],
   "source": [
    "# silence warnings\n",
    "import warnings\n",
    "warnings.filterwarnings(\"ignore\")\n",
    "\n",
    "# operating system\n",
    "import os\n",
    "\n",
    "# time calculation to track some processes\n",
    "import time\n",
    "\n",
    "# numeric and matrix operations\n",
    "import numpy as np\n",
    "import pandas as pd\n",
    "\n",
    "# python core library for machine learning and data science\n",
    "import sklearn\n",
    "from sklearn import set_config\n",
    "set_config(transform_output = \"pandas\")\n",
    "\n",
    "from sklearn.pipeline import Pipeline\n",
    "from sklearn.preprocessing import FunctionTransformer\n",
    "from sklearn.preprocessing import RobustScaler, MinMaxScaler\n",
    "from sklearn.impute import KNNImputer, SimpleImputer\n",
    "from sklearn.cluster import KMeans"
   ]
  },
  {
   "cell_type": "code",
   "execution_count": 61,
   "metadata": {},
   "outputs": [],
   "source": [
    "RANDOM_STATE = 175  #Definimos la semilla"
   ]
  },
  {
   "cell_type": "code",
   "execution_count": 62,
   "metadata": {},
   "outputs": [
    {
     "data": {
      "text/html": [
       "<div>\n",
       "<style scoped>\n",
       "    .dataframe tbody tr th:only-of-type {\n",
       "        vertical-align: middle;\n",
       "    }\n",
       "\n",
       "    .dataframe tbody tr th {\n",
       "        vertical-align: top;\n",
       "    }\n",
       "\n",
       "    .dataframe thead th {\n",
       "        text-align: right;\n",
       "    }\n",
       "</style>\n",
       "<table border=\"1\" class=\"dataframe\">\n",
       "  <thead>\n",
       "    <tr style=\"text-align: right;\">\n",
       "      <th></th>\n",
       "      <th>pk_cid</th>\n",
       "      <th>pk_partition</th>\n",
       "      <th>entry_date</th>\n",
       "      <th>entry_channel</th>\n",
       "      <th>active_customer</th>\n",
       "      <th>segment</th>\n",
       "      <th>region_code</th>\n",
       "      <th>gender</th>\n",
       "      <th>age</th>\n",
       "      <th>salary</th>\n",
       "      <th>...</th>\n",
       "      <th>pension_plan</th>\n",
       "      <th>payroll_account</th>\n",
       "      <th>emc_account</th>\n",
       "      <th>debit_card</th>\n",
       "      <th>em_account_p</th>\n",
       "      <th>em_acount</th>\n",
       "      <th>cid</th>\n",
       "      <th>month_sale</th>\n",
       "      <th>product_ID</th>\n",
       "      <th>net_margin</th>\n",
       "    </tr>\n",
       "  </thead>\n",
       "  <tbody>\n",
       "    <tr>\n",
       "      <th>0</th>\n",
       "      <td>657986</td>\n",
       "      <td>2019-05-01</td>\n",
       "      <td>2016-02-01</td>\n",
       "      <td>Others</td>\n",
       "      <td>1</td>\n",
       "      <td>02 - PARTICULARES</td>\n",
       "      <td>41</td>\n",
       "      <td>H</td>\n",
       "      <td>39</td>\n",
       "      <td>100993.17</td>\n",
       "      <td>...</td>\n",
       "      <td>1.0</td>\n",
       "      <td>1</td>\n",
       "      <td>1</td>\n",
       "      <td>1</td>\n",
       "      <td>0</td>\n",
       "      <td>0</td>\n",
       "      <td>657986</td>\n",
       "      <td>2018-03-01</td>\n",
       "      <td>2312</td>\n",
       "      <td>64.5</td>\n",
       "    </tr>\n",
       "    <tr>\n",
       "      <th>1</th>\n",
       "      <td>657336</td>\n",
       "      <td>2019-05-01</td>\n",
       "      <td>2019-03-01</td>\n",
       "      <td>KAT</td>\n",
       "      <td>1</td>\n",
       "      <td>02 - PARTICULARES</td>\n",
       "      <td>28</td>\n",
       "      <td>V</td>\n",
       "      <td>38</td>\n",
       "      <td>-1.00</td>\n",
       "      <td>...</td>\n",
       "      <td>0.0</td>\n",
       "      <td>0</td>\n",
       "      <td>0</td>\n",
       "      <td>0</td>\n",
       "      <td>0</td>\n",
       "      <td>1</td>\n",
       "      <td>657336</td>\n",
       "      <td>2019-04-01</td>\n",
       "      <td>4657</td>\n",
       "      <td>68.3</td>\n",
       "    </tr>\n",
       "    <tr>\n",
       "      <th>2</th>\n",
       "      <td>658184</td>\n",
       "      <td>2019-05-01</td>\n",
       "      <td>2015-05-01</td>\n",
       "      <td>KAT</td>\n",
       "      <td>1</td>\n",
       "      <td>02 - PARTICULARES</td>\n",
       "      <td>28</td>\n",
       "      <td>V</td>\n",
       "      <td>42</td>\n",
       "      <td>183036.72</td>\n",
       "      <td>...</td>\n",
       "      <td>1.0</td>\n",
       "      <td>1</td>\n",
       "      <td>1</td>\n",
       "      <td>1</td>\n",
       "      <td>0</td>\n",
       "      <td>0</td>\n",
       "      <td>658184</td>\n",
       "      <td>2018-03-01</td>\n",
       "      <td>3819</td>\n",
       "      <td>54.1</td>\n",
       "    </tr>\n",
       "    <tr>\n",
       "      <th>3</th>\n",
       "      <td>655774</td>\n",
       "      <td>2019-05-01</td>\n",
       "      <td>2018-12-01</td>\n",
       "      <td>KHN</td>\n",
       "      <td>1</td>\n",
       "      <td>02 - PARTICULARES</td>\n",
       "      <td>15</td>\n",
       "      <td>H</td>\n",
       "      <td>37</td>\n",
       "      <td>-1.00</td>\n",
       "      <td>...</td>\n",
       "      <td>0.0</td>\n",
       "      <td>0</td>\n",
       "      <td>0</td>\n",
       "      <td>0</td>\n",
       "      <td>0</td>\n",
       "      <td>1</td>\n",
       "      <td>655774</td>\n",
       "      <td>2019-01-01</td>\n",
       "      <td>4657</td>\n",
       "      <td>86.1</td>\n",
       "    </tr>\n",
       "    <tr>\n",
       "      <th>4</th>\n",
       "      <td>655419</td>\n",
       "      <td>2019-05-01</td>\n",
       "      <td>2016-05-01</td>\n",
       "      <td>KFC</td>\n",
       "      <td>0</td>\n",
       "      <td>02 - PARTICULARES</td>\n",
       "      <td>28</td>\n",
       "      <td>H</td>\n",
       "      <td>54</td>\n",
       "      <td>157268.85</td>\n",
       "      <td>...</td>\n",
       "      <td>0.0</td>\n",
       "      <td>0</td>\n",
       "      <td>0</td>\n",
       "      <td>0</td>\n",
       "      <td>0</td>\n",
       "      <td>0</td>\n",
       "      <td>655419</td>\n",
       "      <td>2018-06-01</td>\n",
       "      <td>4657</td>\n",
       "      <td>71.1</td>\n",
       "    </tr>\n",
       "    <tr>\n",
       "      <th>5</th>\n",
       "      <td>655682</td>\n",
       "      <td>2019-05-01</td>\n",
       "      <td>2018-06-01</td>\n",
       "      <td>KFC</td>\n",
       "      <td>1</td>\n",
       "      <td>02 - PARTICULARES</td>\n",
       "      <td>19</td>\n",
       "      <td>V</td>\n",
       "      <td>54</td>\n",
       "      <td>111293.31</td>\n",
       "      <td>...</td>\n",
       "      <td>0.0</td>\n",
       "      <td>0</td>\n",
       "      <td>0</td>\n",
       "      <td>1</td>\n",
       "      <td>0</td>\n",
       "      <td>1</td>\n",
       "      <td>655682</td>\n",
       "      <td>2018-10-01</td>\n",
       "      <td>3819</td>\n",
       "      <td>49.2</td>\n",
       "    </tr>\n",
       "    <tr>\n",
       "      <th>6</th>\n",
       "      <td>655682</td>\n",
       "      <td>2019-05-01</td>\n",
       "      <td>2018-06-01</td>\n",
       "      <td>KFC</td>\n",
       "      <td>1</td>\n",
       "      <td>02 - PARTICULARES</td>\n",
       "      <td>19</td>\n",
       "      <td>V</td>\n",
       "      <td>54</td>\n",
       "      <td>111293.31</td>\n",
       "      <td>...</td>\n",
       "      <td>0.0</td>\n",
       "      <td>0</td>\n",
       "      <td>0</td>\n",
       "      <td>1</td>\n",
       "      <td>0</td>\n",
       "      <td>1</td>\n",
       "      <td>655682</td>\n",
       "      <td>2018-06-01</td>\n",
       "      <td>4657</td>\n",
       "      <td>71.1</td>\n",
       "    </tr>\n",
       "    <tr>\n",
       "      <th>7</th>\n",
       "      <td>656163</td>\n",
       "      <td>2019-05-01</td>\n",
       "      <td>2018-06-01</td>\n",
       "      <td>KAT</td>\n",
       "      <td>1</td>\n",
       "      <td>02 - PARTICULARES</td>\n",
       "      <td>28</td>\n",
       "      <td>H</td>\n",
       "      <td>53</td>\n",
       "      <td>75408.45</td>\n",
       "      <td>...</td>\n",
       "      <td>0.0</td>\n",
       "      <td>0</td>\n",
       "      <td>1</td>\n",
       "      <td>0</td>\n",
       "      <td>0</td>\n",
       "      <td>1</td>\n",
       "      <td>656163</td>\n",
       "      <td>2018-07-01</td>\n",
       "      <td>8871</td>\n",
       "      <td>78.9</td>\n",
       "    </tr>\n",
       "    <tr>\n",
       "      <th>8</th>\n",
       "      <td>656163</td>\n",
       "      <td>2019-05-01</td>\n",
       "      <td>2018-06-01</td>\n",
       "      <td>KAT</td>\n",
       "      <td>1</td>\n",
       "      <td>02 - PARTICULARES</td>\n",
       "      <td>28</td>\n",
       "      <td>H</td>\n",
       "      <td>53</td>\n",
       "      <td>75408.45</td>\n",
       "      <td>...</td>\n",
       "      <td>0.0</td>\n",
       "      <td>0</td>\n",
       "      <td>1</td>\n",
       "      <td>0</td>\n",
       "      <td>0</td>\n",
       "      <td>1</td>\n",
       "      <td>656163</td>\n",
       "      <td>2018-07-01</td>\n",
       "      <td>4657</td>\n",
       "      <td>63.0</td>\n",
       "    </tr>\n",
       "    <tr>\n",
       "      <th>9</th>\n",
       "      <td>656915</td>\n",
       "      <td>2019-05-01</td>\n",
       "      <td>2018-01-01</td>\n",
       "      <td>Others</td>\n",
       "      <td>1</td>\n",
       "      <td>02 - PARTICULARES</td>\n",
       "      <td>33</td>\n",
       "      <td>V</td>\n",
       "      <td>37</td>\n",
       "      <td>134470.14</td>\n",
       "      <td>...</td>\n",
       "      <td>0.0</td>\n",
       "      <td>0</td>\n",
       "      <td>0</td>\n",
       "      <td>0</td>\n",
       "      <td>0</td>\n",
       "      <td>1</td>\n",
       "      <td>656915</td>\n",
       "      <td>2018-02-01</td>\n",
       "      <td>2335</td>\n",
       "      <td>1179.6</td>\n",
       "    </tr>\n",
       "  </tbody>\n",
       "</table>\n",
       "<p>10 rows × 29 columns</p>\n",
       "</div>"
      ],
      "text/plain": [
       "   pk_cid pk_partition entry_date entry_channel  active_customer  \\\n",
       "0  657986   2019-05-01 2016-02-01        Others                1   \n",
       "1  657336   2019-05-01 2019-03-01           KAT                1   \n",
       "2  658184   2019-05-01 2015-05-01           KAT                1   \n",
       "3  655774   2019-05-01 2018-12-01           KHN                1   \n",
       "4  655419   2019-05-01 2016-05-01           KFC                0   \n",
       "5  655682   2019-05-01 2018-06-01           KFC                1   \n",
       "6  655682   2019-05-01 2018-06-01           KFC                1   \n",
       "7  656163   2019-05-01 2018-06-01           KAT                1   \n",
       "8  656163   2019-05-01 2018-06-01           KAT                1   \n",
       "9  656915   2019-05-01 2018-01-01        Others                1   \n",
       "\n",
       "             segment  region_code gender  age     salary  ...  pension_plan  \\\n",
       "0  02 - PARTICULARES           41      H   39  100993.17  ...           1.0   \n",
       "1  02 - PARTICULARES           28      V   38      -1.00  ...           0.0   \n",
       "2  02 - PARTICULARES           28      V   42  183036.72  ...           1.0   \n",
       "3  02 - PARTICULARES           15      H   37      -1.00  ...           0.0   \n",
       "4  02 - PARTICULARES           28      H   54  157268.85  ...           0.0   \n",
       "5  02 - PARTICULARES           19      V   54  111293.31  ...           0.0   \n",
       "6  02 - PARTICULARES           19      V   54  111293.31  ...           0.0   \n",
       "7  02 - PARTICULARES           28      H   53   75408.45  ...           0.0   \n",
       "8  02 - PARTICULARES           28      H   53   75408.45  ...           0.0   \n",
       "9  02 - PARTICULARES           33      V   37  134470.14  ...           0.0   \n",
       "\n",
       "   payroll_account  emc_account  debit_card  em_account_p  em_acount     cid  \\\n",
       "0                1            1           1             0          0  657986   \n",
       "1                0            0           0             0          1  657336   \n",
       "2                1            1           1             0          0  658184   \n",
       "3                0            0           0             0          1  655774   \n",
       "4                0            0           0             0          0  655419   \n",
       "5                0            0           1             0          1  655682   \n",
       "6                0            0           1             0          1  655682   \n",
       "7                0            1           0             0          1  656163   \n",
       "8                0            1           0             0          1  656163   \n",
       "9                0            0           0             0          1  656915   \n",
       "\n",
       "   month_sale  product_ID  net_margin  \n",
       "0  2018-03-01        2312        64.5  \n",
       "1  2019-04-01        4657        68.3  \n",
       "2  2018-03-01        3819        54.1  \n",
       "3  2019-01-01        4657        86.1  \n",
       "4  2018-06-01        4657        71.1  \n",
       "5  2018-10-01        3819        49.2  \n",
       "6  2018-06-01        4657        71.1  \n",
       "7  2018-07-01        8871        78.9  \n",
       "8  2018-07-01        4657        63.0  \n",
       "9  2018-02-01        2335      1179.6  \n",
       "\n",
       "[10 rows x 29 columns]"
      ]
     },
     "execution_count": 62,
     "metadata": {},
     "output_type": "execute_result"
    }
   ],
   "source": [
    "df_final.head(10)"
   ]
  },
  {
   "cell_type": "code",
   "execution_count": 63,
   "metadata": {},
   "outputs": [
    {
     "data": {
      "text/html": [
       "<div>\n",
       "<style scoped>\n",
       "    .dataframe tbody tr th:only-of-type {\n",
       "        vertical-align: middle;\n",
       "    }\n",
       "\n",
       "    .dataframe tbody tr th {\n",
       "        vertical-align: top;\n",
       "    }\n",
       "\n",
       "    .dataframe thead th {\n",
       "        text-align: right;\n",
       "    }\n",
       "</style>\n",
       "<table border=\"1\" class=\"dataframe\">\n",
       "  <thead>\n",
       "    <tr style=\"text-align: right;\">\n",
       "      <th></th>\n",
       "      <th>pk_cid</th>\n",
       "      <th>pk_partition</th>\n",
       "      <th>short_term_deposit</th>\n",
       "      <th>loans</th>\n",
       "      <th>mortgage</th>\n",
       "      <th>funds</th>\n",
       "      <th>securities</th>\n",
       "      <th>long_term_deposit</th>\n",
       "      <th>em_account_pp</th>\n",
       "      <th>credit_card</th>\n",
       "      <th>payroll</th>\n",
       "      <th>pension_plan</th>\n",
       "      <th>payroll_account</th>\n",
       "      <th>emc_account</th>\n",
       "      <th>debit_card</th>\n",
       "      <th>em_account_p</th>\n",
       "      <th>em_acount</th>\n",
       "    </tr>\n",
       "  </thead>\n",
       "  <tbody>\n",
       "    <tr>\n",
       "      <th>0</th>\n",
       "      <td>1375586</td>\n",
       "      <td>2018-01-01</td>\n",
       "      <td>0</td>\n",
       "      <td>0</td>\n",
       "      <td>0</td>\n",
       "      <td>0</td>\n",
       "      <td>0</td>\n",
       "      <td>0</td>\n",
       "      <td>0</td>\n",
       "      <td>0</td>\n",
       "      <td>0.0</td>\n",
       "      <td>0.0</td>\n",
       "      <td>0</td>\n",
       "      <td>0</td>\n",
       "      <td>0</td>\n",
       "      <td>0</td>\n",
       "      <td>1</td>\n",
       "    </tr>\n",
       "    <tr>\n",
       "      <th>1</th>\n",
       "      <td>1050611</td>\n",
       "      <td>2018-01-01</td>\n",
       "      <td>0</td>\n",
       "      <td>0</td>\n",
       "      <td>0</td>\n",
       "      <td>0</td>\n",
       "      <td>0</td>\n",
       "      <td>0</td>\n",
       "      <td>0</td>\n",
       "      <td>0</td>\n",
       "      <td>0.0</td>\n",
       "      <td>0.0</td>\n",
       "      <td>0</td>\n",
       "      <td>0</td>\n",
       "      <td>0</td>\n",
       "      <td>0</td>\n",
       "      <td>1</td>\n",
       "    </tr>\n",
       "    <tr>\n",
       "      <th>2</th>\n",
       "      <td>1050612</td>\n",
       "      <td>2018-01-01</td>\n",
       "      <td>0</td>\n",
       "      <td>0</td>\n",
       "      <td>0</td>\n",
       "      <td>0</td>\n",
       "      <td>0</td>\n",
       "      <td>0</td>\n",
       "      <td>0</td>\n",
       "      <td>0</td>\n",
       "      <td>0.0</td>\n",
       "      <td>0.0</td>\n",
       "      <td>0</td>\n",
       "      <td>0</td>\n",
       "      <td>0</td>\n",
       "      <td>0</td>\n",
       "      <td>1</td>\n",
       "    </tr>\n",
       "    <tr>\n",
       "      <th>3</th>\n",
       "      <td>1050613</td>\n",
       "      <td>2018-01-01</td>\n",
       "      <td>1</td>\n",
       "      <td>0</td>\n",
       "      <td>0</td>\n",
       "      <td>0</td>\n",
       "      <td>0</td>\n",
       "      <td>0</td>\n",
       "      <td>0</td>\n",
       "      <td>0</td>\n",
       "      <td>0.0</td>\n",
       "      <td>0.0</td>\n",
       "      <td>0</td>\n",
       "      <td>0</td>\n",
       "      <td>0</td>\n",
       "      <td>0</td>\n",
       "      <td>0</td>\n",
       "    </tr>\n",
       "    <tr>\n",
       "      <th>4</th>\n",
       "      <td>1050614</td>\n",
       "      <td>2018-01-01</td>\n",
       "      <td>0</td>\n",
       "      <td>0</td>\n",
       "      <td>0</td>\n",
       "      <td>0</td>\n",
       "      <td>0</td>\n",
       "      <td>0</td>\n",
       "      <td>0</td>\n",
       "      <td>0</td>\n",
       "      <td>0.0</td>\n",
       "      <td>0.0</td>\n",
       "      <td>0</td>\n",
       "      <td>0</td>\n",
       "      <td>0</td>\n",
       "      <td>0</td>\n",
       "      <td>1</td>\n",
       "    </tr>\n",
       "  </tbody>\n",
       "</table>\n",
       "</div>"
      ],
      "text/plain": [
       "    pk_cid pk_partition  short_term_deposit  loans  mortgage  funds  \\\n",
       "0  1375586   2018-01-01                   0      0         0      0   \n",
       "1  1050611   2018-01-01                   0      0         0      0   \n",
       "2  1050612   2018-01-01                   0      0         0      0   \n",
       "3  1050613   2018-01-01                   1      0         0      0   \n",
       "4  1050614   2018-01-01                   0      0         0      0   \n",
       "\n",
       "   securities  long_term_deposit  em_account_pp  credit_card  payroll  \\\n",
       "0           0                  0              0            0      0.0   \n",
       "1           0                  0              0            0      0.0   \n",
       "2           0                  0              0            0      0.0   \n",
       "3           0                  0              0            0      0.0   \n",
       "4           0                  0              0            0      0.0   \n",
       "\n",
       "   pension_plan  payroll_account  emc_account  debit_card  em_account_p  \\\n",
       "0           0.0                0            0           0             0   \n",
       "1           0.0                0            0           0             0   \n",
       "2           0.0                0            0           0             0   \n",
       "3           0.0                0            0           0             0   \n",
       "4           0.0                0            0           0             0   \n",
       "\n",
       "   em_acount  \n",
       "0          1  \n",
       "1          1  \n",
       "2          1  \n",
       "3          0  \n",
       "4          1  "
      ]
     },
     "execution_count": 63,
     "metadata": {},
     "output_type": "execute_result"
    }
   ],
   "source": [
    "df_customer_products.head()"
   ]
  },
  {
   "cell_type": "code",
   "execution_count": 64,
   "metadata": {},
   "outputs": [],
   "source": [
    "column_names=df_customer_products.columns.tolist()"
   ]
  },
  {
   "cell_type": "code",
   "execution_count": 65,
   "metadata": {},
   "outputs": [
    {
     "data": {
      "text/plain": [
       "['pk_cid',\n",
       " 'pk_partition',\n",
       " 'short_term_deposit',\n",
       " 'loans',\n",
       " 'mortgage',\n",
       " 'funds',\n",
       " 'securities',\n",
       " 'long_term_deposit',\n",
       " 'em_account_pp',\n",
       " 'credit_card',\n",
       " 'payroll',\n",
       " 'pension_plan',\n",
       " 'payroll_account',\n",
       " 'emc_account',\n",
       " 'debit_card',\n",
       " 'em_account_p',\n",
       " 'em_acount']"
      ]
     },
     "execution_count": 65,
     "metadata": {},
     "output_type": "execute_result"
    }
   ],
   "source": [
    "column_names"
   ]
  },
  {
   "cell_type": "code",
   "execution_count": 66,
   "metadata": {},
   "outputs": [],
   "source": [
    "prod_list=[ 'short_term_deposit',\n",
    " 'loans',\n",
    " 'mortgage',\n",
    " 'funds',\n",
    " 'securities',\n",
    " 'long_term_deposit',\n",
    " 'em_account_pp',\n",
    " 'credit_card',\n",
    " 'payroll',\n",
    " 'pension_plan',\n",
    " 'payroll_account',\n",
    " 'emc_account',\n",
    " 'debit_card',\n",
    " 'em_account_p',\n",
    " 'em_acount']"
   ]
  },
  {
   "cell_type": "code",
   "execution_count": 67,
   "metadata": {},
   "outputs": [],
   "source": [
    "df_final['total_products'] = df_final[prod_list].sum(axis=1)"
   ]
  },
  {
   "cell_type": "code",
   "execution_count": 68,
   "metadata": {},
   "outputs": [
    {
     "data": {
      "text/html": [
       "<div>\n",
       "<style scoped>\n",
       "    .dataframe tbody tr th:only-of-type {\n",
       "        vertical-align: middle;\n",
       "    }\n",
       "\n",
       "    .dataframe tbody tr th {\n",
       "        vertical-align: top;\n",
       "    }\n",
       "\n",
       "    .dataframe thead th {\n",
       "        text-align: right;\n",
       "    }\n",
       "</style>\n",
       "<table border=\"1\" class=\"dataframe\">\n",
       "  <thead>\n",
       "    <tr style=\"text-align: right;\">\n",
       "      <th></th>\n",
       "      <th>0</th>\n",
       "      <th>1</th>\n",
       "      <th>2</th>\n",
       "      <th>3</th>\n",
       "      <th>4</th>\n",
       "    </tr>\n",
       "  </thead>\n",
       "  <tbody>\n",
       "    <tr>\n",
       "      <th>pk_cid</th>\n",
       "      <td>657986</td>\n",
       "      <td>657336</td>\n",
       "      <td>658184</td>\n",
       "      <td>655774</td>\n",
       "      <td>655419</td>\n",
       "    </tr>\n",
       "    <tr>\n",
       "      <th>pk_partition</th>\n",
       "      <td>2019-05-01 00:00:00</td>\n",
       "      <td>2019-05-01 00:00:00</td>\n",
       "      <td>2019-05-01 00:00:00</td>\n",
       "      <td>2019-05-01 00:00:00</td>\n",
       "      <td>2019-05-01 00:00:00</td>\n",
       "    </tr>\n",
       "    <tr>\n",
       "      <th>entry_date</th>\n",
       "      <td>2016-02-01 00:00:00</td>\n",
       "      <td>2019-03-01 00:00:00</td>\n",
       "      <td>2015-05-01 00:00:00</td>\n",
       "      <td>2018-12-01 00:00:00</td>\n",
       "      <td>2016-05-01 00:00:00</td>\n",
       "    </tr>\n",
       "    <tr>\n",
       "      <th>entry_channel</th>\n",
       "      <td>Others</td>\n",
       "      <td>KAT</td>\n",
       "      <td>KAT</td>\n",
       "      <td>KHN</td>\n",
       "      <td>KFC</td>\n",
       "    </tr>\n",
       "    <tr>\n",
       "      <th>active_customer</th>\n",
       "      <td>1</td>\n",
       "      <td>1</td>\n",
       "      <td>1</td>\n",
       "      <td>1</td>\n",
       "      <td>0</td>\n",
       "    </tr>\n",
       "    <tr>\n",
       "      <th>segment</th>\n",
       "      <td>02 - PARTICULARES</td>\n",
       "      <td>02 - PARTICULARES</td>\n",
       "      <td>02 - PARTICULARES</td>\n",
       "      <td>02 - PARTICULARES</td>\n",
       "      <td>02 - PARTICULARES</td>\n",
       "    </tr>\n",
       "    <tr>\n",
       "      <th>region_code</th>\n",
       "      <td>41</td>\n",
       "      <td>28</td>\n",
       "      <td>28</td>\n",
       "      <td>15</td>\n",
       "      <td>28</td>\n",
       "    </tr>\n",
       "    <tr>\n",
       "      <th>gender</th>\n",
       "      <td>H</td>\n",
       "      <td>V</td>\n",
       "      <td>V</td>\n",
       "      <td>H</td>\n",
       "      <td>H</td>\n",
       "    </tr>\n",
       "    <tr>\n",
       "      <th>age</th>\n",
       "      <td>39</td>\n",
       "      <td>38</td>\n",
       "      <td>42</td>\n",
       "      <td>37</td>\n",
       "      <td>54</td>\n",
       "    </tr>\n",
       "    <tr>\n",
       "      <th>salary</th>\n",
       "      <td>100993.17</td>\n",
       "      <td>-1.0</td>\n",
       "      <td>183036.72</td>\n",
       "      <td>-1.0</td>\n",
       "      <td>157268.85</td>\n",
       "    </tr>\n",
       "    <tr>\n",
       "      <th>short_term_deposit</th>\n",
       "      <td>0</td>\n",
       "      <td>0</td>\n",
       "      <td>0</td>\n",
       "      <td>0</td>\n",
       "      <td>0</td>\n",
       "    </tr>\n",
       "    <tr>\n",
       "      <th>loans</th>\n",
       "      <td>0</td>\n",
       "      <td>0</td>\n",
       "      <td>0</td>\n",
       "      <td>0</td>\n",
       "      <td>0</td>\n",
       "    </tr>\n",
       "    <tr>\n",
       "      <th>mortgage</th>\n",
       "      <td>0</td>\n",
       "      <td>0</td>\n",
       "      <td>0</td>\n",
       "      <td>0</td>\n",
       "      <td>0</td>\n",
       "    </tr>\n",
       "    <tr>\n",
       "      <th>funds</th>\n",
       "      <td>0</td>\n",
       "      <td>0</td>\n",
       "      <td>0</td>\n",
       "      <td>0</td>\n",
       "      <td>0</td>\n",
       "    </tr>\n",
       "    <tr>\n",
       "      <th>securities</th>\n",
       "      <td>0</td>\n",
       "      <td>0</td>\n",
       "      <td>0</td>\n",
       "      <td>0</td>\n",
       "      <td>0</td>\n",
       "    </tr>\n",
       "    <tr>\n",
       "      <th>long_term_deposit</th>\n",
       "      <td>0</td>\n",
       "      <td>0</td>\n",
       "      <td>0</td>\n",
       "      <td>0</td>\n",
       "      <td>0</td>\n",
       "    </tr>\n",
       "    <tr>\n",
       "      <th>em_account_pp</th>\n",
       "      <td>0</td>\n",
       "      <td>0</td>\n",
       "      <td>0</td>\n",
       "      <td>0</td>\n",
       "      <td>0</td>\n",
       "    </tr>\n",
       "    <tr>\n",
       "      <th>credit_card</th>\n",
       "      <td>1</td>\n",
       "      <td>0</td>\n",
       "      <td>1</td>\n",
       "      <td>0</td>\n",
       "      <td>0</td>\n",
       "    </tr>\n",
       "    <tr>\n",
       "      <th>payroll</th>\n",
       "      <td>1.0</td>\n",
       "      <td>0.0</td>\n",
       "      <td>1.0</td>\n",
       "      <td>0.0</td>\n",
       "      <td>0.0</td>\n",
       "    </tr>\n",
       "    <tr>\n",
       "      <th>pension_plan</th>\n",
       "      <td>1.0</td>\n",
       "      <td>0.0</td>\n",
       "      <td>1.0</td>\n",
       "      <td>0.0</td>\n",
       "      <td>0.0</td>\n",
       "    </tr>\n",
       "    <tr>\n",
       "      <th>payroll_account</th>\n",
       "      <td>1</td>\n",
       "      <td>0</td>\n",
       "      <td>1</td>\n",
       "      <td>0</td>\n",
       "      <td>0</td>\n",
       "    </tr>\n",
       "    <tr>\n",
       "      <th>emc_account</th>\n",
       "      <td>1</td>\n",
       "      <td>0</td>\n",
       "      <td>1</td>\n",
       "      <td>0</td>\n",
       "      <td>0</td>\n",
       "    </tr>\n",
       "    <tr>\n",
       "      <th>debit_card</th>\n",
       "      <td>1</td>\n",
       "      <td>0</td>\n",
       "      <td>1</td>\n",
       "      <td>0</td>\n",
       "      <td>0</td>\n",
       "    </tr>\n",
       "    <tr>\n",
       "      <th>em_account_p</th>\n",
       "      <td>0</td>\n",
       "      <td>0</td>\n",
       "      <td>0</td>\n",
       "      <td>0</td>\n",
       "      <td>0</td>\n",
       "    </tr>\n",
       "    <tr>\n",
       "      <th>em_acount</th>\n",
       "      <td>0</td>\n",
       "      <td>1</td>\n",
       "      <td>0</td>\n",
       "      <td>1</td>\n",
       "      <td>0</td>\n",
       "    </tr>\n",
       "    <tr>\n",
       "      <th>cid</th>\n",
       "      <td>657986</td>\n",
       "      <td>657336</td>\n",
       "      <td>658184</td>\n",
       "      <td>655774</td>\n",
       "      <td>655419</td>\n",
       "    </tr>\n",
       "    <tr>\n",
       "      <th>month_sale</th>\n",
       "      <td>2018-03-01 00:00:00</td>\n",
       "      <td>2019-04-01 00:00:00</td>\n",
       "      <td>2018-03-01 00:00:00</td>\n",
       "      <td>2019-01-01 00:00:00</td>\n",
       "      <td>2018-06-01 00:00:00</td>\n",
       "    </tr>\n",
       "    <tr>\n",
       "      <th>product_ID</th>\n",
       "      <td>2312</td>\n",
       "      <td>4657</td>\n",
       "      <td>3819</td>\n",
       "      <td>4657</td>\n",
       "      <td>4657</td>\n",
       "    </tr>\n",
       "    <tr>\n",
       "      <th>net_margin</th>\n",
       "      <td>64.5</td>\n",
       "      <td>68.3</td>\n",
       "      <td>54.1</td>\n",
       "      <td>86.1</td>\n",
       "      <td>71.1</td>\n",
       "    </tr>\n",
       "    <tr>\n",
       "      <th>total_products</th>\n",
       "      <td>6.0</td>\n",
       "      <td>1.0</td>\n",
       "      <td>6.0</td>\n",
       "      <td>1.0</td>\n",
       "      <td>0.0</td>\n",
       "    </tr>\n",
       "  </tbody>\n",
       "</table>\n",
       "</div>"
      ],
      "text/plain": [
       "                                      0                    1  \\\n",
       "pk_cid                           657986               657336   \n",
       "pk_partition        2019-05-01 00:00:00  2019-05-01 00:00:00   \n",
       "entry_date          2016-02-01 00:00:00  2019-03-01 00:00:00   \n",
       "entry_channel                    Others                  KAT   \n",
       "active_customer                       1                    1   \n",
       "segment               02 - PARTICULARES    02 - PARTICULARES   \n",
       "region_code                          41                   28   \n",
       "gender                                H                    V   \n",
       "age                                  39                   38   \n",
       "salary                        100993.17                 -1.0   \n",
       "short_term_deposit                    0                    0   \n",
       "loans                                 0                    0   \n",
       "mortgage                              0                    0   \n",
       "funds                                 0                    0   \n",
       "securities                            0                    0   \n",
       "long_term_deposit                     0                    0   \n",
       "em_account_pp                         0                    0   \n",
       "credit_card                           1                    0   \n",
       "payroll                             1.0                  0.0   \n",
       "pension_plan                        1.0                  0.0   \n",
       "payroll_account                       1                    0   \n",
       "emc_account                           1                    0   \n",
       "debit_card                            1                    0   \n",
       "em_account_p                          0                    0   \n",
       "em_acount                             0                    1   \n",
       "cid                              657986               657336   \n",
       "month_sale          2018-03-01 00:00:00  2019-04-01 00:00:00   \n",
       "product_ID                         2312                 4657   \n",
       "net_margin                         64.5                 68.3   \n",
       "total_products                      6.0                  1.0   \n",
       "\n",
       "                                      2                    3  \\\n",
       "pk_cid                           658184               655774   \n",
       "pk_partition        2019-05-01 00:00:00  2019-05-01 00:00:00   \n",
       "entry_date          2015-05-01 00:00:00  2018-12-01 00:00:00   \n",
       "entry_channel                       KAT                  KHN   \n",
       "active_customer                       1                    1   \n",
       "segment               02 - PARTICULARES    02 - PARTICULARES   \n",
       "region_code                          28                   15   \n",
       "gender                                V                    H   \n",
       "age                                  42                   37   \n",
       "salary                        183036.72                 -1.0   \n",
       "short_term_deposit                    0                    0   \n",
       "loans                                 0                    0   \n",
       "mortgage                              0                    0   \n",
       "funds                                 0                    0   \n",
       "securities                            0                    0   \n",
       "long_term_deposit                     0                    0   \n",
       "em_account_pp                         0                    0   \n",
       "credit_card                           1                    0   \n",
       "payroll                             1.0                  0.0   \n",
       "pension_plan                        1.0                  0.0   \n",
       "payroll_account                       1                    0   \n",
       "emc_account                           1                    0   \n",
       "debit_card                            1                    0   \n",
       "em_account_p                          0                    0   \n",
       "em_acount                             0                    1   \n",
       "cid                              658184               655774   \n",
       "month_sale          2018-03-01 00:00:00  2019-01-01 00:00:00   \n",
       "product_ID                         3819                 4657   \n",
       "net_margin                         54.1                 86.1   \n",
       "total_products                      6.0                  1.0   \n",
       "\n",
       "                                      4  \n",
       "pk_cid                           655419  \n",
       "pk_partition        2019-05-01 00:00:00  \n",
       "entry_date          2016-05-01 00:00:00  \n",
       "entry_channel                       KFC  \n",
       "active_customer                       0  \n",
       "segment               02 - PARTICULARES  \n",
       "region_code                          28  \n",
       "gender                                H  \n",
       "age                                  54  \n",
       "salary                        157268.85  \n",
       "short_term_deposit                    0  \n",
       "loans                                 0  \n",
       "mortgage                              0  \n",
       "funds                                 0  \n",
       "securities                            0  \n",
       "long_term_deposit                     0  \n",
       "em_account_pp                         0  \n",
       "credit_card                           0  \n",
       "payroll                             0.0  \n",
       "pension_plan                        0.0  \n",
       "payroll_account                       0  \n",
       "emc_account                           0  \n",
       "debit_card                            0  \n",
       "em_account_p                          0  \n",
       "em_acount                             0  \n",
       "cid                              655419  \n",
       "month_sale          2018-06-01 00:00:00  \n",
       "product_ID                         4657  \n",
       "net_margin                         71.1  \n",
       "total_products                      0.0  "
      ]
     },
     "execution_count": 68,
     "metadata": {},
     "output_type": "execute_result"
    }
   ],
   "source": [
    "df_final.head().T"
   ]
  },
  {
   "cell_type": "markdown",
   "metadata": {},
   "source": [
    "#### Meter diccionario con población de cada city\n",
    "#### Tambien podemos meter tenencia por producto"
   ]
  },
  {
   "cell_type": "markdown",
   "metadata": {},
   "source": [
    "Partimos del dataset de pagos y hacemos un groupby de order_id (identificador del pedido). Generamos las variables de:\n",
    "- maximo pago del cliente\n",
    "- minimo pago del cliente\n",
    "- media pago del cliente\n",
    "- total de pagos\n",
    "- pagos secuenciales que ha llegado a hacer el cliente (aunque esta variable es confusa)"
   ]
  },
  {
   "cell_type": "markdown",
   "metadata": {},
   "source": [
    "### Pasamos valores obj a num"
   ]
  },
  {
   "cell_type": "code",
   "execution_count": 69,
   "metadata": {},
   "outputs": [],
   "source": [
    "object_columns = [col for col in df_final if df_final[col].dtype.kind == 'O']"
   ]
  },
  {
   "cell_type": "code",
   "execution_count": 70,
   "metadata": {},
   "outputs": [],
   "source": [
    "for col in object_columns:\n",
    "    _dummy_dataset = pd.get_dummies(df_final[col], prefix=col)\n",
    "    df_final = pd.concat([df_final,_dummy_dataset],axis=1)\n",
    "    df_final.drop([col],axis=1, inplace=True)"
   ]
  },
  {
   "cell_type": "code",
   "execution_count": 71,
   "metadata": {},
   "outputs": [
    {
     "name": "stdout",
     "output_type": "stream",
     "text": [
      "<class 'pandas.core.frame.DataFrame'>\n",
      "RangeIndex: 236279 entries, 0 to 236278\n",
      "Data columns (total 43 columns):\n",
      " #   Column                      Non-Null Count   Dtype         \n",
      "---  ------                      --------------   -----         \n",
      " 0   pk_cid                      236279 non-null  int64         \n",
      " 1   pk_partition                236279 non-null  datetime64[ns]\n",
      " 2   entry_date                  236279 non-null  datetime64[ns]\n",
      " 3   active_customer             236279 non-null  int64         \n",
      " 4   region_code                 236279 non-null  int64         \n",
      " 5   age                         236279 non-null  int64         \n",
      " 6   salary                      236279 non-null  float64       \n",
      " 7   short_term_deposit          236279 non-null  int64         \n",
      " 8   loans                       236279 non-null  int64         \n",
      " 9   mortgage                    236279 non-null  int64         \n",
      " 10  funds                       236279 non-null  int64         \n",
      " 11  securities                  236279 non-null  int64         \n",
      " 12  long_term_deposit           236279 non-null  int64         \n",
      " 13  em_account_pp               236279 non-null  int64         \n",
      " 14  credit_card                 236279 non-null  int64         \n",
      " 15  payroll                     236279 non-null  float64       \n",
      " 16  pension_plan                236279 non-null  float64       \n",
      " 17  payroll_account             236279 non-null  int64         \n",
      " 18  emc_account                 236279 non-null  int64         \n",
      " 19  debit_card                  236279 non-null  int64         \n",
      " 20  em_account_p                236279 non-null  int64         \n",
      " 21  em_acount                   236279 non-null  int64         \n",
      " 22  cid                         236279 non-null  int64         \n",
      " 23  month_sale                  236279 non-null  datetime64[ns]\n",
      " 24  product_ID                  236279 non-null  int64         \n",
      " 25  net_margin                  236279 non-null  float64       \n",
      " 26  total_products              236279 non-null  float64       \n",
      " 27  entry_channel_KAT           236279 non-null  bool          \n",
      " 28  entry_channel_KFA           236279 non-null  bool          \n",
      " 29  entry_channel_KFC           236279 non-null  bool          \n",
      " 30  entry_channel_KHE           236279 non-null  bool          \n",
      " 31  entry_channel_KHK           236279 non-null  bool          \n",
      " 32  entry_channel_KHM           236279 non-null  bool          \n",
      " 33  entry_channel_KHN           236279 non-null  bool          \n",
      " 34  entry_channel_KHQ           236279 non-null  bool          \n",
      " 35  entry_channel_Others        236279 non-null  bool          \n",
      " 36  entry_channel_RED           236279 non-null  bool          \n",
      " 37  segment_01 - TOP            236279 non-null  bool          \n",
      " 38  segment_02 - PARTICULARES   236279 non-null  bool          \n",
      " 39  segment_03 - UNIVERSITARIO  236279 non-null  bool          \n",
      " 40  segment_Not defined         236279 non-null  bool          \n",
      " 41  gender_H                    236279 non-null  bool          \n",
      " 42  gender_V                    236279 non-null  bool          \n",
      "dtypes: bool(16), datetime64[ns](3), float64(5), int64(19)\n",
      "memory usage: 52.3 MB\n"
     ]
    }
   ],
   "source": [
    "df_final.info()"
   ]
  },
  {
   "cell_type": "code",
   "execution_count": 72,
   "metadata": {},
   "outputs": [],
   "source": [
    "bool_columns = [col for col in df_final if df_final[col].dtype.kind == 'b']"
   ]
  },
  {
   "cell_type": "code",
   "execution_count": 73,
   "metadata": {},
   "outputs": [],
   "source": [
    "for col in bool_columns:\n",
    "    if col in df_final:\n",
    "        df_final[col]=  df_final[col].astype('int32')"
   ]
  },
  {
   "cell_type": "code",
   "execution_count": 74,
   "metadata": {},
   "outputs": [
    {
     "name": "stdout",
     "output_type": "stream",
     "text": [
      "<class 'pandas.core.frame.DataFrame'>\n",
      "RangeIndex: 236279 entries, 0 to 236278\n",
      "Data columns (total 43 columns):\n",
      " #   Column                      Non-Null Count   Dtype         \n",
      "---  ------                      --------------   -----         \n",
      " 0   pk_cid                      236279 non-null  int64         \n",
      " 1   pk_partition                236279 non-null  datetime64[ns]\n",
      " 2   entry_date                  236279 non-null  datetime64[ns]\n",
      " 3   active_customer             236279 non-null  int64         \n",
      " 4   region_code                 236279 non-null  int64         \n",
      " 5   age                         236279 non-null  int64         \n",
      " 6   salary                      236279 non-null  float64       \n",
      " 7   short_term_deposit          236279 non-null  int64         \n",
      " 8   loans                       236279 non-null  int64         \n",
      " 9   mortgage                    236279 non-null  int64         \n",
      " 10  funds                       236279 non-null  int64         \n",
      " 11  securities                  236279 non-null  int64         \n",
      " 12  long_term_deposit           236279 non-null  int64         \n",
      " 13  em_account_pp               236279 non-null  int64         \n",
      " 14  credit_card                 236279 non-null  int64         \n",
      " 15  payroll                     236279 non-null  float64       \n",
      " 16  pension_plan                236279 non-null  float64       \n",
      " 17  payroll_account             236279 non-null  int64         \n",
      " 18  emc_account                 236279 non-null  int64         \n",
      " 19  debit_card                  236279 non-null  int64         \n",
      " 20  em_account_p                236279 non-null  int64         \n",
      " 21  em_acount                   236279 non-null  int64         \n",
      " 22  cid                         236279 non-null  int64         \n",
      " 23  month_sale                  236279 non-null  datetime64[ns]\n",
      " 24  product_ID                  236279 non-null  int64         \n",
      " 25  net_margin                  236279 non-null  float64       \n",
      " 26  total_products              236279 non-null  float64       \n",
      " 27  entry_channel_KAT           236279 non-null  int32         \n",
      " 28  entry_channel_KFA           236279 non-null  int32         \n",
      " 29  entry_channel_KFC           236279 non-null  int32         \n",
      " 30  entry_channel_KHE           236279 non-null  int32         \n",
      " 31  entry_channel_KHK           236279 non-null  int32         \n",
      " 32  entry_channel_KHM           236279 non-null  int32         \n",
      " 33  entry_channel_KHN           236279 non-null  int32         \n",
      " 34  entry_channel_KHQ           236279 non-null  int32         \n",
      " 35  entry_channel_Others        236279 non-null  int32         \n",
      " 36  entry_channel_RED           236279 non-null  int32         \n",
      " 37  segment_01 - TOP            236279 non-null  int32         \n",
      " 38  segment_02 - PARTICULARES   236279 non-null  int32         \n",
      " 39  segment_03 - UNIVERSITARIO  236279 non-null  int32         \n",
      " 40  segment_Not defined         236279 non-null  int32         \n",
      " 41  gender_H                    236279 non-null  int32         \n",
      " 42  gender_V                    236279 non-null  int32         \n",
      "dtypes: datetime64[ns](3), float64(5), int32(16), int64(19)\n",
      "memory usage: 63.1 MB\n"
     ]
    }
   ],
   "source": [
    "df_final.info()"
   ]
  },
  {
   "cell_type": "markdown",
   "metadata": {},
   "source": [
    "Para el pipeline no pueden haber fechas, así que los eliminamos. Eliminamos también pk_cid ya que no nos servirá en nuestro modelo."
   ]
  },
  {
   "cell_type": "code",
   "execution_count": 75,
   "metadata": {},
   "outputs": [],
   "source": [
    "df_final.drop(columns=['pk_cid', 'pk_partition', 'entry_date', 'month_sale'], inplace=True)"
   ]
  },
  {
   "cell_type": "markdown",
   "metadata": {},
   "source": [
    "### Preparamos pipeline "
   ]
  },
  {
   "cell_type": "code",
   "execution_count": 76,
   "metadata": {},
   "outputs": [],
   "source": [
    "# separamos el pipeline del a loop, para no tener que volver a hacer los primeros 3 pasos para cada k de la loop\n",
    "pipe = Pipeline(steps = [\n",
    "    #(\"Imputer\", KNNImputer()),\n",
    "    #(\"CustomTransformer\", ClientIdFeatureGenerator),\n",
    "    (\"RobustScaler\", RobustScaler(quantile_range = (0, 99.0)))\n",
    "])"
   ]
  },
  {
   "cell_type": "code",
   "execution_count": 77,
   "metadata": {},
   "outputs": [],
   "source": [
    "df_scaled_transformed = pipe.fit_transform(df_final)"
   ]
  },
  {
   "cell_type": "code",
   "execution_count": 78,
   "metadata": {},
   "outputs": [
    {
     "data": {
      "text/html": [
       "<div>\n",
       "<style scoped>\n",
       "    .dataframe tbody tr th:only-of-type {\n",
       "        vertical-align: middle;\n",
       "    }\n",
       "\n",
       "    .dataframe tbody tr th {\n",
       "        vertical-align: top;\n",
       "    }\n",
       "\n",
       "    .dataframe thead th {\n",
       "        text-align: right;\n",
       "    }\n",
       "</style>\n",
       "<table border=\"1\" class=\"dataframe\">\n",
       "  <thead>\n",
       "    <tr style=\"text-align: right;\">\n",
       "      <th></th>\n",
       "      <th>active_customer</th>\n",
       "      <th>region_code</th>\n",
       "      <th>age</th>\n",
       "      <th>salary</th>\n",
       "      <th>short_term_deposit</th>\n",
       "      <th>loans</th>\n",
       "      <th>mortgage</th>\n",
       "      <th>funds</th>\n",
       "      <th>securities</th>\n",
       "      <th>long_term_deposit</th>\n",
       "      <th>...</th>\n",
       "      <th>entry_channel_KHN</th>\n",
       "      <th>entry_channel_KHQ</th>\n",
       "      <th>entry_channel_Others</th>\n",
       "      <th>entry_channel_RED</th>\n",
       "      <th>segment_01 - TOP</th>\n",
       "      <th>segment_02 - PARTICULARES</th>\n",
       "      <th>segment_03 - UNIVERSITARIO</th>\n",
       "      <th>segment_Not defined</th>\n",
       "      <th>gender_H</th>\n",
       "      <th>gender_V</th>\n",
       "    </tr>\n",
       "  </thead>\n",
       "  <tbody>\n",
       "    <tr>\n",
       "      <th>0</th>\n",
       "      <td>1</td>\n",
       "      <td>41</td>\n",
       "      <td>39</td>\n",
       "      <td>100993.17</td>\n",
       "      <td>0</td>\n",
       "      <td>0</td>\n",
       "      <td>0</td>\n",
       "      <td>0</td>\n",
       "      <td>0</td>\n",
       "      <td>0</td>\n",
       "      <td>...</td>\n",
       "      <td>0</td>\n",
       "      <td>0</td>\n",
       "      <td>1</td>\n",
       "      <td>0</td>\n",
       "      <td>0</td>\n",
       "      <td>1</td>\n",
       "      <td>0</td>\n",
       "      <td>0</td>\n",
       "      <td>1</td>\n",
       "      <td>0</td>\n",
       "    </tr>\n",
       "    <tr>\n",
       "      <th>1</th>\n",
       "      <td>1</td>\n",
       "      <td>28</td>\n",
       "      <td>38</td>\n",
       "      <td>-1.00</td>\n",
       "      <td>0</td>\n",
       "      <td>0</td>\n",
       "      <td>0</td>\n",
       "      <td>0</td>\n",
       "      <td>0</td>\n",
       "      <td>0</td>\n",
       "      <td>...</td>\n",
       "      <td>0</td>\n",
       "      <td>0</td>\n",
       "      <td>0</td>\n",
       "      <td>0</td>\n",
       "      <td>0</td>\n",
       "      <td>1</td>\n",
       "      <td>0</td>\n",
       "      <td>0</td>\n",
       "      <td>0</td>\n",
       "      <td>1</td>\n",
       "    </tr>\n",
       "    <tr>\n",
       "      <th>2</th>\n",
       "      <td>1</td>\n",
       "      <td>28</td>\n",
       "      <td>42</td>\n",
       "      <td>183036.72</td>\n",
       "      <td>0</td>\n",
       "      <td>0</td>\n",
       "      <td>0</td>\n",
       "      <td>0</td>\n",
       "      <td>0</td>\n",
       "      <td>0</td>\n",
       "      <td>...</td>\n",
       "      <td>0</td>\n",
       "      <td>0</td>\n",
       "      <td>0</td>\n",
       "      <td>0</td>\n",
       "      <td>0</td>\n",
       "      <td>1</td>\n",
       "      <td>0</td>\n",
       "      <td>0</td>\n",
       "      <td>0</td>\n",
       "      <td>1</td>\n",
       "    </tr>\n",
       "    <tr>\n",
       "      <th>3</th>\n",
       "      <td>1</td>\n",
       "      <td>15</td>\n",
       "      <td>37</td>\n",
       "      <td>-1.00</td>\n",
       "      <td>0</td>\n",
       "      <td>0</td>\n",
       "      <td>0</td>\n",
       "      <td>0</td>\n",
       "      <td>0</td>\n",
       "      <td>0</td>\n",
       "      <td>...</td>\n",
       "      <td>1</td>\n",
       "      <td>0</td>\n",
       "      <td>0</td>\n",
       "      <td>0</td>\n",
       "      <td>0</td>\n",
       "      <td>1</td>\n",
       "      <td>0</td>\n",
       "      <td>0</td>\n",
       "      <td>1</td>\n",
       "      <td>0</td>\n",
       "    </tr>\n",
       "    <tr>\n",
       "      <th>4</th>\n",
       "      <td>0</td>\n",
       "      <td>28</td>\n",
       "      <td>54</td>\n",
       "      <td>157268.85</td>\n",
       "      <td>0</td>\n",
       "      <td>0</td>\n",
       "      <td>0</td>\n",
       "      <td>0</td>\n",
       "      <td>0</td>\n",
       "      <td>0</td>\n",
       "      <td>...</td>\n",
       "      <td>0</td>\n",
       "      <td>0</td>\n",
       "      <td>0</td>\n",
       "      <td>0</td>\n",
       "      <td>0</td>\n",
       "      <td>1</td>\n",
       "      <td>0</td>\n",
       "      <td>0</td>\n",
       "      <td>1</td>\n",
       "      <td>0</td>\n",
       "    </tr>\n",
       "  </tbody>\n",
       "</table>\n",
       "<p>5 rows × 39 columns</p>\n",
       "</div>"
      ],
      "text/plain": [
       "   active_customer  region_code  age     salary  short_term_deposit  loans  \\\n",
       "0                1           41   39  100993.17                   0      0   \n",
       "1                1           28   38      -1.00                   0      0   \n",
       "2                1           28   42  183036.72                   0      0   \n",
       "3                1           15   37      -1.00                   0      0   \n",
       "4                0           28   54  157268.85                   0      0   \n",
       "\n",
       "   mortgage  funds  securities  long_term_deposit  ...  entry_channel_KHN  \\\n",
       "0         0      0           0                  0  ...                  0   \n",
       "1         0      0           0                  0  ...                  0   \n",
       "2         0      0           0                  0  ...                  0   \n",
       "3         0      0           0                  0  ...                  1   \n",
       "4         0      0           0                  0  ...                  0   \n",
       "\n",
       "   entry_channel_KHQ  entry_channel_Others  entry_channel_RED  \\\n",
       "0                  0                     1                  0   \n",
       "1                  0                     0                  0   \n",
       "2                  0                     0                  0   \n",
       "3                  0                     0                  0   \n",
       "4                  0                     0                  0   \n",
       "\n",
       "   segment_01 - TOP  segment_02 - PARTICULARES  segment_03 - UNIVERSITARIO  \\\n",
       "0                 0                          1                           0   \n",
       "1                 0                          1                           0   \n",
       "2                 0                          1                           0   \n",
       "3                 0                          1                           0   \n",
       "4                 0                          1                           0   \n",
       "\n",
       "   segment_Not defined  gender_H  gender_V  \n",
       "0                    0         1         0  \n",
       "1                    0         0         1  \n",
       "2                    0         0         1  \n",
       "3                    0         1         0  \n",
       "4                    0         1         0  \n",
       "\n",
       "[5 rows x 39 columns]"
      ]
     },
     "execution_count": 78,
     "metadata": {},
     "output_type": "execute_result"
    }
   ],
   "source": [
    "df_final.head()"
   ]
  },
  {
   "cell_type": "code",
   "execution_count": 79,
   "metadata": {},
   "outputs": [
    {
     "data": {
      "text/html": [
       "<div>\n",
       "<style scoped>\n",
       "    .dataframe tbody tr th:only-of-type {\n",
       "        vertical-align: middle;\n",
       "    }\n",
       "\n",
       "    .dataframe tbody tr th {\n",
       "        vertical-align: top;\n",
       "    }\n",
       "\n",
       "    .dataframe thead th {\n",
       "        text-align: right;\n",
       "    }\n",
       "</style>\n",
       "<table border=\"1\" class=\"dataframe\">\n",
       "  <thead>\n",
       "    <tr style=\"text-align: right;\">\n",
       "      <th></th>\n",
       "      <th>active_customer</th>\n",
       "      <th>region_code</th>\n",
       "      <th>age</th>\n",
       "      <th>salary</th>\n",
       "      <th>short_term_deposit</th>\n",
       "      <th>loans</th>\n",
       "      <th>mortgage</th>\n",
       "      <th>funds</th>\n",
       "      <th>securities</th>\n",
       "      <th>long_term_deposit</th>\n",
       "      <th>...</th>\n",
       "      <th>entry_channel_KHN</th>\n",
       "      <th>entry_channel_KHQ</th>\n",
       "      <th>entry_channel_Others</th>\n",
       "      <th>entry_channel_RED</th>\n",
       "      <th>segment_01 - TOP</th>\n",
       "      <th>segment_02 - PARTICULARES</th>\n",
       "      <th>segment_03 - UNIVERSITARIO</th>\n",
       "      <th>segment_Not defined</th>\n",
       "      <th>gender_H</th>\n",
       "      <th>gender_V</th>\n",
       "    </tr>\n",
       "  </thead>\n",
       "  <tbody>\n",
       "    <tr>\n",
       "      <th>0</th>\n",
       "      <td>0.0</td>\n",
       "      <td>0.265306</td>\n",
       "      <td>0.093333</td>\n",
       "      <td>0.144770</td>\n",
       "      <td>0.0</td>\n",
       "      <td>0.0</td>\n",
       "      <td>0.0</td>\n",
       "      <td>0.0</td>\n",
       "      <td>0.0</td>\n",
       "      <td>0.0</td>\n",
       "      <td>...</td>\n",
       "      <td>0.0</td>\n",
       "      <td>0.0</td>\n",
       "      <td>1.0</td>\n",
       "      <td>0.0</td>\n",
       "      <td>0.0</td>\n",
       "      <td>0.0</td>\n",
       "      <td>0.0</td>\n",
       "      <td>0.0</td>\n",
       "      <td>1.0</td>\n",
       "      <td>-1.0</td>\n",
       "    </tr>\n",
       "    <tr>\n",
       "      <th>1</th>\n",
       "      <td>0.0</td>\n",
       "      <td>0.000000</td>\n",
       "      <td>0.080000</td>\n",
       "      <td>-0.116642</td>\n",
       "      <td>0.0</td>\n",
       "      <td>0.0</td>\n",
       "      <td>0.0</td>\n",
       "      <td>0.0</td>\n",
       "      <td>0.0</td>\n",
       "      <td>0.0</td>\n",
       "      <td>...</td>\n",
       "      <td>0.0</td>\n",
       "      <td>0.0</td>\n",
       "      <td>0.0</td>\n",
       "      <td>0.0</td>\n",
       "      <td>0.0</td>\n",
       "      <td>0.0</td>\n",
       "      <td>0.0</td>\n",
       "      <td>0.0</td>\n",
       "      <td>0.0</td>\n",
       "      <td>0.0</td>\n",
       "    </tr>\n",
       "    <tr>\n",
       "      <th>2</th>\n",
       "      <td>0.0</td>\n",
       "      <td>0.000000</td>\n",
       "      <td>0.133333</td>\n",
       "      <td>0.357130</td>\n",
       "      <td>0.0</td>\n",
       "      <td>0.0</td>\n",
       "      <td>0.0</td>\n",
       "      <td>0.0</td>\n",
       "      <td>0.0</td>\n",
       "      <td>0.0</td>\n",
       "      <td>...</td>\n",
       "      <td>0.0</td>\n",
       "      <td>0.0</td>\n",
       "      <td>0.0</td>\n",
       "      <td>0.0</td>\n",
       "      <td>0.0</td>\n",
       "      <td>0.0</td>\n",
       "      <td>0.0</td>\n",
       "      <td>0.0</td>\n",
       "      <td>0.0</td>\n",
       "      <td>0.0</td>\n",
       "    </tr>\n",
       "    <tr>\n",
       "      <th>3</th>\n",
       "      <td>0.0</td>\n",
       "      <td>-0.265306</td>\n",
       "      <td>0.066667</td>\n",
       "      <td>-0.116642</td>\n",
       "      <td>0.0</td>\n",
       "      <td>0.0</td>\n",
       "      <td>0.0</td>\n",
       "      <td>0.0</td>\n",
       "      <td>0.0</td>\n",
       "      <td>0.0</td>\n",
       "      <td>...</td>\n",
       "      <td>1.0</td>\n",
       "      <td>0.0</td>\n",
       "      <td>0.0</td>\n",
       "      <td>0.0</td>\n",
       "      <td>0.0</td>\n",
       "      <td>0.0</td>\n",
       "      <td>0.0</td>\n",
       "      <td>0.0</td>\n",
       "      <td>1.0</td>\n",
       "      <td>-1.0</td>\n",
       "    </tr>\n",
       "    <tr>\n",
       "      <th>4</th>\n",
       "      <td>-1.0</td>\n",
       "      <td>0.000000</td>\n",
       "      <td>0.293333</td>\n",
       "      <td>0.290433</td>\n",
       "      <td>0.0</td>\n",
       "      <td>0.0</td>\n",
       "      <td>0.0</td>\n",
       "      <td>0.0</td>\n",
       "      <td>0.0</td>\n",
       "      <td>0.0</td>\n",
       "      <td>...</td>\n",
       "      <td>0.0</td>\n",
       "      <td>0.0</td>\n",
       "      <td>0.0</td>\n",
       "      <td>0.0</td>\n",
       "      <td>0.0</td>\n",
       "      <td>0.0</td>\n",
       "      <td>0.0</td>\n",
       "      <td>0.0</td>\n",
       "      <td>1.0</td>\n",
       "      <td>-1.0</td>\n",
       "    </tr>\n",
       "  </tbody>\n",
       "</table>\n",
       "<p>5 rows × 39 columns</p>\n",
       "</div>"
      ],
      "text/plain": [
       "   active_customer  region_code       age    salary  short_term_deposit  \\\n",
       "0              0.0     0.265306  0.093333  0.144770                 0.0   \n",
       "1              0.0     0.000000  0.080000 -0.116642                 0.0   \n",
       "2              0.0     0.000000  0.133333  0.357130                 0.0   \n",
       "3              0.0    -0.265306  0.066667 -0.116642                 0.0   \n",
       "4             -1.0     0.000000  0.293333  0.290433                 0.0   \n",
       "\n",
       "   loans  mortgage  funds  securities  long_term_deposit  ...  \\\n",
       "0    0.0       0.0    0.0         0.0                0.0  ...   \n",
       "1    0.0       0.0    0.0         0.0                0.0  ...   \n",
       "2    0.0       0.0    0.0         0.0                0.0  ...   \n",
       "3    0.0       0.0    0.0         0.0                0.0  ...   \n",
       "4    0.0       0.0    0.0         0.0                0.0  ...   \n",
       "\n",
       "   entry_channel_KHN  entry_channel_KHQ  entry_channel_Others  \\\n",
       "0                0.0                0.0                   1.0   \n",
       "1                0.0                0.0                   0.0   \n",
       "2                0.0                0.0                   0.0   \n",
       "3                1.0                0.0                   0.0   \n",
       "4                0.0                0.0                   0.0   \n",
       "\n",
       "   entry_channel_RED  segment_01 - TOP  segment_02 - PARTICULARES  \\\n",
       "0                0.0               0.0                        0.0   \n",
       "1                0.0               0.0                        0.0   \n",
       "2                0.0               0.0                        0.0   \n",
       "3                0.0               0.0                        0.0   \n",
       "4                0.0               0.0                        0.0   \n",
       "\n",
       "   segment_03 - UNIVERSITARIO  segment_Not defined  gender_H  gender_V  \n",
       "0                         0.0                  0.0       1.0      -1.0  \n",
       "1                         0.0                  0.0       0.0       0.0  \n",
       "2                         0.0                  0.0       0.0       0.0  \n",
       "3                         0.0                  0.0       1.0      -1.0  \n",
       "4                         0.0                  0.0       1.0      -1.0  \n",
       "\n",
       "[5 rows x 39 columns]"
      ]
     },
     "execution_count": 79,
     "metadata": {},
     "output_type": "execute_result"
    }
   ],
   "source": [
    "df_scaled_transformed.head()"
   ]
  },
  {
   "cell_type": "markdown",
   "metadata": {},
   "source": [
    "#### CURVA DEL CODO para definir K del modelo K-Means"
   ]
  },
  {
   "cell_type": "markdown",
   "metadata": {},
   "source": [
    "Para definir la K usamos CURVA DEL CODO. Queremos detectar cuando hay un cambio brusco en la inercia. Que aumentar el numero de centroides no nos salga a cuenta xk la ganancia es muy pequeña, es decir, mide como de compactos son los clusters.\n",
    "\n",
    "Definimos el rango de K seguno las etiquetas de clientes que quiera. Vamos a probar con un rango de 2 a 10. El cliente puede ser, fiel del banco, joven, viejo, con muchos ingresos, hombre, mujer, con previsión de futuro o no, arriesgado o no..."
   ]
  },
  {
   "cell_type": "code",
   "execution_count": 80,
   "metadata": {},
   "outputs": [
    {
     "name": "stdout",
     "output_type": "stream",
     "text": [
      "Fitting pipe with 2 clusters\n",
      "Fitting pipe with 3 clusters\n",
      "Fitting pipe with 4 clusters\n",
      "Fitting pipe with 5 clusters\n",
      "Fitting pipe with 6 clusters\n",
      "Fitting pipe with 7 clusters\n",
      "Fitting pipe with 8 clusters\n",
      "Fitting pipe with 9 clusters\n"
     ]
    }
   ],
   "source": [
    "sse = {}\n",
    "\n",
    "for k in range(2, 10):\n",
    "\n",
    "    print(f\"Fitting pipe with {k} clusters\")\n",
    "\n",
    "    clustering_model = KMeans(n_clusters = k)\n",
    "    clustering_model.fit(df_scaled_transformed)\n",
    "\n",
    "    sse[k] = clustering_model.inertia_"
   ]
  },
  {
   "cell_type": "markdown",
   "metadata": {},
   "source": [
    "A partir de esto, visualizamos la curva del codo buscando el cambio brusco, es decir, el numero óptimo de centroides. Cuando veamos el elbow curve graph, podremos determinar donde hay un punto de inflexión en la curva y con ese definir mi numero de centroides. Si hay más de 1 codo, se coge el más pronunciado. Si no aparece codo, aumentaremos el rango."
   ]
  },
  {
   "cell_type": "code",
   "execution_count": 81,
   "metadata": {},
   "outputs": [
    {
     "data": {
      "image/png": "[encoded data removed]",
      "text/plain": [
       "<Figure size 1600x800 with 1 Axes>"
      ]
     },
     "metadata": {},
     "output_type": "display_data"
    }
   ],
   "source": [
    "fig = plt.figure(figsize = (16, 8))\n",
    "ax = fig.add_subplot()\n",
    "\n",
    "x_values = list(sse.keys())\n",
    "y_values = list(sse.values())\n",
    "\n",
    "ax.plot(x_values, y_values, label = \"Inertia/dispersión de los clústers\")\n",
    "fig.suptitle(\"Variación de la dispersión de los clústers en función de la k\", fontsize = 16);"
   ]
  },
  {
   "cell_type": "markdown",
   "metadata": {},
   "source": [
    "El codo aparece en el X, donde está el cambio más abrupto. En el Y y en el Z hay otra inflexion pero es muy leve, pero el cambio más grande es el X.\n",
    "Si aparecen codos ascendentes, es raro así que solo cogeremos los codos que son descendentes."
   ]
  },
  {
   "cell_type": "markdown",
   "metadata": {},
   "source": [
    "## Segmentación de clientes con el K definido"
   ]
  },
  {
   "cell_type": "markdown",
   "metadata": {},
   "source": [
    "### Filtramos el pipe con la K adecuada segun el numero de centroides"
   ]
  },
  {
   "cell_type": "markdown",
   "metadata": {},
   "source": [
    "Definimos el nuevo pipe con los mismos parámetros y adadimos el clustering con la K adecuada. Ponemos random_state para que se puedan replicar los datos cada vez que se ejecuta."
   ]
  },
  {
   "cell_type": "code",
   "execution_count": 82,
   "metadata": {},
   "outputs": [],
   "source": [
    "pipe = Pipeline(steps = [\n",
    "    #(\"Imputer\", KNNImputer()),\n",
    "    #(\"CustomTransformer\", ClientIdFeatureGenerator),\n",
    "    (\"RobustScaler\", RobustScaler(quantile_range = (0, 99.0))),\n",
    "    (\"Clustering\", KMeans(n_clusters = 5, random_state = 175)) # Definir clusters con el num de centroides\n",
    "])"
   ]
  },
  {
   "cell_type": "code",
   "execution_count": 83,
   "metadata": {},
   "outputs": [
    {
     "data": {
      "text/plain": [
       "(236279, 39)"
      ]
     },
     "execution_count": 83,
     "metadata": {},
     "output_type": "execute_result"
    }
   ],
   "source": [
    "df_final.shape"
   ]
  },
  {
   "cell_type": "markdown",
   "metadata": {},
   "source": [
    "Tenemos X clientes, los que aparecen en la celde df_final.shape en el valor de X"
   ]
  },
  {
   "cell_type": "markdown",
   "metadata": {},
   "source": [
    "### Hacemos un fit con el dataset final para aplicar las trasnformaciones correctas definidas en la pipe sobre el df"
   ]
  },
  {
   "cell_type": "code",
   "execution_count": 84,
   "metadata": {},
   "outputs": [
    {
     "data": {
      "text/html": [
       "<style>#sk-container-id-1 {\n",
       "  /* Definition of color scheme common for light and dark mode */\n",
       "  --sklearn-color-text: black;\n",
       "  --sklearn-color-line: gray;\n",
       "  /* Definition of color scheme for unfitted estimators */\n",
       "  --sklearn-color-unfitted-level-0: #fff5e6;\n",
       "  --sklearn-color-unfitted-level-1: #f6e4d2;\n",
       "  --sklearn-color-unfitted-level-2: #ffe0b3;\n",
       "  --sklearn-color-unfitted-level-3: chocolate;\n",
       "  /* Definition of color scheme for fitted estimators */\n",
       "  --sklearn-color-fitted-level-0: #f0f8ff;\n",
       "  --sklearn-color-fitted-level-1: #d4ebff;\n",
       "  --sklearn-color-fitted-level-2: #b3dbfd;\n",
       "  --sklearn-color-fitted-level-3: cornflowerblue;\n",
       "\n",
       "  /* Specific color for light theme */\n",
       "  --sklearn-color-text-on-default-background: var(--sg-text-color, var(--theme-code-foreground, var(--jp-content-font-color1, black)));\n",
       "  --sklearn-color-background: var(--sg-background-color, var(--theme-background, var(--jp-layout-color0, white)));\n",
       "  --sklearn-color-border-box: var(--sg-text-color, var(--theme-code-foreground, var(--jp-content-font-color1, black)));\n",
       "  --sklearn-color-icon: #696969;\n",
       "\n",
       "  @media (prefers-color-scheme: dark) {\n",
       "    /* Redefinition of color scheme for dark theme */\n",
       "    --sklearn-color-text-on-default-background: var(--sg-text-color, var(--theme-code-foreground, var(--jp-content-font-color1, white)));\n",
       "    --sklearn-color-background: var(--sg-background-color, var(--theme-background, var(--jp-layout-color0, #111)));\n",
       "    --sklearn-color-border-box: var(--sg-text-color, var(--theme-code-foreground, var(--jp-content-font-color1, white)));\n",
       "    --sklearn-color-icon: #878787;\n",
       "  }\n",
       "}\n",
       "\n",
       "#sk-container-id-1 {\n",
       "  color: var(--sklearn-color-text);\n",
       "}\n",
       "\n",
       "#sk-container-id-1 pre {\n",
       "  padding: 0;\n",
       "}\n",
       "\n",
       "#sk-container-id-1 input.sk-hidden--visually {\n",
       "  border: 0;\n",
       "  clip: rect(1px 1px 1px 1px);\n",
       "  clip: rect(1px, 1px, 1px, 1px);\n",
       "  height: 1px;\n",
       "  margin: -1px;\n",
       "  overflow: hidden;\n",
       "  padding: 0;\n",
       "  position: absolute;\n",
       "  width: 1px;\n",
       "}\n",
       "\n",
       "#sk-container-id-1 div.sk-dashed-wrapped {\n",
       "  border: 1px dashed var(--sklearn-color-line);\n",
       "  margin: 0 0.4em 0.5em 0.4em;\n",
       "  box-sizing: border-box;\n",
       "  padding-bottom: 0.4em;\n",
       "  background-color: var(--sklearn-color-background);\n",
       "}\n",
       "\n",
       "#sk-container-id-1 div.sk-container {\n",
       "  /* jupyter's `normalize.less` sets `[hidden] { display: none; }`\n",
       "     but bootstrap.min.css set `[hidden] { display: none !important; }`\n",
       "     so we also need the `!important` here to be able to override the\n",
       "     default hidden behavior on the sphinx rendered scikit-learn.org.\n",
       "     See: https://github.com/scikit-learn/scikit-learn/issues/21755 */\n",
       "  display: inline-block !important;\n",
       "  position: relative;\n",
       "}\n",
       "\n",
       "#sk-container-id-1 div.sk-text-repr-fallback {\n",
       "  display: none;\n",
       "}\n",
       "\n",
       "div.sk-parallel-item,\n",
       "div.sk-serial,\n",
       "div.sk-item {\n",
       "  /* draw centered vertical line to link estimators */\n",
       "  background-image: linear-gradient(var(--sklearn-color-text-on-default-background), var(--sklearn-color-text-on-default-background));\n",
       "  background-size: 2px 100%;\n",
       "  background-repeat: no-repeat;\n",
       "  background-position: center center;\n",
       "}\n",
       "\n",
       "/* Parallel-specific style estimator block */\n",
       "\n",
       "#sk-container-id-1 div.sk-parallel-item::after {\n",
       "  content: \"\";\n",
       "  width: 100%;\n",
       "  border-bottom: 2px solid var(--sklearn-color-text-on-default-background);\n",
       "  flex-grow: 1;\n",
       "}\n",
       "\n",
       "#sk-container-id-1 div.sk-parallel {\n",
       "  display: flex;\n",
       "  align-items: stretch;\n",
       "  justify-content: center;\n",
       "  background-color: var(--sklearn-color-background);\n",
       "  position: relative;\n",
       "}\n",
       "\n",
       "#sk-container-id-1 div.sk-parallel-item {\n",
       "  display: flex;\n",
       "  flex-direction: column;\n",
       "}\n",
       "\n",
       "#sk-container-id-1 div.sk-parallel-item:first-child::after {\n",
       "  align-self: flex-end;\n",
       "  width: 50%;\n",
       "}\n",
       "\n",
       "#sk-container-id-1 div.sk-parallel-item:last-child::after {\n",
       "  align-self: flex-start;\n",
       "  width: 50%;\n",
       "}\n",
       "\n",
       "#sk-container-id-1 div.sk-parallel-item:only-child::after {\n",
       "  width: 0;\n",
       "}\n",
       "\n",
       "/* Serial-specific style estimator block */\n",
       "\n",
       "#sk-container-id-1 div.sk-serial {\n",
       "  display: flex;\n",
       "  flex-direction: column;\n",
       "  align-items: center;\n",
       "  background-color: var(--sklearn-color-background);\n",
       "  padding-right: 1em;\n",
       "  padding-left: 1em;\n",
       "}\n",
       "\n",
       "\n",
       "/* Toggleable style: style used for estimator/Pipeline/ColumnTransformer box that is\n",
       "clickable and can be expanded/collapsed.\n",
       "- Pipeline and ColumnTransformer use this feature and define the default style\n",
       "- Estimators will overwrite some part of the style using the `sk-estimator` class\n",
       "*/\n",
       "\n",
       "/* Pipeline and ColumnTransformer style (default) */\n",
       "\n",
       "#sk-container-id-1 div.sk-toggleable {\n",
       "  /* Default theme specific background. It is overwritten whether we have a\n",
       "  specific estimator or a Pipeline/ColumnTransformer */\n",
       "  background-color: var(--sklearn-color-background);\n",
       "}\n",
       "\n",
       "/* Toggleable label */\n",
       "#sk-container-id-1 label.sk-toggleable__label {\n",
       "  cursor: pointer;\n",
       "  display: block;\n",
       "  width: 100%;\n",
       "  margin-bottom: 0;\n",
       "  padding: 0.5em;\n",
       "  box-sizing: border-box;\n",
       "  text-align: center;\n",
       "}\n",
       "\n",
       "#sk-container-id-1 label.sk-toggleable__label-arrow:before {\n",
       "  /* Arrow on the left of the label */\n",
       "  content: \"▸\";\n",
       "  float: left;\n",
       "  margin-right: 0.25em;\n",
       "  color: var(--sklearn-color-icon);\n",
       "}\n",
       "\n",
       "#sk-container-id-1 label.sk-toggleable__label-arrow:hover:before {\n",
       "  color: var(--sklearn-color-text);\n",
       "}\n",
       "\n",
       "/* Toggleable content - dropdown */\n",
       "\n",
       "#sk-container-id-1 div.sk-toggleable__content {\n",
       "  max-height: 0;\n",
       "  max-width: 0;\n",
       "  overflow: hidden;\n",
       "  text-align: left;\n",
       "  /* unfitted */\n",
       "  background-color: var(--sklearn-color-unfitted-level-0);\n",
       "}\n",
       "\n",
       "#sk-container-id-1 div.sk-toggleable__content.fitted {\n",
       "  /* fitted */\n",
       "  background-color: var(--sklearn-color-fitted-level-0);\n",
       "}\n",
       "\n",
       "#sk-container-id-1 div.sk-toggleable__content pre {\n",
       "  margin: 0.2em;\n",
       "  border-radius: 0.25em;\n",
       "  color: var(--sklearn-color-text);\n",
       "  /* unfitted */\n",
       "  background-color: var(--sklearn-color-unfitted-level-0);\n",
       "}\n",
       "\n",
       "#sk-container-id-1 div.sk-toggleable__content.fitted pre {\n",
       "  /* unfitted */\n",
       "  background-color: var(--sklearn-color-fitted-level-0);\n",
       "}\n",
       "\n",
       "#sk-container-id-1 input.sk-toggleable__control:checked~div.sk-toggleable__content {\n",
       "  /* Expand drop-down */\n",
       "  max-height: 200px;\n",
       "  max-width: 100%;\n",
       "  overflow: auto;\n",
       "}\n",
       "\n",
       "#sk-container-id-1 input.sk-toggleable__control:checked~label.sk-toggleable__label-arrow:before {\n",
       "  content: \"▾\";\n",
       "}\n",
       "\n",
       "/* Pipeline/ColumnTransformer-specific style */\n",
       "\n",
       "#sk-container-id-1 div.sk-label input.sk-toggleable__control:checked~label.sk-toggleable__label {\n",
       "  color: var(--sklearn-color-text);\n",
       "  background-color: var(--sklearn-color-unfitted-level-2);\n",
       "}\n",
       "\n",
       "#sk-container-id-1 div.sk-label.fitted input.sk-toggleable__control:checked~label.sk-toggleable__label {\n",
       "  background-color: var(--sklearn-color-fitted-level-2);\n",
       "}\n",
       "\n",
       "/* Estimator-specific style */\n",
       "\n",
       "/* Colorize estimator box */\n",
       "#sk-container-id-1 div.sk-estimator input.sk-toggleable__control:checked~label.sk-toggleable__label {\n",
       "  /* unfitted */\n",
       "  background-color: var(--sklearn-color-unfitted-level-2);\n",
       "}\n",
       "\n",
       "#sk-container-id-1 div.sk-estimator.fitted input.sk-toggleable__control:checked~label.sk-toggleable__label {\n",
       "  /* fitted */\n",
       "  background-color: var(--sklearn-color-fitted-level-2);\n",
       "}\n",
       "\n",
       "#sk-container-id-1 div.sk-label label.sk-toggleable__label,\n",
       "#sk-container-id-1 div.sk-label label {\n",
       "  /* The background is the default theme color */\n",
       "  color: var(--sklearn-color-text-on-default-background);\n",
       "}\n",
       "\n",
       "/* On hover, darken the color of the background */\n",
       "#sk-container-id-1 div.sk-label:hover label.sk-toggleable__label {\n",
       "  color: var(--sklearn-color-text);\n",
       "  background-color: var(--sklearn-color-unfitted-level-2);\n",
       "}\n",
       "\n",
       "/* Label box, darken color on hover, fitted */\n",
       "#sk-container-id-1 div.sk-label.fitted:hover label.sk-toggleable__label.fitted {\n",
       "  color: var(--sklearn-color-text);\n",
       "  background-color: var(--sklearn-color-fitted-level-2);\n",
       "}\n",
       "\n",
       "/* Estimator label */\n",
       "\n",
       "#sk-container-id-1 div.sk-label label {\n",
       "  font-family: monospace;\n",
       "  font-weight: bold;\n",
       "  display: inline-block;\n",
       "  line-height: 1.2em;\n",
       "}\n",
       "\n",
       "#sk-container-id-1 div.sk-label-container {\n",
       "  text-align: center;\n",
       "}\n",
       "\n",
       "/* Estimator-specific */\n",
       "#sk-container-id-1 div.sk-estimator {\n",
       "  font-family: monospace;\n",
       "  border: 1px dotted var(--sklearn-color-border-box);\n",
       "  border-radius: 0.25em;\n",
       "  box-sizing: border-box;\n",
       "  margin-bottom: 0.5em;\n",
       "  /* unfitted */\n",
       "  background-color: var(--sklearn-color-unfitted-level-0);\n",
       "}\n",
       "\n",
       "#sk-container-id-1 div.sk-estimator.fitted {\n",
       "  /* fitted */\n",
       "  background-color: var(--sklearn-color-fitted-level-0);\n",
       "}\n",
       "\n",
       "/* on hover */\n",
       "#sk-container-id-1 div.sk-estimator:hover {\n",
       "  /* unfitted */\n",
       "  background-color: var(--sklearn-color-unfitted-level-2);\n",
       "}\n",
       "\n",
       "#sk-container-id-1 div.sk-estimator.fitted:hover {\n",
       "  /* fitted */\n",
       "  background-color: var(--sklearn-color-fitted-level-2);\n",
       "}\n",
       "\n",
       "/* Specification for estimator info (e.g. \"i\" and \"?\") */\n",
       "\n",
       "/* Common style for \"i\" and \"?\" */\n",
       "\n",
       ".sk-estimator-doc-link,\n",
       "a:link.sk-estimator-doc-link,\n",
       "a:visited.sk-estimator-doc-link {\n",
       "  float: right;\n",
       "  font-size: smaller;\n",
       "  line-height: 1em;\n",
       "  font-family: monospace;\n",
       "  background-color: var(--sklearn-color-background);\n",
       "  border-radius: 1em;\n",
       "  height: 1em;\n",
       "  width: 1em;\n",
       "  text-decoration: none !important;\n",
       "  margin-left: 1ex;\n",
       "  /* unfitted */\n",
       "  border: var(--sklearn-color-unfitted-level-1) 1pt solid;\n",
       "  color: var(--sklearn-color-unfitted-level-1);\n",
       "}\n",
       "\n",
       ".sk-estimator-doc-link.fitted,\n",
       "a:link.sk-estimator-doc-link.fitted,\n",
       "a:visited.sk-estimator-doc-link.fitted {\n",
       "  /* fitted */\n",
       "  border: var(--sklearn-color-fitted-level-1) 1pt solid;\n",
       "  color: var(--sklearn-color-fitted-level-1);\n",
       "}\n",
       "\n",
       "/* On hover */\n",
       "div.sk-estimator:hover .sk-estimator-doc-link:hover,\n",
       ".sk-estimator-doc-link:hover,\n",
       "div.sk-label-container:hover .sk-estimator-doc-link:hover,\n",
       ".sk-estimator-doc-link:hover {\n",
       "  /* unfitted */\n",
       "  background-color: var(--sklearn-color-unfitted-level-3);\n",
       "  color: var(--sklearn-color-background);\n",
       "  text-decoration: none;\n",
       "}\n",
       "\n",
       "div.sk-estimator.fitted:hover .sk-estimator-doc-link.fitted:hover,\n",
       ".sk-estimator-doc-link.fitted:hover,\n",
       "div.sk-label-container:hover .sk-estimator-doc-link.fitted:hover,\n",
       ".sk-estimator-doc-link.fitted:hover {\n",
       "  /* fitted */\n",
       "  background-color: var(--sklearn-color-fitted-level-3);\n",
       "  color: var(--sklearn-color-background);\n",
       "  text-decoration: none;\n",
       "}\n",
       "\n",
       "/* Span, style for the box shown on hovering the info icon */\n",
       ".sk-estimator-doc-link span {\n",
       "  display: none;\n",
       "  z-index: 9999;\n",
       "  position: relative;\n",
       "  font-weight: normal;\n",
       "  right: .2ex;\n",
       "  padding: .5ex;\n",
       "  margin: .5ex;\n",
       "  width: min-content;\n",
       "  min-width: 20ex;\n",
       "  max-width: 50ex;\n",
       "  color: var(--sklearn-color-text);\n",
       "  box-shadow: 2pt 2pt 4pt #999;\n",
       "  /* unfitted */\n",
       "  background: var(--sklearn-color-unfitted-level-0);\n",
       "  border: .5pt solid var(--sklearn-color-unfitted-level-3);\n",
       "}\n",
       "\n",
       ".sk-estimator-doc-link.fitted span {\n",
       "  /* fitted */\n",
       "  background: var(--sklearn-color-fitted-level-0);\n",
       "  border: var(--sklearn-color-fitted-level-3);\n",
       "}\n",
       "\n",
       ".sk-estimator-doc-link:hover span {\n",
       "  display: block;\n",
       "}\n",
       "\n",
       "/* \"?\"-specific style due to the `<a>` HTML tag */\n",
       "\n",
       "#sk-container-id-1 a.estimator_doc_link {\n",
       "  float: right;\n",
       "  font-size: 1rem;\n",
       "  line-height: 1em;\n",
       "  font-family: monospace;\n",
       "  background-color: var(--sklearn-color-background);\n",
       "  border-radius: 1rem;\n",
       "  height: 1rem;\n",
       "  width: 1rem;\n",
       "  text-decoration: none;\n",
       "  /* unfitted */\n",
       "  color: var(--sklearn-color-unfitted-level-1);\n",
       "  border: var(--sklearn-color-unfitted-level-1) 1pt solid;\n",
       "}\n",
       "\n",
       "#sk-container-id-1 a.estimator_doc_link.fitted {\n",
       "  /* fitted */\n",
       "  border: var(--sklearn-color-fitted-level-1) 1pt solid;\n",
       "  color: var(--sklearn-color-fitted-level-1);\n",
       "}\n",
       "\n",
       "/* On hover */\n",
       "#sk-container-id-1 a.estimator_doc_link:hover {\n",
       "  /* unfitted */\n",
       "  background-color: var(--sklearn-color-unfitted-level-3);\n",
       "  color: var(--sklearn-color-background);\n",
       "  text-decoration: none;\n",
       "}\n",
       "\n",
       "#sk-container-id-1 a.estimator_doc_link.fitted:hover {\n",
       "  /* fitted */\n",
       "  background-color: var(--sklearn-color-fitted-level-3);\n",
       "}\n",
       "</style><div id=\"sk-container-id-1\" class=\"sk-top-container\"><div class=\"sk-text-repr-fallback\"><pre>Pipeline(steps=[(&#x27;RobustScaler&#x27;, RobustScaler(quantile_range=(0, 99.0))),\n",
       "                (&#x27;Clustering&#x27;, KMeans(n_clusters=5, random_state=175))])</pre><b>In a Jupyter environment, please rerun this cell to show the HTML representation or trust the notebook. <br />On GitHub, the HTML representation is unable to render, please try loading this page with nbviewer.org.</b></div><div class=\"sk-container\" hidden><div class=\"sk-item sk-dashed-wrapped\"><div class=\"sk-label-container\"><div class=\"sk-label fitted sk-toggleable\"><input class=\"sk-toggleable__control sk-hidden--visually\" id=\"sk-estimator-id-1\" type=\"checkbox\" ><label for=\"sk-estimator-id-1\" class=\"sk-toggleable__label fitted sk-toggleable__label-arrow fitted\">&nbsp;&nbsp;Pipeline<a class=\"sk-estimator-doc-link fitted\" rel=\"noreferrer\" target=\"_blank\" href=\"https://scikit-learn.org/1.5/modules/generated/sklearn.pipeline.Pipeline.html\">?<span>Documentation for Pipeline</span></a><span class=\"sk-estimator-doc-link fitted\">i<span>Fitted</span></span></label><div class=\"sk-toggleable__content fitted\"><pre>Pipeline(steps=[(&#x27;RobustScaler&#x27;, RobustScaler(quantile_range=(0, 99.0))),\n",
       "                (&#x27;Clustering&#x27;, KMeans(n_clusters=5, random_state=175))])</pre></div> </div></div><div class=\"sk-serial\"><div class=\"sk-item\"><div class=\"sk-estimator fitted sk-toggleable\"><input class=\"sk-toggleable__control sk-hidden--visually\" id=\"sk-estimator-id-2\" type=\"checkbox\" ><label for=\"sk-estimator-id-2\" class=\"sk-toggleable__label fitted sk-toggleable__label-arrow fitted\">&nbsp;RobustScaler<a class=\"sk-estimator-doc-link fitted\" rel=\"noreferrer\" target=\"_blank\" href=\"https://scikit-learn.org/1.5/modules/generated/sklearn.preprocessing.RobustScaler.html\">?<span>Documentation for RobustScaler</span></a></label><div class=\"sk-toggleable__content fitted\"><pre>RobustScaler(quantile_range=(0, 99.0))</pre></div> </div></div><div class=\"sk-item\"><div class=\"sk-estimator fitted sk-toggleable\"><input class=\"sk-toggleable__control sk-hidden--visually\" id=\"sk-estimator-id-3\" type=\"checkbox\" ><label for=\"sk-estimator-id-3\" class=\"sk-toggleable__label fitted sk-toggleable__label-arrow fitted\">&nbsp;KMeans<a class=\"sk-estimator-doc-link fitted\" rel=\"noreferrer\" target=\"_blank\" href=\"https://scikit-learn.org/1.5/modules/generated/sklearn.cluster.KMeans.html\">?<span>Documentation for KMeans</span></a></label><div class=\"sk-toggleable__content fitted\"><pre>KMeans(n_clusters=5, random_state=175)</pre></div> </div></div></div></div></div></div>"
      ],
      "text/plain": [
       "Pipeline(steps=[('RobustScaler', RobustScaler(quantile_range=(0, 99.0))),\n",
       "                ('Clustering', KMeans(n_clusters=5, random_state=175))])"
      ]
     },
     "execution_count": 84,
     "metadata": {},
     "output_type": "execute_result"
    }
   ],
   "source": [
    "pipe.fit(df_final)"
   ]
  },
  {
   "cell_type": "markdown",
   "metadata": {},
   "source": [
    "Una parte muy interesante de los pipelines es que la podemos filtrar (igual que una lista de python) y usar sólo parte de los pasos que tenemos implementados."
   ]
  },
  {
   "cell_type": "markdown",
   "metadata": {},
   "source": [
    "Hacemos el transform con el df final hasta el 2, por ejemplo"
   ]
  },
  {
   "cell_type": "code",
   "execution_count": 85,
   "metadata": {},
   "outputs": [],
   "source": [
    "X_processed = pipe[:2].transform(df_final)"
   ]
  },
  {
   "cell_type": "markdown",
   "metadata": {},
   "source": [
    "Hacemos el predict para definir las etiquetas de cadauno de los clusters."
   ]
  },
  {
   "cell_type": "code",
   "execution_count": 86,
   "metadata": {},
   "outputs": [],
   "source": [
    "labels = pipe.predict(df_final) # le hacemos las labels sobre el df_final, no sobre el escalado, ya que sino será dificil de interpretar etiquetas"
   ]
  },
  {
   "cell_type": "code",
   "execution_count": 87,
   "metadata": {},
   "outputs": [],
   "source": [
    "# le asignamos el clúster al DataFrame procesado \n",
    "X_processed[\"cluster\"] = labels"
   ]
  },
  {
   "cell_type": "markdown",
   "metadata": {},
   "source": [
    "juntamos las labels con el dataset"
   ]
  },
  {
   "cell_type": "code",
   "execution_count": 88,
   "metadata": {},
   "outputs": [
    {
     "data": {
      "text/plain": [
       "(236279, 6)"
      ]
     },
     "execution_count": 88,
     "metadata": {},
     "output_type": "execute_result"
    }
   ],
   "source": [
    "X_processed.shape"
   ]
  },
  {
   "cell_type": "markdown",
   "metadata": {},
   "source": [
    "## Ficha de los clientes"
   ]
  },
  {
   "cell_type": "markdown",
   "metadata": {},
   "source": [
    "Tenemos quw resumir la info para describir los clusters.\n",
    "Generamos el df ficha_df"
   ]
  },
  {
   "cell_type": "code",
   "execution_count": 89,
   "metadata": {},
   "outputs": [],
   "source": [
    "ficha_df = pd.DataFrame()"
   ]
  },
  {
   "cell_type": "markdown",
   "metadata": {},
   "source": [
    "Hacemos el resumen con el cluster al que añadimos las columnas mencionadas en el enumerate, que se añade al df de ficha final con el concat"
   ]
  },
  {
   "cell_type": "markdown",
   "metadata": {},
   "source": [
    "***TENDREMOS QUE AÑADIR LAS VARIABLES NUEVAS***, 'compras_weekend'"
   ]
  },
  {
   "cell_type": "code",
   "execution_count": 90,
   "metadata": {},
   "outputs": [
    {
     "ename": "KeyError",
     "evalue": "\"['amount'] not in index\"",
     "output_type": "error",
     "traceback": [
      "\u001b[0;31m---------------------------------------------------------------------------\u001b[0m",
      "\u001b[0;31mKeyError\u001b[0m                                  Traceback (most recent call last)",
      "Cell \u001b[0;32mIn[90], line 3\u001b[0m\n\u001b[1;32m      1\u001b[0m \u001b[38;5;28;01mfor\u001b[39;00m i, col \u001b[38;5;129;01min\u001b[39;00m \u001b[38;5;28menumerate\u001b[39m([\u001b[38;5;124m\"\u001b[39m\u001b[38;5;124mamount\u001b[39m\u001b[38;5;124m\"\u001b[39m, \u001b[38;5;124m\"\u001b[39m\u001b[38;5;124mn_orders\u001b[39m\u001b[38;5;124m\"\u001b[39m, \u001b[38;5;124m\"\u001b[39m\u001b[38;5;124mlast_purchase\u001b[39m\u001b[38;5;124m\"\u001b[39m, \u001b[38;5;124m\"\u001b[39m\u001b[38;5;124mmean_delay\u001b[39m\u001b[38;5;124m\"\u001b[39m]): \u001b[38;5;66;03m# Meter en la lista las columnas que creamos que nos describen al cliente para ver sobre los clusters en que varian y poder describirlos.\u001b[39;00m\n\u001b[1;32m      2\u001b[0m     \u001b[38;5;66;03m# ['active_customer', 'entry_channel', 'total_products', ....]\u001b[39;00m\n\u001b[0;32m----> 3\u001b[0m     resumen_data \u001b[38;5;241m=\u001b[39m \u001b[43mX_processed\u001b[49m\u001b[43m[\u001b[49m\u001b[43m[\u001b[49m\u001b[38;5;124;43m\"\u001b[39;49m\u001b[38;5;124;43mcluster\u001b[39;49m\u001b[38;5;124;43m\"\u001b[39;49m\u001b[43m,\u001b[49m\u001b[43m \u001b[49m\u001b[43mcol\u001b[49m\u001b[43m]\u001b[49m\u001b[43m]\u001b[49m\u001b[38;5;241m.\u001b[39mgroupby(\u001b[38;5;124m\"\u001b[39m\u001b[38;5;124mcluster\u001b[39m\u001b[38;5;124m\"\u001b[39m)\u001b[38;5;241m.\u001b[39mdescribe()\u001b[38;5;241m.\u001b[39mT[\u001b[38;5;241m1\u001b[39m:]\n\u001b[1;32m      4\u001b[0m     ficha_df \u001b[38;5;241m=\u001b[39m pd\u001b[38;5;241m.\u001b[39mconcat([ficha_df, resumen_data])\n",
      "File \u001b[0;32m/Library/Frameworks/Python.framework/Versions/3.12/lib/python3.12/site-packages/pandas/core/frame.py:4108\u001b[0m, in \u001b[0;36mDataFrame.__getitem__\u001b[0;34m(self, key)\u001b[0m\n\u001b[1;32m   4106\u001b[0m     \u001b[38;5;28;01mif\u001b[39;00m is_iterator(key):\n\u001b[1;32m   4107\u001b[0m         key \u001b[38;5;241m=\u001b[39m \u001b[38;5;28mlist\u001b[39m(key)\n\u001b[0;32m-> 4108\u001b[0m     indexer \u001b[38;5;241m=\u001b[39m \u001b[38;5;28;43mself\u001b[39;49m\u001b[38;5;241;43m.\u001b[39;49m\u001b[43mcolumns\u001b[49m\u001b[38;5;241;43m.\u001b[39;49m\u001b[43m_get_indexer_strict\u001b[49m\u001b[43m(\u001b[49m\u001b[43mkey\u001b[49m\u001b[43m,\u001b[49m\u001b[43m \u001b[49m\u001b[38;5;124;43m\"\u001b[39;49m\u001b[38;5;124;43mcolumns\u001b[39;49m\u001b[38;5;124;43m\"\u001b[39;49m\u001b[43m)\u001b[49m[\u001b[38;5;241m1\u001b[39m]\n\u001b[1;32m   4110\u001b[0m \u001b[38;5;66;03m# take() does not accept boolean indexers\u001b[39;00m\n\u001b[1;32m   4111\u001b[0m \u001b[38;5;28;01mif\u001b[39;00m \u001b[38;5;28mgetattr\u001b[39m(indexer, \u001b[38;5;124m\"\u001b[39m\u001b[38;5;124mdtype\u001b[39m\u001b[38;5;124m\"\u001b[39m, \u001b[38;5;28;01mNone\u001b[39;00m) \u001b[38;5;241m==\u001b[39m \u001b[38;5;28mbool\u001b[39m:\n",
      "File \u001b[0;32m/Library/Frameworks/Python.framework/Versions/3.12/lib/python3.12/site-packages/pandas/core/indexes/base.py:6200\u001b[0m, in \u001b[0;36mIndex._get_indexer_strict\u001b[0;34m(self, key, axis_name)\u001b[0m\n\u001b[1;32m   6197\u001b[0m \u001b[38;5;28;01melse\u001b[39;00m:\n\u001b[1;32m   6198\u001b[0m     keyarr, indexer, new_indexer \u001b[38;5;241m=\u001b[39m \u001b[38;5;28mself\u001b[39m\u001b[38;5;241m.\u001b[39m_reindex_non_unique(keyarr)\n\u001b[0;32m-> 6200\u001b[0m \u001b[38;5;28;43mself\u001b[39;49m\u001b[38;5;241;43m.\u001b[39;49m\u001b[43m_raise_if_missing\u001b[49m\u001b[43m(\u001b[49m\u001b[43mkeyarr\u001b[49m\u001b[43m,\u001b[49m\u001b[43m \u001b[49m\u001b[43mindexer\u001b[49m\u001b[43m,\u001b[49m\u001b[43m \u001b[49m\u001b[43maxis_name\u001b[49m\u001b[43m)\u001b[49m\n\u001b[1;32m   6202\u001b[0m keyarr \u001b[38;5;241m=\u001b[39m \u001b[38;5;28mself\u001b[39m\u001b[38;5;241m.\u001b[39mtake(indexer)\n\u001b[1;32m   6203\u001b[0m \u001b[38;5;28;01mif\u001b[39;00m \u001b[38;5;28misinstance\u001b[39m(key, Index):\n\u001b[1;32m   6204\u001b[0m     \u001b[38;5;66;03m# GH 42790 - Preserve name from an Index\u001b[39;00m\n",
      "File \u001b[0;32m/Library/Frameworks/Python.framework/Versions/3.12/lib/python3.12/site-packages/pandas/core/indexes/base.py:6252\u001b[0m, in \u001b[0;36mIndex._raise_if_missing\u001b[0;34m(self, key, indexer, axis_name)\u001b[0m\n\u001b[1;32m   6249\u001b[0m     \u001b[38;5;28;01mraise\u001b[39;00m \u001b[38;5;167;01mKeyError\u001b[39;00m(\u001b[38;5;124mf\u001b[39m\u001b[38;5;124m\"\u001b[39m\u001b[38;5;124mNone of [\u001b[39m\u001b[38;5;132;01m{\u001b[39;00mkey\u001b[38;5;132;01m}\u001b[39;00m\u001b[38;5;124m] are in the [\u001b[39m\u001b[38;5;132;01m{\u001b[39;00maxis_name\u001b[38;5;132;01m}\u001b[39;00m\u001b[38;5;124m]\u001b[39m\u001b[38;5;124m\"\u001b[39m)\n\u001b[1;32m   6251\u001b[0m not_found \u001b[38;5;241m=\u001b[39m \u001b[38;5;28mlist\u001b[39m(ensure_index(key)[missing_mask\u001b[38;5;241m.\u001b[39mnonzero()[\u001b[38;5;241m0\u001b[39m]]\u001b[38;5;241m.\u001b[39munique())\n\u001b[0;32m-> 6252\u001b[0m \u001b[38;5;28;01mraise\u001b[39;00m \u001b[38;5;167;01mKeyError\u001b[39;00m(\u001b[38;5;124mf\u001b[39m\u001b[38;5;124m\"\u001b[39m\u001b[38;5;132;01m{\u001b[39;00mnot_found\u001b[38;5;132;01m}\u001b[39;00m\u001b[38;5;124m not in index\u001b[39m\u001b[38;5;124m\"\u001b[39m)\n",
      "\u001b[0;31mKeyError\u001b[0m: \"['amount'] not in index\""
     ]
    }
   ],
   "source": [
    "for i, col in enumerate([\"amount\", \"n_orders\", \"last_purchase\", \"mean_delay\"]): # Meter en la lista las columnas que creamos que nos describen al cliente para ver sobre los clusters en que varian y poder describirlos.\n",
    "    # ['active_customer', 'entry_channel', 'total_products', ....]\n",
    "    resumen_data = X_processed[[\"cluster\", col]].groupby(\"cluster\").describe().T[1:]\n",
    "    ficha_df = pd.concat([ficha_df, resumen_data])"
   ]
  },
  {
   "cell_type": "code",
   "execution_count": null,
   "metadata": {},
   "outputs": [],
   "source": [
    "ficha_df"
   ]
  },
  {
   "cell_type": "markdown",
   "metadata": {},
   "source": [
    "Generamos indices y renombramos las variables para quea facil de entender, Generamos multiindice para visualización"
   ]
  },
  {
   "cell_type": "code",
   "execution_count": null,
   "metadata": {},
   "outputs": [],
   "source": [
    "# generamos nuestro multiindex\n",
    "out_index = [\n",
    "    \"Monetarios\",\n",
    "    \"Fidelización\",\n",
    "    \"Fidelización\",\n",
    "    \"Logística\"\n",
    "]\n",
    "\n",
    "inner_index = [\n",
    "    \"Importe\",\n",
    "    \"Nr. de compras\",\n",
    "    \"Última compra\",\n",
    "    \"Retrasos\"\n",
    "]\n",
    "\n",
    "estadisticos = [\"Media\", \"Desviación\", \"Mínimo\", \"Perc. 25\", \"Perc. 50\", \"Perc. 75\", \"Máximo\"]\n",
    "\n",
    "new_multi_index = []\n",
    "\n",
    "for oi, ii, in zip(out_index, inner_index):\n",
    "    for es in estadisticos:\n",
    "        new_multi_index.append((oi, ii, es))"
   ]
  },
  {
   "cell_type": "code",
   "execution_count": null,
   "metadata": {},
   "outputs": [],
   "source": [
    "def generate_multiindex(list_of_tuples, names):\n",
    "    return pd.MultiIndex.from_tuples(list_of_tuples, names = names)"
   ]
  },
  {
   "cell_type": "code",
   "execution_count": null,
   "metadata": {},
   "outputs": [],
   "source": [
    "names = [\"Grupo Indicadores\", \"Indicador\", \"Estadístico\"]\n",
    "index_ficha = generate_multiindex(new_multi_index, names)\n",
    "ficha_df.set_index(index_ficha, inplace = True)"
   ]
  },
  {
   "cell_type": "code",
   "execution_count": null,
   "metadata": {},
   "outputs": [],
   "source": [
    "tamaño_clusters = X_processed.groupby(\"cluster\").size().to_frame().T\n",
    "tamaño_clusters.set_index(generate_multiindex([(\"General\", \"Clúster\", \"Tamaño\")] , names), inplace = True)"
   ]
  },
  {
   "cell_type": "code",
   "execution_count": null,
   "metadata": {},
   "outputs": [],
   "source": [
    "ficha_df = pd.concat([tamaño_clusters, ficha_df])"
   ]
  },
  {
   "cell_type": "code",
   "execution_count": null,
   "metadata": {},
   "outputs": [],
   "source": [
    "### Renombramos clusters si queremos\n",
    "# ficha_df = ficha_df.rename(columns = {\n",
    "#     0 : \"Clientes con pedidos < 1 año\",\n",
    "#     1 : \"Clientes con pedidos > 1 año\",\n",
    "#     2 : \"Clientes Premium\",\n",
    "#     3 : \"Clientes Repetidores\",\n",
    "#     4 : \"Clientes con Retrasos\"\n",
    "# })"
   ]
  },
  {
   "cell_type": "code",
   "execution_count": null,
   "metadata": {},
   "outputs": [],
   "source": [
    "ficha_df.style.background_gradient(cmap = 'Blues', axis = 1)"
   ]
  },
  {
   "cell_type": "markdown",
   "metadata": {},
   "source": [
    "Así pintado es mas facil definir los clusters. Vemos:\n",
    "- tamaño clusters (debería ser mas o menos equitativo): tebemos casi la mitad de registros en un cluster pero los demás está bien repartidos.\n",
    "- En el monetario de cluster 3 vemos que el pago de esos clientes es muy alto, superior a los demás clusters con diferencia. A este cluster se le podría llamar clientes premium.\n",
    "- En fidelización, vemos que el cluster 4 destaca x el numero de compras, son mas fieles.\n",
    "- Para Fidelización de última compra, vemos que destaca el cluster 2 que son los clientes que menos compran y supera el año. Se podrian llamar clientes que han comprado hace más de un año (seran poco importantes). Puedo usar este clustering para hacer una campaá comercial y destinar productos a los otros clusterings. También vemos que el cluster 0 es el que más compra.\n",
    "- Para logística y retrasos destaca el cluster 2 donde vemos que los retrasos (más negativo significa entrega adelantada) son menores y se suele entregar antes. Puede que estos clientes esten más descontentos con la empresa x el desajuste de tiempo y elegirlos para compensarlos."
   ]
  },
  {
   "cell_type": "markdown",
   "metadata": {},
   "source": [
    "## Conclusión"
   ]
  },
  {
   "cell_type": "markdown",
   "metadata": {},
   "source": [
    "Los algoritmos no supervisados son herramientas **muy potentes** que cualquier data scientist debe tener a mano. Saber el funcionamiento y hacer la correcta implementación de estos puede permitir **extraer información muy valiosa y tomar mejores decisiones de negocio**. Hemos visto el algoritmo de KMeans que nos permiten crear **grupos homogéneos y accionables** de clientes y así mejorar los indicadores de la compañia.\n",
    "\n",
    "Además de esto, hemos aprendido a utilizar los pipelines de sklearn para **automatizar al máximo el tratamiento de datos** así como implementar nuestros propios ***Transformers*** que puede ser utilizados dentro del pipeline."
   ]
  },
  {
   "cell_type": "markdown",
   "metadata": {},
   "source": [
    "### Eliminamos columnas que no aportan info y Creamos nuevas columnas de descripción de clientes a partir de las existentes"
   ]
  },
  {
   "cell_type": "code",
   "execution_count": null,
   "metadata": {},
   "outputs": [
    {
     "ename": "SyntaxError",
     "evalue": "'break' outside loop (668683560.py, line 1)",
     "output_type": "error",
     "traceback": [
      "\u001b[1;36m  Cell \u001b[1;32mIn[104], line 1\u001b[1;36m\u001b[0m\n\u001b[1;33m    break\u001b[0m\n\u001b[1;37m    ^\u001b[0m\n\u001b[1;31mSyntaxError\u001b[0m\u001b[1;31m:\u001b[0m 'break' outside loop\n"
     ]
    }
   ],
   "source": [
    "break"
   ]
  },
  {
   "cell_type": "code",
   "execution_count": null,
   "metadata": {},
   "outputs": [],
   "source": [
    "df_final.drop(columns=['pk_cid', 'pk_partition', 'net_margin'], inplace=True)"
   ]
  }
 ],
 "metadata": {
  "kernelspec": {
   "display_name": "Python 3",
   "language": "python",
   "name": "python3"
  },
  "language_info": {
   "codemirror_mode": {
    "name": "ipython",
    "version": 3
   },
   "file_extension": ".py",
   "mimetype": "text/x-python",
   "name": "python",
   "nbconvert_exporter": "python",
   "pygments_lexer": "ipython3",
   "version": "3.12.4"
  }
 },
 "nbformat": 4,
 "nbformat_minor": 2
}
