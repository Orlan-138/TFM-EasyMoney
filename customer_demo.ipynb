{
 "cells": [
  {
   "cell_type": "code",
   "execution_count": 1,
   "metadata": {},
   "outputs": [],
   "source": [
    "# Importamos las librerias necesarias.\n",
    "import pandas as pd\n",
    "import numpy as np\n",
    "import matplotlib.pyplot as plt\n",
    "import seaborn as sns\n",
    "from sklearn.preprocessing import LabelEncoder,MinMaxScaler, OrdinalEncoder"
   ]
  },
  {
   "cell_type": "code",
   "execution_count": 17,
   "metadata": {},
   "outputs": [],
   "source": [
    "df_cd = pd.read_csv('/Users/alinaoganesyan/Desktop/Master Data Science/Entregables/Proyecto final/Recursos  Proyecto final-20240502/datasets_TFM + diccionario/customer_sociodemographics.csv', index_col=0)"
   ]
  },
  {
   "cell_type": "code",
   "execution_count": 18,
   "metadata": {},
   "outputs": [
    {
     "name": "stdout",
     "output_type": "stream",
     "text": [
      "<class 'pandas.core.frame.DataFrame'>\n",
      "Index: 5962924 entries, 0 to 13647308\n",
      "Data columns (total 8 columns):\n",
      " #   Column        Dtype  \n",
      "---  ------        -----  \n",
      " 0   pk_cid        int64  \n",
      " 1   pk_partition  object \n",
      " 2   country_id    object \n",
      " 3   region_code   float64\n",
      " 4   gender        object \n",
      " 5   age           int64  \n",
      " 6   deceased      object \n",
      " 7   salary        float64\n",
      "dtypes: float64(2), int64(2), object(4)\n",
      "memory usage: 409.4+ MB\n"
     ]
    }
   ],
   "source": [
    "df_cd.info()"
   ]
  },
  {
   "cell_type": "code",
   "execution_count": 19,
   "metadata": {},
   "outputs": [
    {
     "data": {
      "text/plain": [
       "pk_cid                0\n",
       "pk_partition          0\n",
       "country_id            0\n",
       "region_code        2264\n",
       "gender               25\n",
       "age                   0\n",
       "deceased              0\n",
       "salary          1541104\n",
       "dtype: int64"
      ]
     },
     "execution_count": 19,
     "metadata": {},
     "output_type": "execute_result"
    }
   ],
   "source": [
    "df_cd.isna().sum()"
   ]
  },
  {
   "cell_type": "code",
   "execution_count": 20,
   "metadata": {},
   "outputs": [
    {
     "data": {
      "text/plain": [
       "'2019-05'"
      ]
     },
     "execution_count": 20,
     "metadata": {},
     "output_type": "execute_result"
    }
   ],
   "source": [
    "#sacamos la partición más alta\n",
    "df_cd[\"pk_partition\"].max()"
   ]
  },
  {
   "cell_type": "code",
   "execution_count": 21,
   "metadata": {},
   "outputs": [
    {
     "data": {
      "text/html": [
       "<div>\n",
       "<style scoped>\n",
       "    .dataframe tbody tr th:only-of-type {\n",
       "        vertical-align: middle;\n",
       "    }\n",
       "\n",
       "    .dataframe tbody tr th {\n",
       "        vertical-align: top;\n",
       "    }\n",
       "\n",
       "    .dataframe thead th {\n",
       "        text-align: right;\n",
       "    }\n",
       "</style>\n",
       "<table border=\"1\" class=\"dataframe\">\n",
       "  <thead>\n",
       "    <tr style=\"text-align: right;\">\n",
       "      <th></th>\n",
       "      <th>pk_cid</th>\n",
       "      <th>pk_partition</th>\n",
       "      <th>country_id</th>\n",
       "      <th>region_code</th>\n",
       "      <th>gender</th>\n",
       "      <th>age</th>\n",
       "      <th>deceased</th>\n",
       "      <th>salary</th>\n",
       "    </tr>\n",
       "  </thead>\n",
       "  <tbody>\n",
       "    <tr>\n",
       "      <th>12715896</th>\n",
       "      <td>657826</td>\n",
       "      <td>2019-05</td>\n",
       "      <td>ES</td>\n",
       "      <td>25.0</td>\n",
       "      <td>H</td>\n",
       "      <td>44</td>\n",
       "      <td>N</td>\n",
       "      <td>54493.38</td>\n",
       "    </tr>\n",
       "    <tr>\n",
       "      <th>12715899</th>\n",
       "      <td>657817</td>\n",
       "      <td>2019-05</td>\n",
       "      <td>ES</td>\n",
       "      <td>8.0</td>\n",
       "      <td>V</td>\n",
       "      <td>32</td>\n",
       "      <td>N</td>\n",
       "      <td>NaN</td>\n",
       "    </tr>\n",
       "    <tr>\n",
       "      <th>12715982</th>\n",
       "      <td>657986</td>\n",
       "      <td>2019-05</td>\n",
       "      <td>ES</td>\n",
       "      <td>41.0</td>\n",
       "      <td>H</td>\n",
       "      <td>39</td>\n",
       "      <td>N</td>\n",
       "      <td>100993.17</td>\n",
       "    </tr>\n",
       "    <tr>\n",
       "      <th>12716026</th>\n",
       "      <td>657905</td>\n",
       "      <td>2019-05</td>\n",
       "      <td>ES</td>\n",
       "      <td>28.0</td>\n",
       "      <td>H</td>\n",
       "      <td>85</td>\n",
       "      <td>N</td>\n",
       "      <td>154059.09</td>\n",
       "    </tr>\n",
       "    <tr>\n",
       "      <th>12716082</th>\n",
       "      <td>657336</td>\n",
       "      <td>2019-05</td>\n",
       "      <td>ES</td>\n",
       "      <td>28.0</td>\n",
       "      <td>V</td>\n",
       "      <td>38</td>\n",
       "      <td>N</td>\n",
       "      <td>NaN</td>\n",
       "    </tr>\n",
       "    <tr>\n",
       "      <th>...</th>\n",
       "      <td>...</td>\n",
       "      <td>...</td>\n",
       "      <td>...</td>\n",
       "      <td>...</td>\n",
       "      <td>...</td>\n",
       "      <td>...</td>\n",
       "      <td>...</td>\n",
       "      <td>...</td>\n",
       "    </tr>\n",
       "    <tr>\n",
       "      <th>13647304</th>\n",
       "      <td>1166765</td>\n",
       "      <td>2019-05</td>\n",
       "      <td>ES</td>\n",
       "      <td>50.0</td>\n",
       "      <td>V</td>\n",
       "      <td>22</td>\n",
       "      <td>N</td>\n",
       "      <td>43912.17</td>\n",
       "    </tr>\n",
       "    <tr>\n",
       "      <th>13647305</th>\n",
       "      <td>1166764</td>\n",
       "      <td>2019-05</td>\n",
       "      <td>ES</td>\n",
       "      <td>26.0</td>\n",
       "      <td>V</td>\n",
       "      <td>23</td>\n",
       "      <td>N</td>\n",
       "      <td>23334.99</td>\n",
       "    </tr>\n",
       "    <tr>\n",
       "      <th>13647306</th>\n",
       "      <td>1166763</td>\n",
       "      <td>2019-05</td>\n",
       "      <td>ES</td>\n",
       "      <td>50.0</td>\n",
       "      <td>H</td>\n",
       "      <td>47</td>\n",
       "      <td>N</td>\n",
       "      <td>NaN</td>\n",
       "    </tr>\n",
       "    <tr>\n",
       "      <th>13647307</th>\n",
       "      <td>1166789</td>\n",
       "      <td>2019-05</td>\n",
       "      <td>ES</td>\n",
       "      <td>50.0</td>\n",
       "      <td>H</td>\n",
       "      <td>22</td>\n",
       "      <td>N</td>\n",
       "      <td>199592.82</td>\n",
       "    </tr>\n",
       "    <tr>\n",
       "      <th>13647308</th>\n",
       "      <td>1550586</td>\n",
       "      <td>2019-05</td>\n",
       "      <td>ES</td>\n",
       "      <td>28.0</td>\n",
       "      <td>H</td>\n",
       "      <td>37</td>\n",
       "      <td>N</td>\n",
       "      <td>NaN</td>\n",
       "    </tr>\n",
       "  </tbody>\n",
       "</table>\n",
       "<p>442995 rows × 8 columns</p>\n",
       "</div>"
      ],
      "text/plain": [
       "           pk_cid pk_partition country_id  region_code gender  age deceased  \\\n",
       "12715896   657826      2019-05         ES         25.0      H   44        N   \n",
       "12715899   657817      2019-05         ES          8.0      V   32        N   \n",
       "12715982   657986      2019-05         ES         41.0      H   39        N   \n",
       "12716026   657905      2019-05         ES         28.0      H   85        N   \n",
       "12716082   657336      2019-05         ES         28.0      V   38        N   \n",
       "...           ...          ...        ...          ...    ...  ...      ...   \n",
       "13647304  1166765      2019-05         ES         50.0      V   22        N   \n",
       "13647305  1166764      2019-05         ES         26.0      V   23        N   \n",
       "13647306  1166763      2019-05         ES         50.0      H   47        N   \n",
       "13647307  1166789      2019-05         ES         50.0      H   22        N   \n",
       "13647308  1550586      2019-05         ES         28.0      H   37        N   \n",
       "\n",
       "             salary  \n",
       "12715896   54493.38  \n",
       "12715899        NaN  \n",
       "12715982  100993.17  \n",
       "12716026  154059.09  \n",
       "12716082        NaN  \n",
       "...             ...  \n",
       "13647304   43912.17  \n",
       "13647305   23334.99  \n",
       "13647306        NaN  \n",
       "13647307  199592.82  \n",
       "13647308        NaN  \n",
       "\n",
       "[442995 rows x 8 columns]"
      ]
     },
     "execution_count": 21,
     "metadata": {},
     "output_type": "execute_result"
    }
   ],
   "source": [
    "#nos quedamos con la partición más alta\n",
    "df_cd[df_cd[\"pk_partition\"] == '2019-05']"
   ]
  },
  {
   "cell_type": "code",
   "execution_count": 22,
   "metadata": {},
   "outputs": [],
   "source": [
    "#lo guardamos en nuevo df \n",
    "\n",
    "df_cd_last_p = df_cd[df_cd[\"pk_partition\"] == '2019-05']"
   ]
  },
  {
   "cell_type": "code",
   "execution_count": 23,
   "metadata": {},
   "outputs": [
    {
     "name": "stdout",
     "output_type": "stream",
     "text": [
      "<class 'pandas.core.frame.DataFrame'>\n",
      "Index: 442995 entries, 12715896 to 13647308\n",
      "Data columns (total 8 columns):\n",
      " #   Column        Non-Null Count   Dtype  \n",
      "---  ------        --------------   -----  \n",
      " 0   pk_cid        442995 non-null  int64  \n",
      " 1   pk_partition  442995 non-null  object \n",
      " 2   country_id    442995 non-null  object \n",
      " 3   region_code   442833 non-null  float64\n",
      " 4   gender        442993 non-null  object \n",
      " 5   age           442995 non-null  int64  \n",
      " 6   deceased      442995 non-null  object \n",
      " 7   salary        293468 non-null  float64\n",
      "dtypes: float64(2), int64(2), object(4)\n",
      "memory usage: 30.4+ MB\n"
     ]
    }
   ],
   "source": [
    "df_cd_last_p.info()"
   ]
  },
  {
   "cell_type": "code",
   "execution_count": 24,
   "metadata": {},
   "outputs": [
    {
     "data": {
      "text/plain": [
       "pk_cid               0\n",
       "pk_partition         0\n",
       "country_id           0\n",
       "region_code        162\n",
       "gender               2\n",
       "age                  0\n",
       "deceased             0\n",
       "salary          149527\n",
       "dtype: int64"
      ]
     },
     "execution_count": 24,
     "metadata": {},
     "output_type": "execute_result"
    }
   ],
   "source": [
    "df_cd_last_p.isna().sum()"
   ]
  },
  {
   "cell_type": "code",
   "execution_count": 27,
   "metadata": {},
   "outputs": [],
   "source": [
    "df_cd_last_p.reset_index(drop = True, inplace = True)"
   ]
  },
  {
   "cell_type": "code",
   "execution_count": 28,
   "metadata": {},
   "outputs": [
    {
     "name": "stdout",
     "output_type": "stream",
     "text": [
      "<class 'pandas.core.frame.DataFrame'>\n",
      "RangeIndex: 442995 entries, 0 to 442994\n",
      "Data columns (total 8 columns):\n",
      " #   Column        Non-Null Count   Dtype \n",
      "---  ------        --------------   ----- \n",
      " 0   pk_cid        442995 non-null  int64 \n",
      " 1   pk_partition  442995 non-null  object\n",
      " 2   country_id    442995 non-null  object\n",
      " 3   region_code   442995 non-null  object\n",
      " 4   gender        442995 non-null  object\n",
      " 5   age           442995 non-null  int64 \n",
      " 6   deceased      442995 non-null  object\n",
      " 7   salary        442995 non-null  object\n",
      "dtypes: int64(2), object(6)\n",
      "memory usage: 27.0+ MB\n"
     ]
    }
   ],
   "source": [
    "df_cd_last_p.info()"
   ]
  },
  {
   "cell_type": "code",
   "execution_count": 25,
   "metadata": {},
   "outputs": [
    {
     "name": "stderr",
     "output_type": "stream",
     "text": [
      "/var/folders/pb/jt3p2kyx2hx__2r9dsl0gsv80000gn/T/ipykernel_22465/3379642225.py:2: FutureWarning: A value is trying to be set on a copy of a DataFrame or Series through chained assignment using an inplace method.\n",
      "The behavior will change in pandas 3.0. This inplace method will never work because the intermediate object on which we are setting values always behaves as a copy.\n",
      "\n",
      "For example, when doing 'df[col].method(value, inplace=True)', try using 'df.method({col: value}, inplace=True)' or df[col] = df[col].method(value) instead, to perform the operation inplace on the original object.\n",
      "\n",
      "\n",
      "  df_cd_last_p[col].fillna('not informed', inplace = True)\n",
      "/var/folders/pb/jt3p2kyx2hx__2r9dsl0gsv80000gn/T/ipykernel_22465/3379642225.py:2: FutureWarning: Setting an item of incompatible dtype is deprecated and will raise an error in a future version of pandas. Value 'not informed' has dtype incompatible with float64, please explicitly cast to a compatible dtype first.\n",
      "  df_cd_last_p[col].fillna('not informed', inplace = True)\n",
      "/var/folders/pb/jt3p2kyx2hx__2r9dsl0gsv80000gn/T/ipykernel_22465/3379642225.py:2: SettingWithCopyWarning: \n",
      "A value is trying to be set on a copy of a slice from a DataFrame\n",
      "\n",
      "See the caveats in the documentation: https://pandas.pydata.org/pandas-docs/stable/user_guide/indexing.html#returning-a-view-versus-a-copy\n",
      "  df_cd_last_p[col].fillna('not informed', inplace = True)\n"
     ]
    }
   ],
   "source": [
    "for col in ['region_code', 'gender', 'salary']:\n",
    "    df_cd_last_p[col].fillna('not informed', inplace = True)"
   ]
  },
  {
   "cell_type": "code",
   "execution_count": 29,
   "metadata": {},
   "outputs": [
    {
     "data": {
      "text/plain": [
       "pk_cid          0\n",
       "pk_partition    0\n",
       "country_id      0\n",
       "region_code     0\n",
       "gender          0\n",
       "age             0\n",
       "deceased        0\n",
       "salary          0\n",
       "dtype: int64"
      ]
     },
     "execution_count": 29,
     "metadata": {},
     "output_type": "execute_result"
    }
   ],
   "source": [
    "df_cd_last_p.isna().sum()"
   ]
  },
  {
   "cell_type": "code",
   "execution_count": null,
   "metadata": {},
   "outputs": [],
   "source": []
  }
 ],
 "metadata": {
  "kernelspec": {
   "display_name": "Python 3",
   "language": "python",
   "name": "python3"
  },
  "language_info": {
   "codemirror_mode": {
    "name": "ipython",
    "version": 3
   },
   "file_extension": ".py",
   "mimetype": "text/x-python",
   "name": "python",
   "nbconvert_exporter": "python",
   "pygments_lexer": "ipython3",
   "version": "3.12.2"
  }
 },
 "nbformat": 4,
 "nbformat_minor": 2
}
