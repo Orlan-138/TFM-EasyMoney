{
 "cells": [
  {
   "cell_type": "markdown",
   "metadata": {},
   "source": [
    "# MERGE DE TABLAS sales.csv y product_description.csv"
   ]
  },
  {
   "cell_type": "markdown",
   "metadata": {},
   "source": [
    "## Importar librerías necesarias."
   ]
  },
  {
   "cell_type": "code",
   "execution_count": 43,
   "metadata": {},
   "outputs": [],
   "source": [
    "import os\n",
    "import pandas as pd\n",
    "import numpy as np"
   ]
  },
  {
   "cell_type": "markdown",
   "metadata": {},
   "source": [
    "## Obtener dataframes."
   ]
  },
  {
   "cell_type": "code",
   "execution_count": 44,
   "metadata": {},
   "outputs": [
    {
     "name": "stdout",
     "output_type": "stream",
     "text": [
      "current path: c:\\Users\\odoto\\OneDrive\\Documentos\\EasyMoney\\TFM-EasyMoney\\sales\n",
      "parent path: c:\\Users\\odoto\\OneDrive\\Documentos\\EasyMoney\\TFM-EasyMoney\n",
      "file 1: c:\\Users\\odoto\\OneDrive\\Documentos\\EasyMoney\\TFM-EasyMoney\\data\\sales.csv\n",
      "file 2: c:\\Users\\odoto\\OneDrive\\Documentos\\EasyMoney\\TFM-EasyMoney\\data\\product_description.csv\n"
     ]
    }
   ],
   "source": [
    "# Obtener el directorio de trabajo actual\n",
    "current_dir = os.getcwd()\n",
    "\n",
    "# Ir a la carpeta anterior del directorio actual porque ahí se encuentra la carpeta 'data' donde están todos los ficheros .csv\n",
    "parent_dir = os.path.dirname(current_dir)\n",
    "\n",
    "DATA_PATH = os.path.join(parent_dir, 'data') # Ruta donde están los ficheros .csv\n",
    "\n",
    "FILE_NAME1 = 'sales.csv'\n",
    "FILE_NAME2 = 'product_description.csv'\n",
    "FILE1 = os.path.join(DATA_PATH, FILE_NAME1)\n",
    "FILE2 = os.path.join(DATA_PATH, FILE_NAME2)\n",
    "print('current path:', current_dir)\n",
    "print('parent path:', parent_dir)\n",
    "print('file 1:', FILE1)\n",
    "print('file 2:', FILE2)"
   ]
  },
  {
   "cell_type": "code",
   "execution_count": 45,
   "metadata": {},
   "outputs": [],
   "source": [
    "df_sales = pd.read_csv(FILE1, index_col=0)\n",
    "df_prod_desc = pd.read_csv(FILE2, index_col=0)"
   ]
  },
  {
   "cell_type": "markdown",
   "metadata": {},
   "source": [
    "## Merge de dataframes."
   ]
  },
  {
   "cell_type": "code",
   "execution_count": 46,
   "metadata": {},
   "outputs": [],
   "source": [
    "df_merged = pd.merge(df_sales, df_prod_desc, left_on='product_ID', right_on='pk_product_ID', how='left')"
   ]
  },
  {
   "cell_type": "code",
   "execution_count": 47,
   "metadata": {},
   "outputs": [
    {
     "name": "stdout",
     "output_type": "stream",
     "text": [
      "<class 'pandas.core.frame.DataFrame'>\n",
      "RangeIndex: 240773 entries, 0 to 240772\n",
      "Data columns (total 8 columns):\n",
      " #   Column          Non-Null Count   Dtype  \n",
      "---  ------          --------------   -----  \n",
      " 0   pk_sale         240773 non-null  int64  \n",
      " 1   cid             240773 non-null  int64  \n",
      " 2   month_sale      240773 non-null  object \n",
      " 3   product_ID      240773 non-null  int64  \n",
      " 4   net_margin      240773 non-null  float64\n",
      " 5   pk_product_ID   240773 non-null  int64  \n",
      " 6   product_desc    240773 non-null  object \n",
      " 7   family_product  240773 non-null  object \n",
      "dtypes: float64(1), int64(4), object(3)\n",
      "memory usage: 14.7+ MB\n"
     ]
    }
   ],
   "source": [
    "df_merged.info()"
   ]
  },
  {
   "cell_type": "code",
   "execution_count": 48,
   "metadata": {},
   "outputs": [
    {
     "data": {
      "text/html": [
       "<div>\n",
       "<style scoped>\n",
       "    .dataframe tbody tr th:only-of-type {\n",
       "        vertical-align: middle;\n",
       "    }\n",
       "\n",
       "    .dataframe tbody tr th {\n",
       "        vertical-align: top;\n",
       "    }\n",
       "\n",
       "    .dataframe thead th {\n",
       "        text-align: right;\n",
       "    }\n",
       "</style>\n",
       "<table border=\"1\" class=\"dataframe\">\n",
       "  <thead>\n",
       "    <tr style=\"text-align: right;\">\n",
       "      <th></th>\n",
       "      <th>pk_sale</th>\n",
       "      <th>cid</th>\n",
       "      <th>month_sale</th>\n",
       "      <th>product_ID</th>\n",
       "      <th>net_margin</th>\n",
       "      <th>pk_product_ID</th>\n",
       "      <th>product_desc</th>\n",
       "      <th>family_product</th>\n",
       "    </tr>\n",
       "  </thead>\n",
       "  <tbody>\n",
       "    <tr>\n",
       "      <th>0</th>\n",
       "      <td>6666</td>\n",
       "      <td>33620</td>\n",
       "      <td>2018-05-01</td>\n",
       "      <td>2335</td>\n",
       "      <td>952.9</td>\n",
       "      <td>2335</td>\n",
       "      <td>short_term_deposit</td>\n",
       "      <td>investment</td>\n",
       "    </tr>\n",
       "    <tr>\n",
       "      <th>1</th>\n",
       "      <td>6667</td>\n",
       "      <td>35063</td>\n",
       "      <td>2018-06-01</td>\n",
       "      <td>2335</td>\n",
       "      <td>1625.2</td>\n",
       "      <td>2335</td>\n",
       "      <td>short_term_deposit</td>\n",
       "      <td>investment</td>\n",
       "    </tr>\n",
       "    <tr>\n",
       "      <th>2</th>\n",
       "      <td>6668</td>\n",
       "      <td>37299</td>\n",
       "      <td>2018-02-01</td>\n",
       "      <td>2335</td>\n",
       "      <td>1279.7</td>\n",
       "      <td>2335</td>\n",
       "      <td>short_term_deposit</td>\n",
       "      <td>investment</td>\n",
       "    </tr>\n",
       "    <tr>\n",
       "      <th>3</th>\n",
       "      <td>6669</td>\n",
       "      <td>39997</td>\n",
       "      <td>2018-02-01</td>\n",
       "      <td>2335</td>\n",
       "      <td>1511.9</td>\n",
       "      <td>2335</td>\n",
       "      <td>short_term_deposit</td>\n",
       "      <td>investment</td>\n",
       "    </tr>\n",
       "    <tr>\n",
       "      <th>4</th>\n",
       "      <td>6670</td>\n",
       "      <td>44012</td>\n",
       "      <td>2018-02-01</td>\n",
       "      <td>2335</td>\n",
       "      <td>1680.3</td>\n",
       "      <td>2335</td>\n",
       "      <td>short_term_deposit</td>\n",
       "      <td>investment</td>\n",
       "    </tr>\n",
       "    <tr>\n",
       "      <th>...</th>\n",
       "      <td>...</td>\n",
       "      <td>...</td>\n",
       "      <td>...</td>\n",
       "      <td>...</td>\n",
       "      <td>...</td>\n",
       "      <td>...</td>\n",
       "      <td>...</td>\n",
       "      <td>...</td>\n",
       "    </tr>\n",
       "    <tr>\n",
       "      <th>240768</th>\n",
       "      <td>247434</td>\n",
       "      <td>1553456</td>\n",
       "      <td>2019-05-01</td>\n",
       "      <td>4657</td>\n",
       "      <td>56.7</td>\n",
       "      <td>4657</td>\n",
       "      <td>em_acount</td>\n",
       "      <td>account</td>\n",
       "    </tr>\n",
       "    <tr>\n",
       "      <th>240769</th>\n",
       "      <td>247435</td>\n",
       "      <td>1553541</td>\n",
       "      <td>2019-05-01</td>\n",
       "      <td>4657</td>\n",
       "      <td>66.5</td>\n",
       "      <td>4657</td>\n",
       "      <td>em_acount</td>\n",
       "      <td>account</td>\n",
       "    </tr>\n",
       "    <tr>\n",
       "      <th>240770</th>\n",
       "      <td>247436</td>\n",
       "      <td>1553559</td>\n",
       "      <td>2019-05-01</td>\n",
       "      <td>4657</td>\n",
       "      <td>73.0</td>\n",
       "      <td>4657</td>\n",
       "      <td>em_acount</td>\n",
       "      <td>account</td>\n",
       "    </tr>\n",
       "    <tr>\n",
       "      <th>240771</th>\n",
       "      <td>247437</td>\n",
       "      <td>1553565</td>\n",
       "      <td>2019-05-01</td>\n",
       "      <td>4657</td>\n",
       "      <td>82.3</td>\n",
       "      <td>4657</td>\n",
       "      <td>em_acount</td>\n",
       "      <td>account</td>\n",
       "    </tr>\n",
       "    <tr>\n",
       "      <th>240772</th>\n",
       "      <td>247438</td>\n",
       "      <td>1553571</td>\n",
       "      <td>2019-05-01</td>\n",
       "      <td>4657</td>\n",
       "      <td>84.4</td>\n",
       "      <td>4657</td>\n",
       "      <td>em_acount</td>\n",
       "      <td>account</td>\n",
       "    </tr>\n",
       "  </tbody>\n",
       "</table>\n",
       "<p>240773 rows × 8 columns</p>\n",
       "</div>"
      ],
      "text/plain": [
       "        pk_sale      cid  month_sale  product_ID  net_margin  pk_product_ID  \\\n",
       "0          6666    33620  2018-05-01        2335       952.9           2335   \n",
       "1          6667    35063  2018-06-01        2335      1625.2           2335   \n",
       "2          6668    37299  2018-02-01        2335      1279.7           2335   \n",
       "3          6669    39997  2018-02-01        2335      1511.9           2335   \n",
       "4          6670    44012  2018-02-01        2335      1680.3           2335   \n",
       "...         ...      ...         ...         ...         ...            ...   \n",
       "240768   247434  1553456  2019-05-01        4657        56.7           4657   \n",
       "240769   247435  1553541  2019-05-01        4657        66.5           4657   \n",
       "240770   247436  1553559  2019-05-01        4657        73.0           4657   \n",
       "240771   247437  1553565  2019-05-01        4657        82.3           4657   \n",
       "240772   247438  1553571  2019-05-01        4657        84.4           4657   \n",
       "\n",
       "              product_desc family_product  \n",
       "0       short_term_deposit     investment  \n",
       "1       short_term_deposit     investment  \n",
       "2       short_term_deposit     investment  \n",
       "3       short_term_deposit     investment  \n",
       "4       short_term_deposit     investment  \n",
       "...                    ...            ...  \n",
       "240768           em_acount        account  \n",
       "240769           em_acount        account  \n",
       "240770           em_acount        account  \n",
       "240771           em_acount        account  \n",
       "240772           em_acount        account  \n",
       "\n",
       "[240773 rows x 8 columns]"
      ]
     },
     "execution_count": 48,
     "metadata": {},
     "output_type": "execute_result"
    }
   ],
   "source": [
    "df_merged"
   ]
  },
  {
   "cell_type": "markdown",
   "metadata": {},
   "source": [
    "## Comprobación de variables."
   ]
  },
  {
   "cell_type": "code",
   "execution_count": 49,
   "metadata": {},
   "outputs": [
    {
     "data": {
      "text/html": [
       "<div>\n",
       "<style scoped>\n",
       "    .dataframe tbody tr th:only-of-type {\n",
       "        vertical-align: middle;\n",
       "    }\n",
       "\n",
       "    .dataframe tbody tr th {\n",
       "        vertical-align: top;\n",
       "    }\n",
       "\n",
       "    .dataframe thead th {\n",
       "        text-align: right;\n",
       "    }\n",
       "</style>\n",
       "<table border=\"1\" class=\"dataframe\">\n",
       "  <thead>\n",
       "    <tr style=\"text-align: right;\">\n",
       "      <th></th>\n",
       "      <th>pk_sale</th>\n",
       "      <th>cid</th>\n",
       "      <th>month_sale</th>\n",
       "      <th>product_ID</th>\n",
       "      <th>net_margin</th>\n",
       "      <th>pk_product_ID</th>\n",
       "      <th>product_desc</th>\n",
       "      <th>family_product</th>\n",
       "    </tr>\n",
       "  </thead>\n",
       "  <tbody>\n",
       "  </tbody>\n",
       "</table>\n",
       "</div>"
      ],
      "text/plain": [
       "Empty DataFrame\n",
       "Columns: [pk_sale, cid, month_sale, product_ID, net_margin, pk_product_ID, product_desc, family_product]\n",
       "Index: []"
      ]
     },
     "execution_count": 49,
     "metadata": {},
     "output_type": "execute_result"
    }
   ],
   "source": [
    "# No hay duplicados\n",
    "df_merged[df_merged.duplicated(keep=False)]"
   ]
  },
  {
   "cell_type": "code",
   "execution_count": 50,
   "metadata": {},
   "outputs": [
    {
     "data": {
      "text/plain": [
       "pk_sale           0\n",
       "cid               0\n",
       "month_sale        0\n",
       "product_ID        0\n",
       "net_margin        0\n",
       "pk_product_ID     0\n",
       "product_desc      0\n",
       "family_product    0\n",
       "dtype: int64"
      ]
     },
     "execution_count": 50,
     "metadata": {},
     "output_type": "execute_result"
    }
   ],
   "source": [
    "# No hay nulos\n",
    "df_merged.isna().sum()\n"
   ]
  },
  {
   "cell_type": "code",
   "execution_count": 51,
   "metadata": {},
   "outputs": [],
   "source": [
    "# Eliminamos la columna 'pk_product_ID' porque tiene la misma información que 'product_ID'\n",
    "df_merged.drop(columns=['pk_product_ID'], inplace=True, errors='ignore')"
   ]
  },
  {
   "cell_type": "code",
   "execution_count": 52,
   "metadata": {},
   "outputs": [],
   "source": [
    "# Cambiamos el tipo de los registros de la variable 'month_sale' a datetime.\n",
    "df_merged['month_sale'] = pd.to_datetime(df_merged['month_sale'])"
   ]
  },
  {
   "cell_type": "code",
   "execution_count": 53,
   "metadata": {},
   "outputs": [
    {
     "name": "stdout",
     "output_type": "stream",
     "text": [
      "<class 'pandas.core.frame.DataFrame'>\n",
      "RangeIndex: 240773 entries, 0 to 240772\n",
      "Data columns (total 7 columns):\n",
      " #   Column          Non-Null Count   Dtype         \n",
      "---  ------          --------------   -----         \n",
      " 0   pk_sale         240773 non-null  int64         \n",
      " 1   cid             240773 non-null  int64         \n",
      " 2   month_sale      240773 non-null  datetime64[ns]\n",
      " 3   product_ID      240773 non-null  int64         \n",
      " 4   net_margin      240773 non-null  float64       \n",
      " 5   product_desc    240773 non-null  object        \n",
      " 6   family_product  240773 non-null  object        \n",
      "dtypes: datetime64[ns](1), float64(1), int64(3), object(2)\n",
      "memory usage: 12.9+ MB\n"
     ]
    }
   ],
   "source": [
    "df_merged.info()"
   ]
  },
  {
   "cell_type": "markdown",
   "metadata": {},
   "source": [
    "## Exportamos a un nuevo fichero .csv"
   ]
  },
  {
   "cell_type": "code",
   "execution_count": 54,
   "metadata": {},
   "outputs": [],
   "source": [
    "df_merged.to_csv(DATA_PATH + '\\\\merge_sales_prod_desc_clean.csv', index=False)"
   ]
  }
 ],
 "metadata": {
  "kernelspec": {
   "display_name": "Python 3",
   "language": "python",
   "name": "python3"
  },
  "language_info": {
   "codemirror_mode": {
    "name": "ipython",
    "version": 3
   },
   "file_extension": ".py",
   "mimetype": "text/x-python",
   "name": "python",
   "nbconvert_exporter": "python",
   "pygments_lexer": "ipython3",
   "version": "3.12.2"
  }
 },
 "nbformat": 4,
 "nbformat_minor": 2
}
